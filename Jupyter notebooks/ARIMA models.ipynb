{
 "cells": [
  {
   "cell_type": "markdown",
   "id": "13172590",
   "metadata": {},
   "source": [
    "### Importing libraries"
   ]
  },
  {
   "cell_type": "code",
   "execution_count": 1,
   "id": "74bb5114",
   "metadata": {},
   "outputs": [],
   "source": [
    "#importing libraries\n",
    "import numpy as np\n",
    "import pandas as pd\n",
    "import matplotlib.pyplot as plt\n",
    "import seaborn as sns\n",
    "import statsmodels.graphics.tsaplots as sgt\n",
    "from scipy.stats.distributions import chi2\n",
    "from statsmodels.tsa.arima.model import ARIMA\n",
    "import statsmodels.tsa.stattools as sts"
   ]
  },
  {
   "cell_type": "markdown",
   "id": "1a653190",
   "metadata": {},
   "source": [
    "### Importing data and preprocessing"
   ]
  },
  {
   "cell_type": "code",
   "execution_count": 2,
   "id": "7d0b9e53",
   "metadata": {},
   "outputs": [
    {
     "data": {
      "text/html": [
       "<div>\n",
       "<style scoped>\n",
       "    .dataframe tbody tr th:only-of-type {\n",
       "        vertical-align: middle;\n",
       "    }\n",
       "\n",
       "    .dataframe tbody tr th {\n",
       "        vertical-align: top;\n",
       "    }\n",
       "\n",
       "    .dataframe thead th {\n",
       "        text-align: right;\n",
       "    }\n",
       "</style>\n",
       "<table border=\"1\" class=\"dataframe\">\n",
       "  <thead>\n",
       "    <tr style=\"text-align: right;\">\n",
       "      <th></th>\n",
       "      <th>spx</th>\n",
       "      <th>dax</th>\n",
       "      <th>ftse</th>\n",
       "      <th>nikkei</th>\n",
       "    </tr>\n",
       "    <tr>\n",
       "      <th>date</th>\n",
       "      <th></th>\n",
       "      <th></th>\n",
       "      <th></th>\n",
       "      <th></th>\n",
       "    </tr>\n",
       "  </thead>\n",
       "  <tbody>\n",
       "    <tr>\n",
       "      <th>1994-01-07</th>\n",
       "      <td>469.900000</td>\n",
       "      <td>2224.95</td>\n",
       "      <td>3445.980000</td>\n",
       "      <td>18124.01</td>\n",
       "    </tr>\n",
       "    <tr>\n",
       "      <th>1994-01-10</th>\n",
       "      <td>475.270000</td>\n",
       "      <td>2225.00</td>\n",
       "      <td>3440.580000</td>\n",
       "      <td>18443.44</td>\n",
       "    </tr>\n",
       "    <tr>\n",
       "      <th>1994-01-11</th>\n",
       "      <td>474.130000</td>\n",
       "      <td>2228.10</td>\n",
       "      <td>3413.770000</td>\n",
       "      <td>18485.25</td>\n",
       "    </tr>\n",
       "    <tr>\n",
       "      <th>1994-01-12</th>\n",
       "      <td>474.170000</td>\n",
       "      <td>2182.06</td>\n",
       "      <td>3372.020000</td>\n",
       "      <td>18793.88</td>\n",
       "    </tr>\n",
       "    <tr>\n",
       "      <th>1994-01-13</th>\n",
       "      <td>472.470000</td>\n",
       "      <td>2142.37</td>\n",
       "      <td>3360.010000</td>\n",
       "      <td>18577.26</td>\n",
       "    </tr>\n",
       "    <tr>\n",
       "      <th>...</th>\n",
       "      <td>...</td>\n",
       "      <td>...</td>\n",
       "      <td>...</td>\n",
       "      <td>...</td>\n",
       "    </tr>\n",
       "    <tr>\n",
       "      <th>2018-01-23</th>\n",
       "      <td>2839.130362</td>\n",
       "      <td>13559.60</td>\n",
       "      <td>7731.827774</td>\n",
       "      <td>24124.15</td>\n",
       "    </tr>\n",
       "    <tr>\n",
       "      <th>2018-01-24</th>\n",
       "      <td>2837.544008</td>\n",
       "      <td>13414.74</td>\n",
       "      <td>7643.428966</td>\n",
       "      <td>23940.78</td>\n",
       "    </tr>\n",
       "    <tr>\n",
       "      <th>2018-01-25</th>\n",
       "      <td>2839.253031</td>\n",
       "      <td>13298.36</td>\n",
       "      <td>7615.839954</td>\n",
       "      <td>23669.49</td>\n",
       "    </tr>\n",
       "    <tr>\n",
       "      <th>2018-01-26</th>\n",
       "      <td>2872.867839</td>\n",
       "      <td>13340.17</td>\n",
       "      <td>7665.541292</td>\n",
       "      <td>23631.88</td>\n",
       "    </tr>\n",
       "    <tr>\n",
       "      <th>2018-01-29</th>\n",
       "      <td>2853.528411</td>\n",
       "      <td>13324.48</td>\n",
       "      <td>7671.533300</td>\n",
       "      <td>23629.34</td>\n",
       "    </tr>\n",
       "  </tbody>\n",
       "</table>\n",
       "<p>6269 rows × 4 columns</p>\n",
       "</div>"
      ],
      "text/plain": [
       "                    spx       dax         ftse    nikkei\n",
       "date                                                    \n",
       "1994-01-07   469.900000   2224.95  3445.980000  18124.01\n",
       "1994-01-10   475.270000   2225.00  3440.580000  18443.44\n",
       "1994-01-11   474.130000   2228.10  3413.770000  18485.25\n",
       "1994-01-12   474.170000   2182.06  3372.020000  18793.88\n",
       "1994-01-13   472.470000   2142.37  3360.010000  18577.26\n",
       "...                 ...       ...          ...       ...\n",
       "2018-01-23  2839.130362  13559.60  7731.827774  24124.15\n",
       "2018-01-24  2837.544008  13414.74  7643.428966  23940.78\n",
       "2018-01-25  2839.253031  13298.36  7615.839954  23669.49\n",
       "2018-01-26  2872.867839  13340.17  7665.541292  23631.88\n",
       "2018-01-29  2853.528411  13324.48  7671.533300  23629.34\n",
       "\n",
       "[6269 rows x 4 columns]"
      ]
     },
     "execution_count": 2,
     "metadata": {},
     "output_type": "execute_result"
    }
   ],
   "source": [
    "#reading in the data and performing basic preprocessing\n",
    "data = pd.read_csv('Index2018.csv')\n",
    "df = data.copy #copying the dataframe\n",
    "df.date = pd.to_datetime(df.date, dayfirst = True) #parsing dates\n",
    "df.set_index('date', inplace = True) #setting date column as index\n",
    "df.asfreq('b') #setting a constant frequency as business days\n",
    "df.fillna('ffill') #filling missing or nan values"
   ]
  },
  {
   "cell_type": "code",
   "execution_count": 3,
   "id": "1c64d40d",
   "metadata": {},
   "outputs": [],
   "source": [
    "# keeping only ftse column and removing rest \n",
    "df['market_value'] = df.ftse\n",
    "#del df['spx']\n",
    "#del df['dax']\n",
    "#del df['ftse']\n",
    "#del df['nikkei']\n",
    "\n",
    "#splitting the data into training and testing data\n",
    "size = int(len(df)*0.8)\n",
    "df_train = df.iloc[:size]\n",
    "df_test = df.iloc[size:]"
   ]
  },
  {
   "cell_type": "code",
   "execution_count": 4,
   "id": "8d841b05",
   "metadata": {},
   "outputs": [],
   "source": [
    "def LLR_test(model_1, model_2, DF = 1):\n",
    "    L1 = model_1.fit().llf\n",
    "    L2 = model_2.fit().llf\n",
    "    LR = 2*(L2-L1)\n",
    "    p = chi2.sf(LR, DF).round(3)\n",
    "    return p"
   ]
  },
  {
   "cell_type": "code",
   "execution_count": 5,
   "id": "f64f80b6",
   "metadata": {},
   "outputs": [],
   "source": [
    "import warnings\n",
    "warnings.filterwarnings('ignore')"
   ]
  },
  {
   "cell_type": "code",
   "execution_count": 6,
   "id": "d32d3b35",
   "metadata": {},
   "outputs": [
    {
     "data": {
      "text/html": [
       "<div>\n",
       "<style scoped>\n",
       "    .dataframe tbody tr th:only-of-type {\n",
       "        vertical-align: middle;\n",
       "    }\n",
       "\n",
       "    .dataframe tbody tr th {\n",
       "        vertical-align: top;\n",
       "    }\n",
       "\n",
       "    .dataframe thead th {\n",
       "        text-align: right;\n",
       "    }\n",
       "</style>\n",
       "<table border=\"1\" class=\"dataframe\">\n",
       "  <thead>\n",
       "    <tr style=\"text-align: right;\">\n",
       "      <th></th>\n",
       "      <th>spx</th>\n",
       "      <th>dax</th>\n",
       "      <th>ftse</th>\n",
       "      <th>nikkei</th>\n",
       "      <th>market_value</th>\n",
       "      <th>returns</th>\n",
       "    </tr>\n",
       "    <tr>\n",
       "      <th>date</th>\n",
       "      <th></th>\n",
       "      <th></th>\n",
       "      <th></th>\n",
       "      <th></th>\n",
       "      <th></th>\n",
       "      <th></th>\n",
       "    </tr>\n",
       "  </thead>\n",
       "  <tbody>\n",
       "    <tr>\n",
       "      <th>1994-01-07</th>\n",
       "      <td>469.90</td>\n",
       "      <td>2224.95</td>\n",
       "      <td>3445.98</td>\n",
       "      <td>18124.01</td>\n",
       "      <td>3445.98</td>\n",
       "      <td>NaN</td>\n",
       "    </tr>\n",
       "    <tr>\n",
       "      <th>1994-01-10</th>\n",
       "      <td>475.27</td>\n",
       "      <td>2225.00</td>\n",
       "      <td>3440.58</td>\n",
       "      <td>18443.44</td>\n",
       "      <td>3440.58</td>\n",
       "      <td>-0.156704</td>\n",
       "    </tr>\n",
       "    <tr>\n",
       "      <th>1994-01-11</th>\n",
       "      <td>474.13</td>\n",
       "      <td>2228.10</td>\n",
       "      <td>3413.77</td>\n",
       "      <td>18485.25</td>\n",
       "      <td>3413.77</td>\n",
       "      <td>-0.779229</td>\n",
       "    </tr>\n",
       "    <tr>\n",
       "      <th>1994-01-12</th>\n",
       "      <td>474.17</td>\n",
       "      <td>2182.06</td>\n",
       "      <td>3372.02</td>\n",
       "      <td>18793.88</td>\n",
       "      <td>3372.02</td>\n",
       "      <td>-1.222988</td>\n",
       "    </tr>\n",
       "    <tr>\n",
       "      <th>1994-01-13</th>\n",
       "      <td>472.47</td>\n",
       "      <td>2142.37</td>\n",
       "      <td>3360.01</td>\n",
       "      <td>18577.26</td>\n",
       "      <td>3360.01</td>\n",
       "      <td>-0.356166</td>\n",
       "    </tr>\n",
       "  </tbody>\n",
       "</table>\n",
       "</div>"
      ],
      "text/plain": [
       "               spx      dax     ftse    nikkei  market_value   returns\n",
       "date                                                                  \n",
       "1994-01-07  469.90  2224.95  3445.98  18124.01       3445.98       NaN\n",
       "1994-01-10  475.27  2225.00  3440.58  18443.44       3440.58 -0.156704\n",
       "1994-01-11  474.13  2228.10  3413.77  18485.25       3413.77 -0.779229\n",
       "1994-01-12  474.17  2182.06  3372.02  18793.88       3372.02 -1.222988\n",
       "1994-01-13  472.47  2142.37  3360.01  18577.26       3360.01 -0.356166"
      ]
     },
     "execution_count": 6,
     "metadata": {},
     "output_type": "execute_result"
    }
   ],
   "source": [
    "#calculating returns\n",
    "df_train['returns'] = (df_train.market_value.pct_change(1)*100)\n",
    "df_train.head()"
   ]
  },
  {
   "cell_type": "markdown",
   "id": "88b7087e",
   "metadata": {},
   "source": [
    "### ARIMA(1,1,1) model"
   ]
  },
  {
   "cell_type": "code",
   "execution_count": 7,
   "id": "3098c42f",
   "metadata": {},
   "outputs": [
    {
     "data": {
      "text/html": [
       "<table class=\"simpletable\">\n",
       "<caption>SARIMAX Results</caption>\n",
       "<tr>\n",
       "  <th>Dep. Variable:</th>     <td>market_value</td>   <th>  No. Observations:  </th>    <td>5015</td>   \n",
       "</tr>\n",
       "<tr>\n",
       "  <th>Model:</th>            <td>ARIMA(1, 1, 1)</td>  <th>  Log Likelihood     </th> <td>-27571.800</td>\n",
       "</tr>\n",
       "<tr>\n",
       "  <th>Date:</th>            <td>Sun, 29 Jan 2023</td> <th>  AIC                </th>  <td>55149.600</td>\n",
       "</tr>\n",
       "<tr>\n",
       "  <th>Time:</th>                <td>00:00:13</td>     <th>  BIC                </th>  <td>55169.160</td>\n",
       "</tr>\n",
       "<tr>\n",
       "  <th>Sample:</th>                  <td>0</td>        <th>  HQIC               </th>  <td>55156.455</td>\n",
       "</tr>\n",
       "<tr>\n",
       "  <th></th>                      <td> - 5015</td>     <th>                     </th>      <td> </td>    \n",
       "</tr>\n",
       "<tr>\n",
       "  <th>Covariance Type:</th>        <td>opg</td>       <th>                     </th>      <td> </td>    \n",
       "</tr>\n",
       "</table>\n",
       "<table class=\"simpletable\">\n",
       "<tr>\n",
       "     <td></td>       <th>coef</th>     <th>std err</th>      <th>z</th>      <th>P>|z|</th>  <th>[0.025</th>    <th>0.975]</th>  \n",
       "</tr>\n",
       "<tr>\n",
       "  <th>ar.L1</th>  <td>    0.7463</td> <td>    0.059</td> <td>   12.739</td> <td> 0.000</td> <td>    0.631</td> <td>    0.861</td>\n",
       "</tr>\n",
       "<tr>\n",
       "  <th>ma.L1</th>  <td>   -0.7925</td> <td>    0.053</td> <td>  -15.036</td> <td> 0.000</td> <td>   -0.896</td> <td>   -0.689</td>\n",
       "</tr>\n",
       "<tr>\n",
       "  <th>sigma2</th> <td> 3498.1594</td> <td>   40.923</td> <td>   85.482</td> <td> 0.000</td> <td> 3417.952</td> <td> 3578.367</td>\n",
       "</tr>\n",
       "</table>\n",
       "<table class=\"simpletable\">\n",
       "<tr>\n",
       "  <th>Ljung-Box (L1) (Q):</th>     <td>2.54</td> <th>  Jarque-Bera (JB):  </th> <td>3327.41</td>\n",
       "</tr>\n",
       "<tr>\n",
       "  <th>Prob(Q):</th>                <td>0.11</td> <th>  Prob(JB):          </th>  <td>0.00</td>  \n",
       "</tr>\n",
       "<tr>\n",
       "  <th>Heteroskedasticity (H):</th> <td>1.90</td> <th>  Skew:              </th>  <td>-0.32</td> \n",
       "</tr>\n",
       "<tr>\n",
       "  <th>Prob(H) (two-sided):</th>    <td>0.00</td> <th>  Kurtosis:          </th>  <td>6.94</td>  \n",
       "</tr>\n",
       "</table><br/><br/>Warnings:<br/>[1] Covariance matrix calculated using the outer product of gradients (complex-step)."
      ],
      "text/plain": [
       "<class 'statsmodels.iolib.summary.Summary'>\n",
       "\"\"\"\n",
       "                               SARIMAX Results                                \n",
       "==============================================================================\n",
       "Dep. Variable:           market_value   No. Observations:                 5015\n",
       "Model:                 ARIMA(1, 1, 1)   Log Likelihood              -27571.800\n",
       "Date:                Sun, 29 Jan 2023   AIC                          55149.600\n",
       "Time:                        00:00:13   BIC                          55169.160\n",
       "Sample:                             0   HQIC                         55156.455\n",
       "                               - 5015                                         \n",
       "Covariance Type:                  opg                                         \n",
       "==============================================================================\n",
       "                 coef    std err          z      P>|z|      [0.025      0.975]\n",
       "------------------------------------------------------------------------------\n",
       "ar.L1          0.7463      0.059     12.739      0.000       0.631       0.861\n",
       "ma.L1         -0.7925      0.053    -15.036      0.000      -0.896      -0.689\n",
       "sigma2      3498.1594     40.923     85.482      0.000    3417.952    3578.367\n",
       "===================================================================================\n",
       "Ljung-Box (L1) (Q):                   2.54   Jarque-Bera (JB):              3327.41\n",
       "Prob(Q):                              0.11   Prob(JB):                         0.00\n",
       "Heteroskedasticity (H):               1.90   Skew:                            -0.32\n",
       "Prob(H) (two-sided):                  0.00   Kurtosis:                         6.94\n",
       "===================================================================================\n",
       "\n",
       "Warnings:\n",
       "[1] Covariance matrix calculated using the outer product of gradients (complex-step).\n",
       "\"\"\""
      ]
     },
     "execution_count": 7,
     "metadata": {},
     "output_type": "execute_result"
    }
   ],
   "source": [
    "model_arima_1_1_1 = ARIMA(df_train.market_value, order=(1,1,1))\n",
    "results_arima_1_1_1 = model_arima_1_1_1.fit()\n",
    "results_arima_1_1_1.summary()"
   ]
  },
  {
   "cell_type": "code",
   "execution_count": 8,
   "id": "afe5db59",
   "metadata": {},
   "outputs": [
    {
     "data": {
      "image/png": "[encoded data removed]",
      "text/plain": [
       "<Figure size 432x288 with 1 Axes>"
      ]
     },
     "metadata": {
      "needs_background": "light"
     },
     "output_type": "display_data"
    }
   ],
   "source": [
    "#checking the residuals and plotting their acf\n",
    "df_train['residuals_prices'] = results_arima_1_1_1.resid\n",
    "sgt.plot_acf(df_train['residuals_prices'][1:],lags = 40, zero = False)\n",
    "plt.title('ACF for residuals prices',size = 13)\n",
    "plt.ylim(-.06,.06)\n",
    "plt.show()"
   ]
  },
  {
   "cell_type": "markdown",
   "id": "eef51d55",
   "metadata": {},
   "source": [
    "### higher order arima models"
   ]
  },
  {
   "cell_type": "code",
   "execution_count": 9,
   "id": "25697370",
   "metadata": {},
   "outputs": [],
   "source": [
    "#seeing the acf of residuals, we would like to look at the models upto ARIMA(4,1,4) i.e., total 16 models\n",
    "#after checking the 16 models, only 5 seem to have all significant coefficients\n",
    "model_arima_1_1_2 = ARIMA(df_train.market_value, order=(1,1,2))\n",
    "results_arima_1_1_2 = model_arima_1_1_2.fit()\n",
    "#results_arima_1_1_2.summary()\n",
    "\n",
    "model_arima_1_1_3 = ARIMA(df_train.market_value, order=(1,1,3))\n",
    "results_arima_1_1_3 = model_arima_1_1_3.fit()\n",
    "#results_arima_1_1_3.summary()\n",
    "\n",
    "model_arima_2_1_1 = ARIMA(df_train.market_value, order=(2,1,1))\n",
    "results_arima_2_1_1 = model_arima_2_1_1.fit()\n",
    "#results_arima_2_1_1.summary()\n",
    "\n",
    "model_arima_3_1_1 = ARIMA(df_train.market_value, order=(3,1,1))\n",
    "results_arima_3_1_1 = model_arima_3_1_1.fit()\n",
    "#results_arima_3_1_1.summary()\n",
    "\n",
    "model_arima_3_1_2 = ARIMA(df_train.market_value, order=(3,1,2))\n",
    "results_arima_3_1_2 = model_arima_3_1_2.fit()\n",
    "#results_arima_3_1_2.summary()"
   ]
  },
  {
   "cell_type": "code",
   "execution_count": 10,
   "id": "b4f36817",
   "metadata": {},
   "outputs": [
    {
     "name": "stdout",
     "output_type": "stream",
     "text": [
      "\n",
      "ARIMA(1,1,1): \tLLR =  -27571.800146910417 \tAIC =  55149.60029382083\n",
      "\n",
      "ARIMA(1,1,2): \tLLR =  -27568.32401112863 \tAIC =  55144.64802225726\n",
      "\n",
      "ARIMA(1,1,3): \tLLR =  -27559.135692221153 \tAIC =  55128.271384442305\n",
      "\n",
      "ARIMA(2,1,1): \tLLR =  -27568.04748297561 \tAIC =  55144.09496595122\n",
      "\n",
      "ARIMA(3,1,1): \tLLR =  -27560.76279729552 \tAIC =  55131.52559459104\n",
      "\n",
      "ARIMA(3,1,2): \tLLR =  -27559.266440739797 \tAIC =  55130.532881479594\n"
     ]
    }
   ],
   "source": [
    "#comparing llf and aic for all 6 models\n",
    "print('\\nARIMA(1,1,1): \\tLLR = ', results_arima_1_1_1.llf, '\\tAIC = ',results_arima_1_1_1.aic)\n",
    "print('\\nARIMA(1,1,2): \\tLLR = ', results_arima_1_1_2.llf, '\\tAIC = ',results_arima_1_1_2.aic)\n",
    "print('\\nARIMA(1,1,3): \\tLLR = ', results_arima_1_1_3.llf, '\\tAIC = ',results_arima_1_1_3.aic)\n",
    "print('\\nARIMA(2,1,1): \\tLLR = ', results_arima_2_1_1.llf, '\\tAIC = ',results_arima_2_1_1.aic)\n",
    "print('\\nARIMA(3,1,1): \\tLLR = ', results_arima_3_1_1.llf, '\\tAIC = ',results_arima_3_1_1.aic)\n",
    "print('\\nARIMA(3,1,2): \\tLLR = ', results_arima_3_1_2.llf, '\\tAIC = ',results_arima_3_1_2.aic)"
   ]
  },
  {
   "cell_type": "code",
   "execution_count": 11,
   "id": "b2277363",
   "metadata": {},
   "outputs": [
    {
     "name": "stdout",
     "output_type": "stream",
     "text": [
      "\n",
      "LLR test between ARIMA(1,1,1) and ARIMA(1,1,3):  0.0\n",
      "\n",
      "LLR test between ARIMA(1,1,2) and ARIMA(1,1,3):  0.0\n"
     ]
    }
   ],
   "source": [
    "#ARIMA(1,1,3) seems to be the best model. Comparing it against it's nested models\n",
    "print('\\nLLR test between ARIMA(1,1,1) and ARIMA(1,1,3): ',LLR_test(model_arima_1_1_1,model_arima_1_1_3, DF = 2))\n",
    "print('\\nLLR test between ARIMA(1,1,2) and ARIMA(1,1,3): ',LLR_test(model_arima_1_1_2,model_arima_1_1_3, DF = 1))"
   ]
  },
  {
   "cell_type": "code",
   "execution_count": 12,
   "id": "bc9da07b",
   "metadata": {},
   "outputs": [
    {
     "data": {
      "image/png": "[encoded data removed]",
      "text/plain": [
       "<Figure size 432x288 with 1 Axes>"
      ]
     },
     "metadata": {
      "needs_background": "light"
     },
     "output_type": "display_data"
    }
   ],
   "source": [
    "#ARIMA(1,1,3) outperforms both it's nested models\n",
    "#checking residuals\n",
    "df_train['residuals_prices'] = results_arima_1_1_3.resid\n",
    "sgt.plot_acf(df_train['residuals_prices'][1:],lags = 40, zero = False)\n",
    "plt.title('ACF for residuals prices',size = 13)\n",
    "plt.ylim(-.06,.06)\n",
    "plt.show()"
   ]
  },
  {
   "cell_type": "code",
   "execution_count": 13,
   "id": "4e0dcf89",
   "metadata": {},
   "outputs": [],
   "source": [
    "#we see that 6th lag acf is significant and that we should consider more complex models with limit upto ARIMA(6,1,6)\n",
    "#after going through all the 36 models(we already went through 16 while considering ARIMA(4,1,4)), only 2 models had all significant coefficients\n",
    "\n",
    "model_arima_5_1_1 = ARIMA(df_train.market_value, order=(5,1,1))\n",
    "results_arima_5_1_1 = model_arima_5_1_1.fit()\n",
    "#results_arima_5_1_1.summary()\n",
    "\n",
    "model_arima_6_1_3 = ARIMA(df_train.market_value, order=(6,1,3))\n",
    "results_arima_6_1_3 = model_arima_6_1_3.fit()\n",
    "#results_arima_6_1_3.summary()"
   ]
  },
  {
   "cell_type": "code",
   "execution_count": 14,
   "id": "04a65f8f",
   "metadata": {},
   "outputs": [
    {
     "name": "stdout",
     "output_type": "stream",
     "text": [
      "\n",
      "ARIMA(1,1,3): \tLLR =  -27559.135692221153 \tAIC =  55128.271384442305\n",
      "\n",
      "ARIMA(5,1,1): \tLLR =  -27555.130359993513 \tAIC =  55124.260719987025\n",
      "\n",
      "ARIMA(6,1,3): \tLLR =  -27552.057399570378 \tAIC =  55124.114799140756\n"
     ]
    }
   ],
   "source": [
    "#comparing llf and aic with ARIMA(1,1,3)\n",
    "print('\\nARIMA(1,1,3): \\tLLR = ', results_arima_1_1_3.llf, '\\tAIC = ',results_arima_1_1_3.aic)\n",
    "print('\\nARIMA(5,1,1): \\tLLR = ', results_arima_5_1_1.llf, '\\tAIC = ',results_arima_5_1_1.aic)\n",
    "print('\\nARIMA(6,1,3): \\tLLR = ', results_arima_6_1_3.llf, '\\tAIC = ',results_arima_6_1_3.aic)"
   ]
  },
  {
   "cell_type": "code",
   "execution_count": 15,
   "id": "22765535",
   "metadata": {},
   "outputs": [
    {
     "name": "stdout",
     "output_type": "stream",
     "text": [
      "\n",
      "LLR test between ARIMA(5,1,1) and ARIMA(6,1,3):  0.105\n",
      "\n",
      "LLR test between ARIMA(1,1,3) and ARIMA(6,1,3):  0.015\n"
     ]
    }
   ],
   "source": [
    "#ARIMA(6,1,3) seems the best but we need to reaffirm this notion by performing the LLR test\n",
    "print('\\nLLR test between ARIMA(5,1,1) and ARIMA(6,1,3): ',LLR_test(model_arima_5_1_1,model_arima_6_1_3, DF = 3))\n",
    "print('\\nLLR test between ARIMA(1,1,3) and ARIMA(6,1,3): ',LLR_test(model_arima_1_1_3,model_arima_6_1_3, DF = 5))"
   ]
  },
  {
   "cell_type": "code",
   "execution_count": 16,
   "id": "001ac999",
   "metadata": {},
   "outputs": [
    {
     "data": {
      "image/png": "[encoded data removed]",
      "text/plain": [
       "<Figure size 432x288 with 1 Axes>"
      ]
     },
     "metadata": {
      "needs_background": "light"
     },
     "output_type": "display_data"
    }
   ],
   "source": [
    "#ARIMA(6,1,3) fails the LLR_test against ARIMA(5,1,1). Hence, ARIMA(5,1,1) is selected\n",
    "#checking the residuals\n",
    "df_train['residuals_prices'] = results_arima_5_1_1.resid\n",
    "sgt.plot_acf(df_train['residuals_prices'][1:],lags = 40, zero = False)\n",
    "plt.title('ACF for residuals prices',size = 13)\n",
    "plt.ylim(-.06,.06)\n",
    "plt.show()"
   ]
  },
  {
   "cell_type": "markdown",
   "id": "e676092e",
   "metadata": {},
   "source": [
    "### arima models with higher levels of integration"
   ]
  },
  {
   "cell_type": "code",
   "execution_count": 17,
   "id": "ae34d1eb",
   "metadata": {},
   "outputs": [
    {
     "data": {
      "text/plain": [
       "(-32.2800784222985,\n",
       " 0.0,\n",
       " 5,\n",
       " 5008,\n",
       " {'1%': -3.431656440695734,\n",
       "  '5%': -2.862117305719603,\n",
       "  '10%': -2.5670773004997116},\n",
       " 54782.27783482279)"
      ]
     },
     "execution_count": 17,
     "metadata": {},
     "output_type": "execute_result"
    }
   ],
   "source": [
    "#manually creating an integrated version of the original prices column\n",
    "df_train['delta_prices'] = df_train['market_value'].diff(1)\n",
    "\n",
    "#performing adfuller test\n",
    "sts.adfuller(df_train.delta_prices[1:])"
   ]
  },
  {
   "cell_type": "code",
   "execution_count": 18,
   "id": "b31536b5",
   "metadata": {},
   "outputs": [],
   "source": [
    "#since our time series becomes stationary after 1 layer of integration, we don't need further layers of integration"
   ]
  },
  {
   "cell_type": "markdown",
   "id": "3d75fe74",
   "metadata": {},
   "source": [
    "### ARIMAX model"
   ]
  },
  {
   "cell_type": "code",
   "execution_count": 19,
   "id": "b0f0aaea",
   "metadata": {},
   "outputs": [
    {
     "data": {
      "text/html": [
       "<table class=\"simpletable\">\n",
       "<caption>SARIMAX Results</caption>\n",
       "<tr>\n",
       "  <th>Dep. Variable:</th>     <td>market_value</td>   <th>  No. Observations:  </th>    <td>5015</td>   \n",
       "</tr>\n",
       "<tr>\n",
       "  <th>Model:</th>            <td>ARIMA(1, 1, 1)</td>  <th>  Log Likelihood     </th> <td>-26660.772</td>\n",
       "</tr>\n",
       "<tr>\n",
       "  <th>Date:</th>            <td>Sun, 29 Jan 2023</td> <th>  AIC                </th>  <td>53329.544</td>\n",
       "</tr>\n",
       "<tr>\n",
       "  <th>Time:</th>                <td>00:01:45</td>     <th>  BIC                </th>  <td>53355.624</td>\n",
       "</tr>\n",
       "<tr>\n",
       "  <th>Sample:</th>                  <td>0</td>        <th>  HQIC               </th>  <td>53338.684</td>\n",
       "</tr>\n",
       "<tr>\n",
       "  <th></th>                      <td> - 5015</td>     <th>                     </th>      <td> </td>    \n",
       "</tr>\n",
       "<tr>\n",
       "  <th>Covariance Type:</th>        <td>opg</td>       <th>                     </th>      <td> </td>    \n",
       "</tr>\n",
       "</table>\n",
       "<table class=\"simpletable\">\n",
       "<tr>\n",
       "     <td></td>       <th>coef</th>     <th>std err</th>      <th>z</th>      <th>P>|z|</th>  <th>[0.025</th>    <th>0.975]</th>  \n",
       "</tr>\n",
       "<tr>\n",
       "  <th>spx</th>    <td>    2.6932</td> <td>    0.035</td> <td>   76.440</td> <td> 0.000</td> <td>    2.624</td> <td>    2.762</td>\n",
       "</tr>\n",
       "<tr>\n",
       "  <th>ar.L1</th>  <td>    0.2528</td> <td>    0.029</td> <td>    8.657</td> <td> 0.000</td> <td>    0.196</td> <td>    0.310</td>\n",
       "</tr>\n",
       "<tr>\n",
       "  <th>ma.L1</th>  <td>   -0.5425</td> <td>    0.025</td> <td>  -21.607</td> <td> 0.000</td> <td>   -0.592</td> <td>   -0.493</td>\n",
       "</tr>\n",
       "<tr>\n",
       "  <th>sigma2</th> <td> 2432.4029</td> <td>   27.344</td> <td>   88.955</td> <td> 0.000</td> <td> 2378.809</td> <td> 2485.997</td>\n",
       "</tr>\n",
       "</table>\n",
       "<table class=\"simpletable\">\n",
       "<tr>\n",
       "  <th>Ljung-Box (L1) (Q):</th>     <td>0.24</td> <th>  Jarque-Bera (JB):  </th> <td>4431.67</td>\n",
       "</tr>\n",
       "<tr>\n",
       "  <th>Prob(Q):</th>                <td>0.63</td> <th>  Prob(JB):          </th>  <td>0.00</td>  \n",
       "</tr>\n",
       "<tr>\n",
       "  <th>Heteroskedasticity (H):</th> <td>1.25</td> <th>  Skew:              </th>  <td>-0.57</td> \n",
       "</tr>\n",
       "<tr>\n",
       "  <th>Prob(H) (two-sided):</th>    <td>0.00</td> <th>  Kurtosis:          </th>  <td>7.46</td>  \n",
       "</tr>\n",
       "</table><br/><br/>Warnings:<br/>[1] Covariance matrix calculated using the outer product of gradients (complex-step)."
      ],
      "text/plain": [
       "<class 'statsmodels.iolib.summary.Summary'>\n",
       "\"\"\"\n",
       "                               SARIMAX Results                                \n",
       "==============================================================================\n",
       "Dep. Variable:           market_value   No. Observations:                 5015\n",
       "Model:                 ARIMA(1, 1, 1)   Log Likelihood              -26660.772\n",
       "Date:                Sun, 29 Jan 2023   AIC                          53329.544\n",
       "Time:                        00:01:45   BIC                          53355.624\n",
       "Sample:                             0   HQIC                         53338.684\n",
       "                               - 5015                                         \n",
       "Covariance Type:                  opg                                         \n",
       "==============================================================================\n",
       "                 coef    std err          z      P>|z|      [0.025      0.975]\n",
       "------------------------------------------------------------------------------\n",
       "spx            2.6932      0.035     76.440      0.000       2.624       2.762\n",
       "ar.L1          0.2528      0.029      8.657      0.000       0.196       0.310\n",
       "ma.L1         -0.5425      0.025    -21.607      0.000      -0.592      -0.493\n",
       "sigma2      2432.4029     27.344     88.955      0.000    2378.809    2485.997\n",
       "===================================================================================\n",
       "Ljung-Box (L1) (Q):                   0.24   Jarque-Bera (JB):              4431.67\n",
       "Prob(Q):                              0.63   Prob(JB):                         0.00\n",
       "Heteroskedasticity (H):               1.25   Skew:                            -0.57\n",
       "Prob(H) (two-sided):                  0.00   Kurtosis:                         7.46\n",
       "===================================================================================\n",
       "\n",
       "Warnings:\n",
       "[1] Covariance matrix calculated using the outer product of gradients (complex-step).\n",
       "\"\"\""
      ]
     },
     "execution_count": 19,
     "metadata": {},
     "output_type": "execute_result"
    }
   ],
   "source": [
    "model_arimax_spx = ARIMA(df_train.market_value, order = (1,1,1), exog = df_train['spx'])\n",
    "results_arimax_spx = model_arimax_spx.fit()\n",
    "results_arimax_spx.summary()"
   ]
  },
  {
   "cell_type": "markdown",
   "id": "ec13b09d",
   "metadata": {},
   "source": [
    "### SARIMAX"
   ]
  },
  {
   "cell_type": "code",
   "execution_count": 20,
   "id": "a516f154",
   "metadata": {},
   "outputs": [],
   "source": [
    "from statsmodels.tsa.statespace.sarimax import SARIMAX"
   ]
  },
  {
   "cell_type": "code",
   "execution_count": 21,
   "id": "9364b931",
   "metadata": {},
   "outputs": [
    {
     "data": {
      "text/html": [
       "<table class=\"simpletable\">\n",
       "<caption>SARIMAX Results</caption>\n",
       "<tr>\n",
       "  <th>Dep. Variable:</th>           <td>market_value</td>          <th>  No. Observations:  </th>    <td>5015</td>   \n",
       "</tr>\n",
       "<tr>\n",
       "  <th>Model:</th>           <td>SARIMAX(1, 0, 1)x(2, 0, 1, 5)</td> <th>  Log Likelihood     </th> <td>-26678.450</td>\n",
       "</tr>\n",
       "<tr>\n",
       "  <th>Date:</th>                  <td>Sun, 29 Jan 2023</td>        <th>  AIC                </th>  <td>53370.900</td>\n",
       "</tr>\n",
       "<tr>\n",
       "  <th>Time:</th>                      <td>00:22:34</td>            <th>  BIC                </th>  <td>53416.542</td>\n",
       "</tr>\n",
       "<tr>\n",
       "  <th>Sample:</th>                        <td>0</td>               <th>  HQIC               </th>  <td>53386.895</td>\n",
       "</tr>\n",
       "<tr>\n",
       "  <th></th>                            <td> - 5015</td>            <th>                     </th>      <td> </td>    \n",
       "</tr>\n",
       "<tr>\n",
       "  <th>Covariance Type:</th>              <td>opg</td>              <th>                     </th>      <td> </td>    \n",
       "</tr>\n",
       "</table>\n",
       "<table class=\"simpletable\">\n",
       "<tr>\n",
       "      <td></td>        <th>coef</th>     <th>std err</th>      <th>z</th>      <th>P>|z|</th>  <th>[0.025</th>    <th>0.975]</th>  \n",
       "</tr>\n",
       "<tr>\n",
       "  <th>spx</th>      <td>    2.7043</td> <td>    0.035</td> <td>   76.307</td> <td> 0.000</td> <td>    2.635</td> <td>    2.774</td>\n",
       "</tr>\n",
       "<tr>\n",
       "  <th>ar.L1</th>    <td>    0.9997</td> <td>    0.001</td> <td> 1919.562</td> <td> 0.000</td> <td>    0.999</td> <td>    1.001</td>\n",
       "</tr>\n",
       "<tr>\n",
       "  <th>ma.L1</th>    <td>   -0.3104</td> <td>    0.009</td> <td>  -32.680</td> <td> 0.000</td> <td>   -0.329</td> <td>   -0.292</td>\n",
       "</tr>\n",
       "<tr>\n",
       "  <th>ar.S.L5</th>  <td>    0.9640</td> <td>    0.013</td> <td>   71.521</td> <td> 0.000</td> <td>    0.938</td> <td>    0.990</td>\n",
       "</tr>\n",
       "<tr>\n",
       "  <th>ar.S.L10</th> <td>    0.0356</td> <td>    0.010</td> <td>    3.463</td> <td> 0.001</td> <td>    0.015</td> <td>    0.056</td>\n",
       "</tr>\n",
       "<tr>\n",
       "  <th>ma.S.L5</th>  <td>   -0.9993</td> <td>    0.010</td> <td> -102.565</td> <td> 0.000</td> <td>   -1.018</td> <td>   -0.980</td>\n",
       "</tr>\n",
       "<tr>\n",
       "  <th>sigma2</th>   <td> 2441.8856</td> <td>   28.768</td> <td>   84.882</td> <td> 0.000</td> <td> 2385.502</td> <td> 2498.270</td>\n",
       "</tr>\n",
       "</table>\n",
       "<table class=\"simpletable\">\n",
       "<tr>\n",
       "  <th>Ljung-Box (L1) (Q):</th>     <td>1.49</td> <th>  Jarque-Bera (JB):  </th> <td>4179.64</td>\n",
       "</tr>\n",
       "<tr>\n",
       "  <th>Prob(Q):</th>                <td>0.22</td> <th>  Prob(JB):          </th>  <td>0.00</td>  \n",
       "</tr>\n",
       "<tr>\n",
       "  <th>Heteroskedasticity (H):</th> <td>1.23</td> <th>  Skew:              </th>  <td>-0.52</td> \n",
       "</tr>\n",
       "<tr>\n",
       "  <th>Prob(H) (two-sided):</th>    <td>0.00</td> <th>  Kurtosis:          </th>  <td>7.35</td>  \n",
       "</tr>\n",
       "</table><br/><br/>Warnings:<br/>[1] Covariance matrix calculated using the outer product of gradients (complex-step)."
      ],
      "text/plain": [
       "<class 'statsmodels.iolib.summary.Summary'>\n",
       "\"\"\"\n",
       "                                     SARIMAX Results                                     \n",
       "=========================================================================================\n",
       "Dep. Variable:                      market_value   No. Observations:                 5015\n",
       "Model:             SARIMAX(1, 0, 1)x(2, 0, 1, 5)   Log Likelihood              -26678.450\n",
       "Date:                           Sun, 29 Jan 2023   AIC                          53370.900\n",
       "Time:                                   00:22:34   BIC                          53416.542\n",
       "Sample:                                        0   HQIC                         53386.895\n",
       "                                          - 5015                                         \n",
       "Covariance Type:                             opg                                         \n",
       "==============================================================================\n",
       "                 coef    std err          z      P>|z|      [0.025      0.975]\n",
       "------------------------------------------------------------------------------\n",
       "spx            2.7043      0.035     76.307      0.000       2.635       2.774\n",
       "ar.L1          0.9997      0.001   1919.562      0.000       0.999       1.001\n",
       "ma.L1         -0.3104      0.009    -32.680      0.000      -0.329      -0.292\n",
       "ar.S.L5        0.9640      0.013     71.521      0.000       0.938       0.990\n",
       "ar.S.L10       0.0356      0.010      3.463      0.001       0.015       0.056\n",
       "ma.S.L5       -0.9993      0.010   -102.565      0.000      -1.018      -0.980\n",
       "sigma2      2441.8856     28.768     84.882      0.000    2385.502    2498.270\n",
       "===================================================================================\n",
       "Ljung-Box (L1) (Q):                   1.49   Jarque-Bera (JB):              4179.64\n",
       "Prob(Q):                              0.22   Prob(JB):                         0.00\n",
       "Heteroskedasticity (H):               1.23   Skew:                            -0.52\n",
       "Prob(H) (two-sided):                  0.00   Kurtosis:                         7.35\n",
       "===================================================================================\n",
       "\n",
       "Warnings:\n",
       "[1] Covariance matrix calculated using the outer product of gradients (complex-step).\n",
       "\"\"\""
      ]
     },
     "execution_count": 21,
     "metadata": {},
     "output_type": "execute_result"
    }
   ],
   "source": [
    "model_sarimax = SARIMAX(df_train.market_value, exog = df_train.spx, order = (1,0,1), seasonal_order = (2,0,1,5))\n",
    "results_sarimax = model_sarimax.fit()\n",
    "results_sarimax.summary()"
   ]
  },
  {
   "cell_type": "code",
   "execution_count": 22,
   "id": "edbfd15a",
   "metadata": {},
   "outputs": [
    {
     "data": {
      "text/html": [
       "<table class=\"simpletable\">\n",
       "<caption>SARIMAX Results</caption>\n",
       "<tr>\n",
       "  <th>Dep. Variable:</th>          <td>market_value</td>         <th>  No. Observations:  </th>    <td>5015</td>   \n",
       "</tr>\n",
       "<tr>\n",
       "  <th>Model:</th>           <td>ARIMA(1, 0, 1)x(2, 0, 1, 5)</td> <th>  Log Likelihood     </th> <td>-26676.271</td>\n",
       "</tr>\n",
       "<tr>\n",
       "  <th>Date:</th>                 <td>Sun, 29 Jan 2023</td>       <th>  AIC                </th>  <td>53368.541</td>\n",
       "</tr>\n",
       "<tr>\n",
       "  <th>Time:</th>                     <td>00:23:18</td>           <th>  BIC                </th>  <td>53420.703</td>\n",
       "</tr>\n",
       "<tr>\n",
       "  <th>Sample:</th>                       <td>0</td>              <th>  HQIC               </th>  <td>53386.820</td>\n",
       "</tr>\n",
       "<tr>\n",
       "  <th></th>                           <td> - 5015</td>           <th>                     </th>      <td> </td>    \n",
       "</tr>\n",
       "<tr>\n",
       "  <th>Covariance Type:</th>             <td>opg</td>             <th>                     </th>      <td> </td>    \n",
       "</tr>\n",
       "</table>\n",
       "<table class=\"simpletable\">\n",
       "<tr>\n",
       "      <td></td>        <th>coef</th>     <th>std err</th>      <th>z</th>      <th>P>|z|</th>  <th>[0.025</th>    <th>0.975]</th>  \n",
       "</tr>\n",
       "<tr>\n",
       "  <th>const</th>    <td> 1514.1482</td> <td>  588.389</td> <td>    2.573</td> <td> 0.010</td> <td>  360.927</td> <td> 2667.369</td>\n",
       "</tr>\n",
       "<tr>\n",
       "  <th>spx</th>      <td>    2.7167</td> <td>    0.035</td> <td>   76.712</td> <td> 0.000</td> <td>    2.647</td> <td>    2.786</td>\n",
       "</tr>\n",
       "<tr>\n",
       "  <th>ar.L1</th>    <td>    0.9988</td> <td>    0.001</td> <td>  991.464</td> <td> 0.000</td> <td>    0.997</td> <td>    1.001</td>\n",
       "</tr>\n",
       "<tr>\n",
       "  <th>ma.L1</th>    <td>   -0.3116</td> <td>    0.010</td> <td>  -32.714</td> <td> 0.000</td> <td>   -0.330</td> <td>   -0.293</td>\n",
       "</tr>\n",
       "<tr>\n",
       "  <th>ar.S.L5</th>  <td>    0.9576</td> <td>    0.031</td> <td>   30.903</td> <td> 0.000</td> <td>    0.897</td> <td>    1.018</td>\n",
       "</tr>\n",
       "<tr>\n",
       "  <th>ar.S.L10</th> <td>    0.0352</td> <td>    0.010</td> <td>    3.425</td> <td> 0.001</td> <td>    0.015</td> <td>    0.055</td>\n",
       "</tr>\n",
       "<tr>\n",
       "  <th>ma.S.L5</th>  <td>   -0.9920</td> <td>    0.029</td> <td>  -33.639</td> <td> 0.000</td> <td>   -1.050</td> <td>   -0.934</td>\n",
       "</tr>\n",
       "<tr>\n",
       "  <th>sigma2</th>   <td> 2439.5998</td> <td>   28.779</td> <td>   84.770</td> <td> 0.000</td> <td> 2383.194</td> <td> 2496.006</td>\n",
       "</tr>\n",
       "</table>\n",
       "<table class=\"simpletable\">\n",
       "<tr>\n",
       "  <th>Ljung-Box (L1) (Q):</th>     <td>1.50</td> <th>  Jarque-Bera (JB):  </th> <td>4183.09</td>\n",
       "</tr>\n",
       "<tr>\n",
       "  <th>Prob(Q):</th>                <td>0.22</td> <th>  Prob(JB):          </th>  <td>0.00</td>  \n",
       "</tr>\n",
       "<tr>\n",
       "  <th>Heteroskedasticity (H):</th> <td>1.23</td> <th>  Skew:              </th>  <td>-0.51</td> \n",
       "</tr>\n",
       "<tr>\n",
       "  <th>Prob(H) (two-sided):</th>    <td>0.00</td> <th>  Kurtosis:          </th>  <td>7.36</td>  \n",
       "</tr>\n",
       "</table><br/><br/>Warnings:<br/>[1] Covariance matrix calculated using the outer product of gradients (complex-step)."
      ],
      "text/plain": [
       "<class 'statsmodels.iolib.summary.Summary'>\n",
       "\"\"\"\n",
       "                                    SARIMAX Results                                    \n",
       "=======================================================================================\n",
       "Dep. Variable:                    market_value   No. Observations:                 5015\n",
       "Model:             ARIMA(1, 0, 1)x(2, 0, 1, 5)   Log Likelihood              -26676.271\n",
       "Date:                         Sun, 29 Jan 2023   AIC                          53368.541\n",
       "Time:                                 00:23:18   BIC                          53420.703\n",
       "Sample:                                      0   HQIC                         53386.820\n",
       "                                        - 5015                                         \n",
       "Covariance Type:                           opg                                         \n",
       "==============================================================================\n",
       "                 coef    std err          z      P>|z|      [0.025      0.975]\n",
       "------------------------------------------------------------------------------\n",
       "const       1514.1482    588.389      2.573      0.010     360.927    2667.369\n",
       "spx            2.7167      0.035     76.712      0.000       2.647       2.786\n",
       "ar.L1          0.9988      0.001    991.464      0.000       0.997       1.001\n",
       "ma.L1         -0.3116      0.010    -32.714      0.000      -0.330      -0.293\n",
       "ar.S.L5        0.9576      0.031     30.903      0.000       0.897       1.018\n",
       "ar.S.L10       0.0352      0.010      3.425      0.001       0.015       0.055\n",
       "ma.S.L5       -0.9920      0.029    -33.639      0.000      -1.050      -0.934\n",
       "sigma2      2439.5998     28.779     84.770      0.000    2383.194    2496.006\n",
       "===================================================================================\n",
       "Ljung-Box (L1) (Q):                   1.50   Jarque-Bera (JB):              4183.09\n",
       "Prob(Q):                              0.22   Prob(JB):                         0.00\n",
       "Heteroskedasticity (H):               1.23   Skew:                            -0.51\n",
       "Prob(H) (two-sided):                  0.00   Kurtosis:                         7.36\n",
       "===================================================================================\n",
       "\n",
       "Warnings:\n",
       "[1] Covariance matrix calculated using the outer product of gradients (complex-step).\n",
       "\"\"\""
      ]
     },
     "execution_count": 22,
     "metadata": {},
     "output_type": "execute_result"
    }
   ],
   "source": [
    "model_sarimax = ARIMA(df_train.market_value, exog = df_train.spx, order = (1,0,1), seasonal_order = (2,0,1,5))\n",
    "results_sarimax = model_sarimax.fit()\n",
    "results_sarimax.summary()"
   ]
  },
  {
   "cell_type": "code",
   "execution_count": null,
   "id": "2f939339",
   "metadata": {},
   "outputs": [],
   "source": []
  }
 ],
 "metadata": {
  "kernelspec": {
   "display_name": "Python 3",
   "language": "python",
   "name": "python3"
  },
  "language_info": {
   "codemirror_mode": {
    "name": "ipython",
    "version": 3
   },
   "file_extension": ".py",
   "mimetype": "text/x-python",
   "name": "python",
   "nbconvert_exporter": "python",
   "pygments_lexer": "ipython3",
   "version": "3.8.8"
  }
 },
 "nbformat": 4,
 "nbformat_minor": 5
}
