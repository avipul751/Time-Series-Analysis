{
 "cells": [
  {
   "cell_type": "markdown",
   "id": "1d859825",
   "metadata": {},
   "source": [
    "### Importing libraries"
   ]
  },
  {
   "cell_type": "code",
   "execution_count": 1,
   "id": "e9b76cd2",
   "metadata": {},
   "outputs": [],
   "source": [
    "#importing libraries\n",
    "import numpy as np\n",
    "import pandas as pd\n",
    "import matplotlib.pyplot as plt\n",
    "import seaborn as sns\n",
    "import statsmodels.graphics.tsaplots as sgt\n",
    "from scipy.stats.distributions import chi2\n",
    "from statsmodels.tsa.arima.model import ARIMA\n",
    "import statsmodels.tsa.stattools as sts"
   ]
  },
  {
   "cell_type": "markdown",
   "id": "668fce99",
   "metadata": {},
   "source": [
    "### Importing data and preprocessing"
   ]
  },
  {
   "cell_type": "code",
   "execution_count": 2,
   "id": "a29a196d",
   "metadata": {},
   "outputs": [
    {
     "data": {
      "text/html": [
       "<div>\n",
       "<style scoped>\n",
       "    .dataframe tbody tr th:only-of-type {\n",
       "        vertical-align: middle;\n",
       "    }\n",
       "\n",
       "    .dataframe tbody tr th {\n",
       "        vertical-align: top;\n",
       "    }\n",
       "\n",
       "    .dataframe thead th {\n",
       "        text-align: right;\n",
       "    }\n",
       "</style>\n",
       "<table border=\"1\" class=\"dataframe\">\n",
       "  <thead>\n",
       "    <tr style=\"text-align: right;\">\n",
       "      <th></th>\n",
       "      <th>spx</th>\n",
       "      <th>dax</th>\n",
       "      <th>ftse</th>\n",
       "      <th>nikkei</th>\n",
       "    </tr>\n",
       "    <tr>\n",
       "      <th>date</th>\n",
       "      <th></th>\n",
       "      <th></th>\n",
       "      <th></th>\n",
       "      <th></th>\n",
       "    </tr>\n",
       "  </thead>\n",
       "  <tbody>\n",
       "    <tr>\n",
       "      <th>1994-01-07</th>\n",
       "      <td>469.900000</td>\n",
       "      <td>2224.95</td>\n",
       "      <td>3445.980000</td>\n",
       "      <td>18124.01</td>\n",
       "    </tr>\n",
       "    <tr>\n",
       "      <th>1994-01-10</th>\n",
       "      <td>475.270000</td>\n",
       "      <td>2225.00</td>\n",
       "      <td>3440.580000</td>\n",
       "      <td>18443.44</td>\n",
       "    </tr>\n",
       "    <tr>\n",
       "      <th>1994-01-11</th>\n",
       "      <td>474.130000</td>\n",
       "      <td>2228.10</td>\n",
       "      <td>3413.770000</td>\n",
       "      <td>18485.25</td>\n",
       "    </tr>\n",
       "    <tr>\n",
       "      <th>1994-01-12</th>\n",
       "      <td>474.170000</td>\n",
       "      <td>2182.06</td>\n",
       "      <td>3372.020000</td>\n",
       "      <td>18793.88</td>\n",
       "    </tr>\n",
       "    <tr>\n",
       "      <th>1994-01-13</th>\n",
       "      <td>472.470000</td>\n",
       "      <td>2142.37</td>\n",
       "      <td>3360.010000</td>\n",
       "      <td>18577.26</td>\n",
       "    </tr>\n",
       "    <tr>\n",
       "      <th>...</th>\n",
       "      <td>...</td>\n",
       "      <td>...</td>\n",
       "      <td>...</td>\n",
       "      <td>...</td>\n",
       "    </tr>\n",
       "    <tr>\n",
       "      <th>2018-01-23</th>\n",
       "      <td>2839.130362</td>\n",
       "      <td>13559.60</td>\n",
       "      <td>7731.827774</td>\n",
       "      <td>24124.15</td>\n",
       "    </tr>\n",
       "    <tr>\n",
       "      <th>2018-01-24</th>\n",
       "      <td>2837.544008</td>\n",
       "      <td>13414.74</td>\n",
       "      <td>7643.428966</td>\n",
       "      <td>23940.78</td>\n",
       "    </tr>\n",
       "    <tr>\n",
       "      <th>2018-01-25</th>\n",
       "      <td>2839.253031</td>\n",
       "      <td>13298.36</td>\n",
       "      <td>7615.839954</td>\n",
       "      <td>23669.49</td>\n",
       "    </tr>\n",
       "    <tr>\n",
       "      <th>2018-01-26</th>\n",
       "      <td>2872.867839</td>\n",
       "      <td>13340.17</td>\n",
       "      <td>7665.541292</td>\n",
       "      <td>23631.88</td>\n",
       "    </tr>\n",
       "    <tr>\n",
       "      <th>2018-01-29</th>\n",
       "      <td>2853.528411</td>\n",
       "      <td>13324.48</td>\n",
       "      <td>7671.533300</td>\n",
       "      <td>23629.34</td>\n",
       "    </tr>\n",
       "  </tbody>\n",
       "</table>\n",
       "<p>6269 rows × 4 columns</p>\n",
       "</div>"
      ],
      "text/plain": [
       "                    spx       dax         ftse    nikkei\n",
       "date                                                    \n",
       "1994-01-07   469.900000   2224.95  3445.980000  18124.01\n",
       "1994-01-10   475.270000   2225.00  3440.580000  18443.44\n",
       "1994-01-11   474.130000   2228.10  3413.770000  18485.25\n",
       "1994-01-12   474.170000   2182.06  3372.020000  18793.88\n",
       "1994-01-13   472.470000   2142.37  3360.010000  18577.26\n",
       "...                 ...       ...          ...       ...\n",
       "2018-01-23  2839.130362  13559.60  7731.827774  24124.15\n",
       "2018-01-24  2837.544008  13414.74  7643.428966  23940.78\n",
       "2018-01-25  2839.253031  13298.36  7615.839954  23669.49\n",
       "2018-01-26  2872.867839  13340.17  7665.541292  23631.88\n",
       "2018-01-29  2853.528411  13324.48  7671.533300  23629.34\n",
       "\n",
       "[6269 rows x 4 columns]"
      ]
     },
     "execution_count": 2,
     "metadata": {},
     "output_type": "execute_result"
    }
   ],
   "source": [
    "#reading in the data and performing basic preprocessing\n",
    "data = pd.read_csv('Index2018.csv')\n",
    "df = data.copy #copying the dataframe\n",
    "df.date = pd.to_datetime(df.date, dayfirst = True) #parsing dates\n",
    "df.set_index('date', inplace = True) #setting date column as index\n",
    "df.asfreq('b') #setting a constant frequency as business days\n",
    "df.fillna('ffill') #filling missing or nan values"
   ]
  },
  {
   "cell_type": "code",
   "execution_count": 3,
   "id": "cb0a27bd",
   "metadata": {},
   "outputs": [],
   "source": [
    "# keeping only ftse column and removing rest \n",
    "df['market_value'] = df.ftse\n",
    "del df['spx']\n",
    "del df['dax']\n",
    "del df['ftse']\n",
    "del df['nikkei']\n",
    "\n",
    "#splitting the data into training and testing data\n",
    "size = int(len(df)*0.8)\n",
    "df_train = df.iloc[:size]\n",
    "df_test = df.iloc[size:]"
   ]
  },
  {
   "cell_type": "code",
   "execution_count": 4,
   "id": "a395ce8c",
   "metadata": {},
   "outputs": [],
   "source": [
    "def LLR_test(model_1, model_2, DF = 1):\n",
    "    L1 = model_1.fit().llf\n",
    "    L2 = model_2.fit().llf\n",
    "    LR = 2*(L2-L1)\n",
    "    p = chi2.sf(LR, DF).round(3)\n",
    "    return p"
   ]
  },
  {
   "cell_type": "markdown",
   "id": "ca32ce25",
   "metadata": {},
   "source": [
    "### Calculating returns"
   ]
  },
  {
   "cell_type": "code",
   "execution_count": 5,
   "id": "fafd34a5",
   "metadata": {},
   "outputs": [
    {
     "name": "stderr",
     "output_type": "stream",
     "text": [
      "<ipython-input-5-410673ca1c6b>:1: SettingWithCopyWarning: \n",
      "A value is trying to be set on a copy of a slice from a DataFrame.\n",
      "Try using .loc[row_indexer,col_indexer] = value instead\n",
      "\n",
      "See the caveats in the documentation: https://pandas.pydata.org/pandas-docs/stable/user_guide/indexing.html#returning-a-view-versus-a-copy\n",
      "  df_train['returns'] = (df_train.market_value.pct_change(1)*100)\n"
     ]
    }
   ],
   "source": [
    "df_train['returns'] = (df_train.market_value.pct_change(1)*100)\n",
    "df_train = df_train[1:]"
   ]
  },
  {
   "cell_type": "markdown",
   "id": "0421ae6c",
   "metadata": {},
   "source": [
    "### plotting returns"
   ]
  },
  {
   "cell_type": "code",
   "execution_count": 7,
   "id": "9f9da9ae",
   "metadata": {},
   "outputs": [
    {
     "data": {
      "image/png": "[encoded data removed]",
      "text/plain": [
       "<Figure size 864x360 with 1 Axes>"
      ]
     },
     "metadata": {
      "needs_background": "light"
     },
     "output_type": "display_data"
    }
   ],
   "source": [
    "plt.rcParams['figure.figsize'] = (12,5)\n",
    "df_train.returns.plot()\n",
    "plt.title('Returns vs time', size = 19)\n",
    "plt.show()"
   ]
  },
  {
   "cell_type": "markdown",
   "id": "87b4abaf",
   "metadata": {},
   "source": [
    "### ACF for returns"
   ]
  },
  {
   "cell_type": "code",
   "execution_count": 8,
   "id": "6947ae8f",
   "metadata": {},
   "outputs": [
    {
     "data": {
      "image/png": "[encoded data removed]",
      "text/plain": [
       "<Figure size 864x360 with 1 Axes>"
      ]
     },
     "metadata": {
      "needs_background": "light"
     },
     "output_type": "display_data"
    }
   ],
   "source": [
    "plt.rcParams['figure.figsize'] = (12,5)\n",
    "sgt.plot_acf(df_train.returns, lags = 40, zero = False)\n",
    "plt.title('ACF for returns', size = 15)\n",
    "plt.ylim(-.1,.1)\n",
    "plt.show()"
   ]
  },
  {
   "cell_type": "markdown",
   "id": "2235f3cc",
   "metadata": {},
   "source": [
    "### MA(1) model"
   ]
  },
  {
   "cell_type": "code",
   "execution_count": 9,
   "id": "ae60e9c3",
   "metadata": {},
   "outputs": [
    {
     "name": "stderr",
     "output_type": "stream",
     "text": [
      "D:\\anaconda\\lib\\site-packages\\statsmodels\\tsa\\base\\tsa_model.py:471: ValueWarning: A date index has been provided, but it has no associated frequency information and so will be ignored when e.g. forecasting.\n",
      "  self._init_dates(dates, freq)\n",
      "D:\\anaconda\\lib\\site-packages\\statsmodels\\tsa\\base\\tsa_model.py:471: ValueWarning: A date index has been provided, but it has no associated frequency information and so will be ignored when e.g. forecasting.\n",
      "  self._init_dates(dates, freq)\n",
      "D:\\anaconda\\lib\\site-packages\\statsmodels\\tsa\\base\\tsa_model.py:471: ValueWarning: A date index has been provided, but it has no associated frequency information and so will be ignored when e.g. forecasting.\n",
      "  self._init_dates(dates, freq)\n"
     ]
    },
    {
     "data": {
      "text/html": [
       "<table class=\"simpletable\">\n",
       "<caption>SARIMAX Results</caption>\n",
       "<tr>\n",
       "  <th>Dep. Variable:</th>        <td>returns</td>     <th>  No. Observations:  </th>   <td>5014</td>   \n",
       "</tr>\n",
       "<tr>\n",
       "  <th>Model:</th>            <td>ARIMA(0, 0, 1)</td>  <th>  Log Likelihood     </th> <td>-7921.751</td>\n",
       "</tr>\n",
       "<tr>\n",
       "  <th>Date:</th>            <td>Thu, 26 Jan 2023</td> <th>  AIC                </th> <td>15849.503</td>\n",
       "</tr>\n",
       "<tr>\n",
       "  <th>Time:</th>                <td>23:21:53</td>     <th>  BIC                </th> <td>15869.063</td>\n",
       "</tr>\n",
       "<tr>\n",
       "  <th>Sample:</th>                  <td>0</td>        <th>  HQIC               </th> <td>15856.357</td>\n",
       "</tr>\n",
       "<tr>\n",
       "  <th></th>                      <td> - 5014</td>     <th>                     </th>     <td> </td>    \n",
       "</tr>\n",
       "<tr>\n",
       "  <th>Covariance Type:</th>        <td>opg</td>       <th>                     </th>     <td> </td>    \n",
       "</tr>\n",
       "</table>\n",
       "<table class=\"simpletable\">\n",
       "<tr>\n",
       "     <td></td>       <th>coef</th>     <th>std err</th>      <th>z</th>      <th>P>|z|</th>  <th>[0.025</th>    <th>0.975]</th>  \n",
       "</tr>\n",
       "<tr>\n",
       "  <th>const</th>  <td>    0.0193</td> <td>    0.016</td> <td>    1.179</td> <td> 0.238</td> <td>   -0.013</td> <td>    0.051</td>\n",
       "</tr>\n",
       "<tr>\n",
       "  <th>ma.L1</th>  <td>   -0.0259</td> <td>    0.009</td> <td>   -3.032</td> <td> 0.002</td> <td>   -0.043</td> <td>   -0.009</td>\n",
       "</tr>\n",
       "<tr>\n",
       "  <th>sigma2</th> <td>    1.3798</td> <td>    0.014</td> <td>   99.926</td> <td> 0.000</td> <td>    1.353</td> <td>    1.407</td>\n",
       "</tr>\n",
       "</table>\n",
       "<table class=\"simpletable\">\n",
       "<tr>\n",
       "  <th>Ljung-Box (L1) (Q):</th>     <td>0.01</td> <th>  Jarque-Bera (JB):  </th> <td>7838.65</td>\n",
       "</tr>\n",
       "<tr>\n",
       "  <th>Prob(Q):</th>                <td>0.92</td> <th>  Prob(JB):          </th>  <td>0.00</td>  \n",
       "</tr>\n",
       "<tr>\n",
       "  <th>Heteroskedasticity (H):</th> <td>2.04</td> <th>  Skew:              </th>  <td>-0.03</td> \n",
       "</tr>\n",
       "<tr>\n",
       "  <th>Prob(H) (two-sided):</th>    <td>0.00</td> <th>  Kurtosis:          </th>  <td>9.13</td>  \n",
       "</tr>\n",
       "</table><br/><br/>Warnings:<br/>[1] Covariance matrix calculated using the outer product of gradients (complex-step)."
      ],
      "text/plain": [
       "<class 'statsmodels.iolib.summary.Summary'>\n",
       "\"\"\"\n",
       "                               SARIMAX Results                                \n",
       "==============================================================================\n",
       "Dep. Variable:                returns   No. Observations:                 5014\n",
       "Model:                 ARIMA(0, 0, 1)   Log Likelihood               -7921.751\n",
       "Date:                Thu, 26 Jan 2023   AIC                          15849.503\n",
       "Time:                        23:21:53   BIC                          15869.063\n",
       "Sample:                             0   HQIC                         15856.357\n",
       "                               - 5014                                         \n",
       "Covariance Type:                  opg                                         \n",
       "==============================================================================\n",
       "                 coef    std err          z      P>|z|      [0.025      0.975]\n",
       "------------------------------------------------------------------------------\n",
       "const          0.0193      0.016      1.179      0.238      -0.013       0.051\n",
       "ma.L1         -0.0259      0.009     -3.032      0.002      -0.043      -0.009\n",
       "sigma2         1.3798      0.014     99.926      0.000       1.353       1.407\n",
       "===================================================================================\n",
       "Ljung-Box (L1) (Q):                   0.01   Jarque-Bera (JB):              7838.65\n",
       "Prob(Q):                              0.92   Prob(JB):                         0.00\n",
       "Heteroskedasticity (H):               2.04   Skew:                            -0.03\n",
       "Prob(H) (two-sided):                  0.00   Kurtosis:                         9.13\n",
       "===================================================================================\n",
       "\n",
       "Warnings:\n",
       "[1] Covariance matrix calculated using the outer product of gradients (complex-step).\n",
       "\"\"\""
      ]
     },
     "execution_count": 9,
     "metadata": {},
     "output_type": "execute_result"
    }
   ],
   "source": [
    "model_ma_1 = ARIMA(df_train.returns, order = (0,0,1))\n",
    "results_ma_1 = model_ma_1.fit()\n",
    "results_ma_1.summary()"
   ]
  },
  {
   "cell_type": "markdown",
   "id": "fa3164ac",
   "metadata": {},
   "source": [
    "### higher lag models"
   ]
  },
  {
   "cell_type": "code",
   "execution_count": 10,
   "id": "76dbd706",
   "metadata": {},
   "outputs": [
    {
     "name": "stderr",
     "output_type": "stream",
     "text": [
      "D:\\anaconda\\lib\\site-packages\\statsmodels\\tsa\\base\\tsa_model.py:471: ValueWarning: A date index has been provided, but it has no associated frequency information and so will be ignored when e.g. forecasting.\n",
      "  self._init_dates(dates, freq)\n",
      "D:\\anaconda\\lib\\site-packages\\statsmodels\\tsa\\base\\tsa_model.py:471: ValueWarning: A date index has been provided, but it has no associated frequency information and so will be ignored when e.g. forecasting.\n",
      "  self._init_dates(dates, freq)\n",
      "D:\\anaconda\\lib\\site-packages\\statsmodels\\tsa\\base\\tsa_model.py:471: ValueWarning: A date index has been provided, but it has no associated frequency information and so will be ignored when e.g. forecasting.\n",
      "  self._init_dates(dates, freq)\n"
     ]
    },
    {
     "name": "stdout",
     "output_type": "stream",
     "text": [
      "                               SARIMAX Results                                \n",
      "==============================================================================\n",
      "Dep. Variable:                returns   No. Observations:                 5014\n",
      "Model:                 ARIMA(0, 0, 2)   Log Likelihood               -7915.037\n",
      "Date:                Thu, 26 Jan 2023   AIC                          15838.073\n",
      "Time:                        23:31:32   BIC                          15864.153\n",
      "Sample:                             0   HQIC                         15847.212\n",
      "                               - 5014                                         \n",
      "Covariance Type:                  opg                                         \n",
      "==============================================================================\n",
      "                 coef    std err          z      P>|z|      [0.025      0.975]\n",
      "------------------------------------------------------------------------------\n",
      "const          0.0193      0.016      1.237      0.216      -0.011       0.050\n",
      "ma.L1         -0.0327      0.009     -3.758      0.000      -0.050      -0.016\n",
      "ma.L2         -0.0502      0.008     -6.414      0.000      -0.066      -0.035\n",
      "sigma2         1.3762      0.014     98.965      0.000       1.349       1.403\n",
      "===================================================================================\n",
      "Ljung-Box (L1) (Q):                   0.08   Jarque-Bera (JB):              7645.12\n",
      "Prob(Q):                              0.77   Prob(JB):                         0.00\n",
      "Heteroskedasticity (H):               2.03   Skew:                            -0.08\n",
      "Prob(H) (two-sided):                  0.00   Kurtosis:                         9.05\n",
      "===================================================================================\n",
      "\n",
      "Warnings:\n",
      "[1] Covariance matrix calculated using the outer product of gradients (complex-step).\n"
     ]
    },
    {
     "data": {
      "text/plain": [
       "0.0"
      ]
     },
     "execution_count": 10,
     "metadata": {},
     "output_type": "execute_result"
    }
   ],
   "source": [
    "model_ma_2 = ARIMA(df_train.returns, order = (0,0,2))\n",
    "results_ma_2 = model_ma_2.fit()\n",
    "print(results_ma_2.summary())\n",
    "LLR_test(model_ma_1,model_ma_2)"
   ]
  },
  {
   "cell_type": "code",
   "execution_count": 11,
   "id": "ddfad41b",
   "metadata": {},
   "outputs": [
    {
     "name": "stderr",
     "output_type": "stream",
     "text": [
      "D:\\anaconda\\lib\\site-packages\\statsmodels\\tsa\\base\\tsa_model.py:471: ValueWarning: A date index has been provided, but it has no associated frequency information and so will be ignored when e.g. forecasting.\n",
      "  self._init_dates(dates, freq)\n",
      "D:\\anaconda\\lib\\site-packages\\statsmodels\\tsa\\base\\tsa_model.py:471: ValueWarning: A date index has been provided, but it has no associated frequency information and so will be ignored when e.g. forecasting.\n",
      "  self._init_dates(dates, freq)\n",
      "D:\\anaconda\\lib\\site-packages\\statsmodels\\tsa\\base\\tsa_model.py:471: ValueWarning: A date index has been provided, but it has no associated frequency information and so will be ignored when e.g. forecasting.\n",
      "  self._init_dates(dates, freq)\n"
     ]
    },
    {
     "name": "stdout",
     "output_type": "stream",
     "text": [
      "                               SARIMAX Results                                \n",
      "==============================================================================\n",
      "Dep. Variable:                returns   No. Observations:                 5014\n",
      "Model:                 ARIMA(0, 0, 3)   Log Likelihood               -7896.969\n",
      "Date:                Thu, 26 Jan 2023   AIC                          15803.937\n",
      "Time:                        23:32:07   BIC                          15836.537\n",
      "Sample:                             0   HQIC                         15815.361\n",
      "                               - 5014                                         \n",
      "Covariance Type:                  opg                                         \n",
      "==============================================================================\n",
      "                 coef    std err          z      P>|z|      [0.025      0.975]\n",
      "------------------------------------------------------------------------------\n",
      "const          0.0194      0.015      1.325      0.185      -0.009       0.048\n",
      "ma.L1         -0.0206      0.009     -2.370      0.018      -0.038      -0.004\n",
      "ma.L2         -0.0556      0.008     -7.029      0.000      -0.071      -0.040\n",
      "ma.L3         -0.0893      0.008    -11.452      0.000      -0.105      -0.074\n",
      "sigma2         1.3663      0.014     95.307      0.000       1.338       1.394\n",
      "===================================================================================\n",
      "Ljung-Box (L1) (Q):                   0.09   Jarque-Bera (JB):              6835.23\n",
      "Prob(Q):                              0.76   Prob(JB):                         0.00\n",
      "Heteroskedasticity (H):               2.03   Skew:                            -0.18\n",
      "Prob(H) (two-sided):                  0.00   Kurtosis:                         8.71\n",
      "===================================================================================\n",
      "\n",
      "Warnings:\n",
      "[1] Covariance matrix calculated using the outer product of gradients (complex-step).\n"
     ]
    },
    {
     "data": {
      "text/plain": [
       "0.0"
      ]
     },
     "execution_count": 11,
     "metadata": {},
     "output_type": "execute_result"
    }
   ],
   "source": [
    "model_ma_3 = ARIMA(df_train.returns, order = (0,0,3))\n",
    "results_ma_3 = model_ma_3.fit()\n",
    "print(results_ma_3.summary())\n",
    "LLR_test(model_ma_2,model_ma_3)"
   ]
  },
  {
   "cell_type": "code",
   "execution_count": 12,
   "id": "81b0fba2",
   "metadata": {},
   "outputs": [
    {
     "name": "stderr",
     "output_type": "stream",
     "text": [
      "D:\\anaconda\\lib\\site-packages\\statsmodels\\tsa\\base\\tsa_model.py:471: ValueWarning: A date index has been provided, but it has no associated frequency information and so will be ignored when e.g. forecasting.\n",
      "  self._init_dates(dates, freq)\n",
      "D:\\anaconda\\lib\\site-packages\\statsmodels\\tsa\\base\\tsa_model.py:471: ValueWarning: A date index has been provided, but it has no associated frequency information and so will be ignored when e.g. forecasting.\n",
      "  self._init_dates(dates, freq)\n",
      "D:\\anaconda\\lib\\site-packages\\statsmodels\\tsa\\base\\tsa_model.py:471: ValueWarning: A date index has been provided, but it has no associated frequency information and so will be ignored when e.g. forecasting.\n",
      "  self._init_dates(dates, freq)\n"
     ]
    },
    {
     "name": "stdout",
     "output_type": "stream",
     "text": [
      "                               SARIMAX Results                                \n",
      "==============================================================================\n",
      "Dep. Variable:                returns   No. Observations:                 5014\n",
      "Model:                 ARIMA(0, 0, 4)   Log Likelihood               -7891.673\n",
      "Date:                Thu, 26 Jan 2023   AIC                          15795.345\n",
      "Time:                        23:32:41   BIC                          15834.465\n",
      "Sample:                             0   HQIC                         15809.054\n",
      "                               - 5014                                         \n",
      "Covariance Type:                  opg                                         \n",
      "==============================================================================\n",
      "                 coef    std err          z      P>|z|      [0.025      0.975]\n",
      "------------------------------------------------------------------------------\n",
      "const          0.0193      0.015      1.266      0.206      -0.011       0.049\n",
      "ma.L1         -0.0205      0.009     -2.261      0.024      -0.038      -0.003\n",
      "ma.L2         -0.0550      0.008     -6.825      0.000      -0.071      -0.039\n",
      "ma.L3         -0.0913      0.008    -11.450      0.000      -0.107      -0.076\n",
      "ma.L4          0.0445      0.009      5.159      0.000       0.028       0.061\n",
      "sigma2         1.3634      0.015     92.042      0.000       1.334       1.392\n",
      "===================================================================================\n",
      "Ljung-Box (L1) (Q):                   0.02   Jarque-Bera (JB):              6477.02\n",
      "Prob(Q):                              0.88   Prob(JB):                         0.00\n",
      "Heteroskedasticity (H):               2.00   Skew:                            -0.14\n",
      "Prob(H) (two-sided):                  0.00   Kurtosis:                         8.56\n",
      "===================================================================================\n",
      "\n",
      "Warnings:\n",
      "[1] Covariance matrix calculated using the outer product of gradients (complex-step).\n"
     ]
    },
    {
     "data": {
      "text/plain": [
       "0.001"
      ]
     },
     "execution_count": 12,
     "metadata": {},
     "output_type": "execute_result"
    }
   ],
   "source": [
    "model_ma_4 = ARIMA(df_train.returns, order = (0,0,4))\n",
    "results_ma_4 = model_ma_4.fit()\n",
    "print(results_ma_4.summary())\n",
    "LLR_test(model_ma_3,model_ma_4)"
   ]
  },
  {
   "cell_type": "code",
   "execution_count": 13,
   "id": "168d8886",
   "metadata": {},
   "outputs": [
    {
     "name": "stderr",
     "output_type": "stream",
     "text": [
      "D:\\anaconda\\lib\\site-packages\\statsmodels\\tsa\\base\\tsa_model.py:471: ValueWarning: A date index has been provided, but it has no associated frequency information and so will be ignored when e.g. forecasting.\n",
      "  self._init_dates(dates, freq)\n",
      "D:\\anaconda\\lib\\site-packages\\statsmodels\\tsa\\base\\tsa_model.py:471: ValueWarning: A date index has been provided, but it has no associated frequency information and so will be ignored when e.g. forecasting.\n",
      "  self._init_dates(dates, freq)\n",
      "D:\\anaconda\\lib\\site-packages\\statsmodels\\tsa\\base\\tsa_model.py:471: ValueWarning: A date index has been provided, but it has no associated frequency information and so will be ignored when e.g. forecasting.\n",
      "  self._init_dates(dates, freq)\n"
     ]
    },
    {
     "name": "stdout",
     "output_type": "stream",
     "text": [
      "                               SARIMAX Results                                \n",
      "==============================================================================\n",
      "Dep. Variable:                returns   No. Observations:                 5014\n",
      "Model:                 ARIMA(0, 0, 5)   Log Likelihood               -7885.545\n",
      "Date:                Thu, 26 Jan 2023   AIC                          15785.089\n",
      "Time:                        23:33:04   BIC                          15830.729\n",
      "Sample:                             0   HQIC                         15801.083\n",
      "                               - 5014                                         \n",
      "Covariance Type:                  opg                                         \n",
      "==============================================================================\n",
      "                 coef    std err          z      P>|z|      [0.025      0.975]\n",
      "------------------------------------------------------------------------------\n",
      "const          0.0193      0.015      1.313      0.189      -0.010       0.048\n",
      "ma.L1         -0.0266      0.009     -2.875      0.004      -0.045      -0.008\n",
      "ma.L2         -0.0495      0.008     -6.121      0.000      -0.065      -0.034\n",
      "ma.L3         -0.0842      0.008    -10.404      0.000      -0.100      -0.068\n",
      "ma.L4          0.0449      0.009      5.206      0.000       0.028       0.062\n",
      "ma.L5         -0.0508      0.008     -6.348      0.000      -0.066      -0.035\n",
      "sigma2         1.3600      0.015     91.841      0.000       1.331       1.389\n",
      "===================================================================================\n",
      "Ljung-Box (L1) (Q):                   0.02   Jarque-Bera (JB):              6382.64\n",
      "Prob(Q):                              0.89   Prob(JB):                         0.00\n",
      "Heteroskedasticity (H):               2.00   Skew:                            -0.18\n",
      "Prob(H) (two-sided):                  0.00   Kurtosis:                         8.52\n",
      "===================================================================================\n",
      "\n",
      "Warnings:\n",
      "[1] Covariance matrix calculated using the outer product of gradients (complex-step).\n"
     ]
    },
    {
     "data": {
      "text/plain": [
       "0.0"
      ]
     },
     "execution_count": 13,
     "metadata": {},
     "output_type": "execute_result"
    }
   ],
   "source": [
    "model_ma_5 = ARIMA(df_train.returns, order = (0,0,5))\n",
    "results_ma_5 = model_ma_5.fit()\n",
    "print(results_ma_5.summary())\n",
    "LLR_test(model_ma_4,model_ma_5)"
   ]
  },
  {
   "cell_type": "code",
   "execution_count": 14,
   "id": "2ab7de1c",
   "metadata": {},
   "outputs": [
    {
     "name": "stderr",
     "output_type": "stream",
     "text": [
      "D:\\anaconda\\lib\\site-packages\\statsmodels\\tsa\\base\\tsa_model.py:471: ValueWarning: A date index has been provided, but it has no associated frequency information and so will be ignored when e.g. forecasting.\n",
      "  self._init_dates(dates, freq)\n",
      "D:\\anaconda\\lib\\site-packages\\statsmodels\\tsa\\base\\tsa_model.py:471: ValueWarning: A date index has been provided, but it has no associated frequency information and so will be ignored when e.g. forecasting.\n",
      "  self._init_dates(dates, freq)\n",
      "D:\\anaconda\\lib\\site-packages\\statsmodels\\tsa\\base\\tsa_model.py:471: ValueWarning: A date index has been provided, but it has no associated frequency information and so will be ignored when e.g. forecasting.\n",
      "  self._init_dates(dates, freq)\n"
     ]
    },
    {
     "name": "stdout",
     "output_type": "stream",
     "text": [
      "                               SARIMAX Results                                \n",
      "==============================================================================\n",
      "Dep. Variable:                returns   No. Observations:                 5014\n",
      "Model:                 ARIMA(0, 0, 6)   Log Likelihood               -7881.754\n",
      "Date:                Thu, 26 Jan 2023   AIC                          15779.507\n",
      "Time:                        23:33:27   BIC                          15831.667\n",
      "Sample:                             0   HQIC                         15797.786\n",
      "                               - 5014                                         \n",
      "Covariance Type:                  opg                                         \n",
      "==============================================================================\n",
      "                 coef    std err          z      P>|z|      [0.025      0.975]\n",
      "------------------------------------------------------------------------------\n",
      "const          0.0194      0.014      1.349      0.177      -0.009       0.047\n",
      "ma.L1         -0.0239      0.009     -2.578      0.010      -0.042      -0.006\n",
      "ma.L2         -0.0484      0.008     -5.959      0.000      -0.064      -0.032\n",
      "ma.L3         -0.0817      0.008    -10.054      0.000      -0.098      -0.066\n",
      "ma.L4          0.0457      0.009      5.275      0.000       0.029       0.063\n",
      "ma.L5         -0.0492      0.008     -6.074      0.000      -0.065      -0.033\n",
      "ma.L6         -0.0397      0.009     -4.424      0.000      -0.057      -0.022\n",
      "sigma2         1.3580      0.015     92.178      0.000       1.329       1.387\n",
      "===================================================================================\n",
      "Ljung-Box (L1) (Q):                   0.00   Jarque-Bera (JB):              6537.97\n",
      "Prob(Q):                              0.98   Prob(JB):                         0.00\n",
      "Heteroskedasticity (H):               2.00   Skew:                            -0.20\n",
      "Prob(H) (two-sided):                  0.00   Kurtosis:                         8.58\n",
      "===================================================================================\n",
      "\n",
      "Warnings:\n",
      "[1] Covariance matrix calculated using the outer product of gradients (complex-step).\n"
     ]
    },
    {
     "data": {
      "text/plain": [
       "0.006"
      ]
     },
     "execution_count": 14,
     "metadata": {},
     "output_type": "execute_result"
    }
   ],
   "source": [
    "model_ma_6 = ARIMA(df_train.returns, order = (0,0,6))\n",
    "results_ma_6 = model_ma_6.fit()\n",
    "print(results_ma_6.summary())\n",
    "LLR_test(model_ma_5,model_ma_6)"
   ]
  },
  {
   "cell_type": "code",
   "execution_count": 15,
   "id": "a498934c",
   "metadata": {},
   "outputs": [
    {
     "name": "stderr",
     "output_type": "stream",
     "text": [
      "D:\\anaconda\\lib\\site-packages\\statsmodels\\tsa\\base\\tsa_model.py:471: ValueWarning: A date index has been provided, but it has no associated frequency information and so will be ignored when e.g. forecasting.\n",
      "  self._init_dates(dates, freq)\n",
      "D:\\anaconda\\lib\\site-packages\\statsmodels\\tsa\\base\\tsa_model.py:471: ValueWarning: A date index has been provided, but it has no associated frequency information and so will be ignored when e.g. forecasting.\n",
      "  self._init_dates(dates, freq)\n",
      "D:\\anaconda\\lib\\site-packages\\statsmodels\\tsa\\base\\tsa_model.py:471: ValueWarning: A date index has been provided, but it has no associated frequency information and so will be ignored when e.g. forecasting.\n",
      "  self._init_dates(dates, freq)\n"
     ]
    },
    {
     "name": "stdout",
     "output_type": "stream",
     "text": [
      "                               SARIMAX Results                                \n",
      "==============================================================================\n",
      "Dep. Variable:                returns   No. Observations:                 5014\n",
      "Model:                 ARIMA(0, 0, 7)   Log Likelihood               -7881.524\n",
      "Date:                Thu, 26 Jan 2023   AIC                          15781.048\n",
      "Time:                        23:33:54   BIC                          15839.728\n",
      "Sample:                             0   HQIC                         15801.611\n",
      "                               - 5014                                         \n",
      "Covariance Type:                  opg                                         \n",
      "==============================================================================\n",
      "                 coef    std err          z      P>|z|      [0.025      0.975]\n",
      "------------------------------------------------------------------------------\n",
      "const          0.0194      0.015      1.333      0.183      -0.009       0.048\n",
      "ma.L1         -0.0249      0.009     -2.673      0.008      -0.043      -0.007\n",
      "ma.L2         -0.0487      0.008     -5.981      0.000      -0.065      -0.033\n",
      "ma.L3         -0.0810      0.008     -9.845      0.000      -0.097      -0.065\n",
      "ma.L4          0.0448      0.009      5.167      0.000       0.028       0.062\n",
      "ma.L5         -0.0493      0.008     -6.077      0.000      -0.065      -0.033\n",
      "ma.L6         -0.0400      0.009     -4.422      0.000      -0.058      -0.022\n",
      "ma.L7          0.0097      0.009      1.082      0.279      -0.008       0.027\n",
      "sigma2         1.3579      0.015     91.365      0.000       1.329       1.387\n",
      "===================================================================================\n",
      "Ljung-Box (L1) (Q):                   0.00   Jarque-Bera (JB):              6506.63\n",
      "Prob(Q):                              0.98   Prob(JB):                         0.00\n",
      "Heteroskedasticity (H):               2.00   Skew:                            -0.19\n",
      "Prob(H) (two-sided):                  0.00   Kurtosis:                         8.57\n",
      "===================================================================================\n",
      "\n",
      "Warnings:\n",
      "[1] Covariance matrix calculated using the outer product of gradients (complex-step).\n"
     ]
    },
    {
     "data": {
      "text/plain": [
       "0.498"
      ]
     },
     "execution_count": 15,
     "metadata": {},
     "output_type": "execute_result"
    }
   ],
   "source": [
    "model_ma_7 = ARIMA(df_train.returns, order = (0,0,7))\n",
    "results_ma_7 = model_ma_7.fit()\n",
    "print(results_ma_7.summary())\n",
    "LLR_test(model_ma_6,model_ma_7)"
   ]
  },
  {
   "cell_type": "code",
   "execution_count": 16,
   "id": "ef4bfe07",
   "metadata": {},
   "outputs": [
    {
     "name": "stderr",
     "output_type": "stream",
     "text": [
      "D:\\anaconda\\lib\\site-packages\\statsmodels\\tsa\\base\\tsa_model.py:471: ValueWarning: A date index has been provided, but it has no associated frequency information and so will be ignored when e.g. forecasting.\n",
      "  self._init_dates(dates, freq)\n",
      "D:\\anaconda\\lib\\site-packages\\statsmodels\\tsa\\base\\tsa_model.py:471: ValueWarning: A date index has been provided, but it has no associated frequency information and so will be ignored when e.g. forecasting.\n",
      "  self._init_dates(dates, freq)\n",
      "D:\\anaconda\\lib\\site-packages\\statsmodels\\tsa\\base\\tsa_model.py:471: ValueWarning: A date index has been provided, but it has no associated frequency information and so will be ignored when e.g. forecasting.\n",
      "  self._init_dates(dates, freq)\n"
     ]
    },
    {
     "name": "stdout",
     "output_type": "stream",
     "text": [
      "                               SARIMAX Results                                \n",
      "==============================================================================\n",
      "Dep. Variable:                returns   No. Observations:                 5014\n",
      "Model:                 ARIMA(0, 0, 8)   Log Likelihood               -7878.270\n",
      "Date:                Thu, 26 Jan 2023   AIC                          15776.540\n",
      "Time:                        23:34:22   BIC                          15841.740\n",
      "Sample:                             0   HQIC                         15799.388\n",
      "                               - 5014                                         \n",
      "Covariance Type:                  opg                                         \n",
      "==============================================================================\n",
      "                 coef    std err          z      P>|z|      [0.025      0.975]\n",
      "------------------------------------------------------------------------------\n",
      "const          0.0194      0.015      1.284      0.199      -0.010       0.049\n",
      "ma.L1         -0.0241      0.009     -2.555      0.011      -0.043      -0.006\n",
      "ma.L2         -0.0494      0.008     -6.029      0.000      -0.065      -0.033\n",
      "ma.L3         -0.0836      0.008    -10.168      0.000      -0.100      -0.068\n",
      "ma.L4          0.0475      0.009      5.466      0.000       0.030       0.065\n",
      "ma.L5         -0.0524      0.008     -6.373      0.000      -0.069      -0.036\n",
      "ma.L6         -0.0411      0.009     -4.508      0.000      -0.059      -0.023\n",
      "ma.L7          0.0095      0.009      1.067      0.286      -0.008       0.027\n",
      "ma.L8          0.0356      0.009      3.784      0.000       0.017       0.054\n",
      "sigma2         1.3561      0.015     91.310      0.000       1.327       1.385\n",
      "===================================================================================\n",
      "Ljung-Box (L1) (Q):                   0.00   Jarque-Bera (JB):              6442.53\n",
      "Prob(Q):                              0.99   Prob(JB):                         0.00\n",
      "Heteroskedasticity (H):               2.00   Skew:                            -0.18\n",
      "Prob(H) (two-sided):                  0.00   Kurtosis:                         8.54\n",
      "===================================================================================\n",
      "\n",
      "Warnings:\n",
      "[1] Covariance matrix calculated using the outer product of gradients (complex-step).\n"
     ]
    },
    {
     "data": {
      "text/plain": [
       "0.011"
      ]
     },
     "execution_count": 16,
     "metadata": {},
     "output_type": "execute_result"
    }
   ],
   "source": [
    "model_ma_8 = ARIMA(df_train.returns, order = (0,0,8))\n",
    "results_ma_8 = model_ma_8.fit()\n",
    "print(results_ma_8.summary())\n",
    "LLR_test(model_ma_7,model_ma_8)"
   ]
  },
  {
   "cell_type": "code",
   "execution_count": 17,
   "id": "29269da7",
   "metadata": {},
   "outputs": [
    {
     "data": {
      "text/plain": [
       "0.031"
      ]
     },
     "execution_count": 17,
     "metadata": {},
     "output_type": "execute_result"
    }
   ],
   "source": [
    "#checking llr test for MA(8) and MA(6)\n",
    "LLR_test(model_ma_6,model_ma_8, DF = 2)"
   ]
  },
  {
   "cell_type": "markdown",
   "id": "d64a1915",
   "metadata": {},
   "source": [
    "### residuals for returns"
   ]
  },
  {
   "cell_type": "code",
   "execution_count": 18,
   "id": "034fb649",
   "metadata": {},
   "outputs": [
    {
     "data": {
      "text/html": [
       "<div>\n",
       "<style scoped>\n",
       "    .dataframe tbody tr th:only-of-type {\n",
       "        vertical-align: middle;\n",
       "    }\n",
       "\n",
       "    .dataframe tbody tr th {\n",
       "        vertical-align: top;\n",
       "    }\n",
       "\n",
       "    .dataframe thead th {\n",
       "        text-align: right;\n",
       "    }\n",
       "</style>\n",
       "<table border=\"1\" class=\"dataframe\">\n",
       "  <thead>\n",
       "    <tr style=\"text-align: right;\">\n",
       "      <th></th>\n",
       "      <th>market_value</th>\n",
       "      <th>returns</th>\n",
       "      <th>residuals_returns</th>\n",
       "    </tr>\n",
       "    <tr>\n",
       "      <th>date</th>\n",
       "      <th></th>\n",
       "      <th></th>\n",
       "      <th></th>\n",
       "    </tr>\n",
       "  </thead>\n",
       "  <tbody>\n",
       "    <tr>\n",
       "      <th>1994-01-10</th>\n",
       "      <td>3440.58</td>\n",
       "      <td>-0.156704</td>\n",
       "      <td>-0.176063</td>\n",
       "    </tr>\n",
       "    <tr>\n",
       "      <th>1994-01-11</th>\n",
       "      <td>3413.77</td>\n",
       "      <td>-0.779229</td>\n",
       "      <td>-0.802587</td>\n",
       "    </tr>\n",
       "    <tr>\n",
       "      <th>1994-01-12</th>\n",
       "      <td>3372.02</td>\n",
       "      <td>-1.222988</td>\n",
       "      <td>-1.269984</td>\n",
       "    </tr>\n",
       "    <tr>\n",
       "      <th>1994-01-13</th>\n",
       "      <td>3360.01</td>\n",
       "      <td>-0.356166</td>\n",
       "      <td>-0.464956</td>\n",
       "    </tr>\n",
       "    <tr>\n",
       "      <th>1994-01-14</th>\n",
       "      <td>3400.56</td>\n",
       "      <td>1.206842</td>\n",
       "      <td>1.062083</td>\n",
       "    </tr>\n",
       "  </tbody>\n",
       "</table>\n",
       "</div>"
      ],
      "text/plain": [
       "            market_value   returns  residuals_returns\n",
       "date                                                 \n",
       "1994-01-10       3440.58 -0.156704          -0.176063\n",
       "1994-01-11       3413.77 -0.779229          -0.802587\n",
       "1994-01-12       3372.02 -1.222988          -1.269984\n",
       "1994-01-13       3360.01 -0.356166          -0.464956\n",
       "1994-01-14       3400.56  1.206842           1.062083"
      ]
     },
     "execution_count": 18,
     "metadata": {},
     "output_type": "execute_result"
    }
   ],
   "source": [
    "df_train['residuals_returns'] = results_ma_8.resid\n",
    "df_train.head()"
   ]
  },
  {
   "cell_type": "code",
   "execution_count": 19,
   "id": "1c4dead5",
   "metadata": {},
   "outputs": [
    {
     "data": {
      "text/plain": [
       "count    5014.000000\n",
       "mean       -0.000052\n",
       "std         1.164640\n",
       "min        -8.783969\n",
       "25%        -0.557011\n",
       "50%         0.034869\n",
       "75%         0.601373\n",
       "max         9.049622\n",
       "Name: residuals_returns, dtype: float64"
      ]
     },
     "execution_count": 19,
     "metadata": {},
     "output_type": "execute_result"
    }
   ],
   "source": [
    "#checking summary statistics\n",
    "df_train.residuals_returns.describe()"
   ]
  },
  {
   "cell_type": "code",
   "execution_count": 20,
   "id": "61c4bcd0",
   "metadata": {},
   "outputs": [
    {
     "data": {
      "image/png": "[encoded data removed]",
      "text/plain": [
       "<Figure size 864x360 with 1 Axes>"
      ]
     },
     "metadata": {
      "needs_background": "light"
     },
     "output_type": "display_data"
    }
   ],
   "source": [
    "#plotting the residuals\n",
    "plt.plot(df_train['residuals_returns'])\n",
    "plt.title('Residuals for MA model on returns',size = 12)\n",
    "plt.show()"
   ]
  },
  {
   "cell_type": "code",
   "execution_count": 23,
   "id": "ba14292b",
   "metadata": {},
   "outputs": [
    {
     "name": "stderr",
     "output_type": "stream",
     "text": [
      "D:\\anaconda\\lib\\site-packages\\seaborn\\distributions.py:2557: FutureWarning: `distplot` is a deprecated function and will be removed in a future version. Please adapt your code to use either `displot` (a figure-level function with similar flexibility) or `histplot` (an axes-level function for histograms).\n",
      "  warnings.warn(msg, FutureWarning)\n"
     ]
    },
    {
     "data": {
      "image/png": "[encoded data removed]",
      "text/plain": [
       "<Figure size 864x360 with 1 Axes>"
      ]
     },
     "metadata": {
      "needs_background": "light"
     },
     "output_type": "display_data"
    }
   ],
   "source": [
    "#displot for frequency of residuals\n",
    "sns.distplot(df_train.residuals_returns)\n",
    "plt.title('Density distribution of residuals', size = 12)\n",
    "plt.show()"
   ]
  },
  {
   "cell_type": "code",
   "execution_count": 24,
   "id": "45acc691",
   "metadata": {},
   "outputs": [
    {
     "data": {
      "text/plain": [
       "(-70.80017505049635,\n",
       " 0.0,\n",
       " 0,\n",
       " 5013,\n",
       " {'1%': -3.431655136974821,\n",
       "  '5%': -2.8621167297421373,\n",
       "  '10%': -2.567076993884522},\n",
       " 15675.197453826331)"
      ]
     },
     "execution_count": 24,
     "metadata": {},
     "output_type": "execute_result"
    }
   ],
   "source": [
    "#checking for stationarity\n",
    "sts.adfuller(df_train['residuals_returns'])"
   ]
  },
  {
   "cell_type": "code",
   "execution_count": 28,
   "id": "f04ed273",
   "metadata": {},
   "outputs": [
    {
     "data": {
      "image/png": "[encoded data removed]",
      "text/plain": [
       "<Figure size 864x360 with 1 Axes>"
      ]
     },
     "metadata": {
      "needs_background": "light"
     },
     "output_type": "display_data"
    }
   ],
   "source": [
    "#plotting acf \n",
    "sgt.plot_acf(df_train.residuals_returns, lags = 40, zero = False)\n",
    "plt.title(\"ACF for residuals\", size = 12)\n",
    "plt.ylim(-.05,.05)\n",
    "plt.show()"
   ]
  },
  {
   "cell_type": "markdown",
   "id": "956ad648",
   "metadata": {},
   "source": [
    "### normalised returns"
   ]
  },
  {
   "cell_type": "code",
   "execution_count": 29,
   "id": "7ae946b9",
   "metadata": {},
   "outputs": [
    {
     "data": {
      "text/html": [
       "<div>\n",
       "<style scoped>\n",
       "    .dataframe tbody tr th:only-of-type {\n",
       "        vertical-align: middle;\n",
       "    }\n",
       "\n",
       "    .dataframe tbody tr th {\n",
       "        vertical-align: top;\n",
       "    }\n",
       "\n",
       "    .dataframe thead th {\n",
       "        text-align: right;\n",
       "    }\n",
       "</style>\n",
       "<table border=\"1\" class=\"dataframe\">\n",
       "  <thead>\n",
       "    <tr style=\"text-align: right;\">\n",
       "      <th></th>\n",
       "      <th>market_value</th>\n",
       "      <th>returns</th>\n",
       "      <th>residuals_returns</th>\n",
       "      <th>norm_returns</th>\n",
       "    </tr>\n",
       "    <tr>\n",
       "      <th>date</th>\n",
       "      <th></th>\n",
       "      <th></th>\n",
       "      <th></th>\n",
       "      <th></th>\n",
       "    </tr>\n",
       "  </thead>\n",
       "  <tbody>\n",
       "    <tr>\n",
       "      <th>1994-01-10</th>\n",
       "      <td>3440.58</td>\n",
       "      <td>-0.156704</td>\n",
       "      <td>-0.176063</td>\n",
       "      <td>100.000000</td>\n",
       "    </tr>\n",
       "    <tr>\n",
       "      <th>1994-01-11</th>\n",
       "      <td>3413.77</td>\n",
       "      <td>-0.779229</td>\n",
       "      <td>-0.802587</td>\n",
       "      <td>497.260711</td>\n",
       "    </tr>\n",
       "    <tr>\n",
       "      <th>1994-01-12</th>\n",
       "      <td>3372.02</td>\n",
       "      <td>-1.222988</td>\n",
       "      <td>-1.269984</td>\n",
       "      <td>780.443046</td>\n",
       "    </tr>\n",
       "    <tr>\n",
       "      <th>1994-01-13</th>\n",
       "      <td>3360.01</td>\n",
       "      <td>-0.356166</td>\n",
       "      <td>-0.464956</td>\n",
       "      <td>227.285567</td>\n",
       "    </tr>\n",
       "    <tr>\n",
       "      <th>1994-01-14</th>\n",
       "      <td>3400.56</td>\n",
       "      <td>1.206842</td>\n",
       "      <td>1.062083</td>\n",
       "      <td>-770.139292</td>\n",
       "    </tr>\n",
       "  </tbody>\n",
       "</table>\n",
       "</div>"
      ],
      "text/plain": [
       "            market_value   returns  residuals_returns  norm_returns\n",
       "date                                                               \n",
       "1994-01-10       3440.58 -0.156704          -0.176063    100.000000\n",
       "1994-01-11       3413.77 -0.779229          -0.802587    497.260711\n",
       "1994-01-12       3372.02 -1.222988          -1.269984    780.443046\n",
       "1994-01-13       3360.01 -0.356166          -0.464956    227.285567\n",
       "1994-01-14       3400.56  1.206842           1.062083   -770.139292"
      ]
     },
     "execution_count": 29,
     "metadata": {},
     "output_type": "execute_result"
    }
   ],
   "source": [
    "### normalizing returns and performing dickey fuller test\n",
    "ret = df_train.returns.iloc[0]\n",
    "df_train['norm_returns'] = (df_train.returns/ret)*100\n",
    "df_train.head()"
   ]
  },
  {
   "cell_type": "code",
   "execution_count": 30,
   "id": "482c0e25",
   "metadata": {},
   "outputs": [
    {
     "data": {
      "text/plain": [
       "(-12.78421644953709,\n",
       " 7.305352237049716e-24,\n",
       " 32,\n",
       " 4981,\n",
       " {'1%': -3.4316635260404795,\n",
       "  '5%': -2.8621204359855366,\n",
       "  '10%': -2.567078966862675},\n",
       " 80027.44775098964)"
      ]
     },
     "execution_count": 30,
     "metadata": {},
     "output_type": "execute_result"
    }
   ],
   "source": [
    "sts.adfuller(df_train.norm_returns)"
   ]
  },
  {
   "cell_type": "code",
   "execution_count": 31,
   "id": "a99bb428",
   "metadata": {},
   "outputs": [
    {
     "name": "stderr",
     "output_type": "stream",
     "text": [
      "D:\\anaconda\\lib\\site-packages\\statsmodels\\tsa\\base\\tsa_model.py:471: ValueWarning: A date index has been provided, but it has no associated frequency information and so will be ignored when e.g. forecasting.\n",
      "  self._init_dates(dates, freq)\n",
      "D:\\anaconda\\lib\\site-packages\\statsmodels\\tsa\\base\\tsa_model.py:471: ValueWarning: A date index has been provided, but it has no associated frequency information and so will be ignored when e.g. forecasting.\n",
      "  self._init_dates(dates, freq)\n",
      "D:\\anaconda\\lib\\site-packages\\statsmodels\\tsa\\base\\tsa_model.py:471: ValueWarning: A date index has been provided, but it has no associated frequency information and so will be ignored when e.g. forecasting.\n",
      "  self._init_dates(dates, freq)\n"
     ]
    },
    {
     "name": "stdout",
     "output_type": "stream",
     "text": [
      "                               SARIMAX Results                                \n",
      "==============================================================================\n",
      "Dep. Variable:           norm_returns   No. Observations:                 5014\n",
      "Model:                 ARIMA(0, 0, 8)   Log Likelihood              -40261.530\n",
      "Date:                Thu, 26 Jan 2023   AIC                          80543.060\n",
      "Time:                        23:57:26   BIC                          80608.260\n",
      "Sample:                             0   HQIC                         80565.908\n",
      "                               - 5014                                         \n",
      "Covariance Type:                  opg                                         \n",
      "==============================================================================\n",
      "                 coef    std err          z      P>|z|      [0.025      0.975]\n",
      "------------------------------------------------------------------------------\n",
      "const        -12.3276      9.654     -1.277      0.202     -31.249       6.594\n",
      "ma.L1         -0.0241      0.009     -2.545      0.011      -0.043      -0.006\n",
      "ma.L2         -0.0494      0.008     -6.006      0.000      -0.065      -0.033\n",
      "ma.L3         -0.0836      0.008    -10.131      0.000      -0.100      -0.067\n",
      "ma.L4          0.0475      0.009      5.446      0.000       0.030       0.065\n",
      "ma.L5         -0.0524      0.008     -6.349      0.000      -0.069      -0.036\n",
      "ma.L6         -0.0411      0.009     -4.491      0.000      -0.059      -0.023\n",
      "ma.L7          0.0095      0.009      1.063      0.288      -0.008       0.027\n",
      "ma.L8          0.0356      0.009      3.769      0.000       0.017       0.054\n",
      "sigma2      5.543e+05   6092.833     90.973      0.000    5.42e+05    5.66e+05\n",
      "===================================================================================\n",
      "Ljung-Box (L1) (Q):                   0.00   Jarque-Bera (JB):              6442.48\n",
      "Prob(Q):                              0.99   Prob(JB):                         0.00\n",
      "Heteroskedasticity (H):               2.00   Skew:                             0.18\n",
      "Prob(H) (two-sided):                  0.00   Kurtosis:                         8.54\n",
      "===================================================================================\n",
      "\n",
      "Warnings:\n",
      "[1] Covariance matrix calculated using the outer product of gradients (complex-step).\n"
     ]
    }
   ],
   "source": [
    "#fitting an MA(8) model on normalised returns\n",
    "model_norm_ma_8 = ARIMA(df_train.norm_returns, order = (0,0,8))\n",
    "results_norm_ma_8 = model_norm_ma_8.fit()\n",
    "print(results_norm_ma_8.summary())"
   ]
  },
  {
   "cell_type": "code",
   "execution_count": 32,
   "id": "2f418e72",
   "metadata": {},
   "outputs": [
    {
     "data": {
      "image/png": "[encoded data removed]",
      "text/plain": [
       "<Figure size 864x360 with 1 Axes>"
      ]
     },
     "metadata": {
      "needs_background": "light"
     },
     "output_type": "display_data"
    }
   ],
   "source": [
    "#plotting acf for normalised returns\n",
    "sgt.plot_acf(df_train.norm_returns, lags = 40, zero = False)\n",
    "plt.title('ACF for normalised returns', size = 15)\n",
    "plt.ylim(-.1,.1)\n",
    "plt.show()"
   ]
  },
  {
   "cell_type": "code",
   "execution_count": 36,
   "id": "dd0dc6cc",
   "metadata": {},
   "outputs": [],
   "source": [
    "#finding residuals for normalised returns\n",
    "df_train['norm_return_residuals'] = results_norm_ma_8.resid"
   ]
  },
  {
   "cell_type": "code",
   "execution_count": 37,
   "id": "f8ed9c99",
   "metadata": {},
   "outputs": [
    {
     "data": {
      "image/png": "[encoded data removed]",
      "text/plain": [
       "<Figure size 864x360 with 1 Axes>"
      ]
     },
     "metadata": {
      "needs_background": "light"
     },
     "output_type": "display_data"
    }
   ],
   "source": [
    "#plotting normalised residuals\n",
    "plt.plot(df_train['norm_return_residuals'])\n",
    "plt.title('Residuals for MA model on normalised returns',size = 12)\n",
    "plt.show()"
   ]
  },
  {
   "cell_type": "code",
   "execution_count": 39,
   "id": "25f2d411",
   "metadata": {},
   "outputs": [
    {
     "data": {
      "image/png": "[encoded data removed]",
      "text/plain": [
       "<Figure size 864x360 with 1 Axes>"
      ]
     },
     "metadata": {
      "needs_background": "light"
     },
     "output_type": "display_data"
    }
   ],
   "source": [
    "#plotting acf for normalised returns\n",
    "sgt.plot_acf(df_train.norm_return_residuals, lags = 40, zero = False)\n",
    "plt.title(\"ACF for normalised return residuals\", size = 12)\n",
    "plt.ylim(-.05,.05)\n",
    "plt.show()"
   ]
  },
  {
   "cell_type": "code",
   "execution_count": null,
   "id": "e8c069f2",
   "metadata": {},
   "outputs": [],
   "source": []
  }
 ],
 "metadata": {
  "kernelspec": {
   "display_name": "Python 3",
   "language": "python",
   "name": "python3"
  },
  "language_info": {
   "codemirror_mode": {
    "name": "ipython",
    "version": 3
   },
   "file_extension": ".py",
   "mimetype": "text/x-python",
   "name": "python",
   "nbconvert_exporter": "python",
   "pygments_lexer": "ipython3",
   "version": "3.8.8"
  }
 },
 "nbformat": 4,
 "nbformat_minor": 5
}
