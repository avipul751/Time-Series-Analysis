{
 "cells": [
  {
   "cell_type": "markdown",
   "id": "ac9969bd",
   "metadata": {},
   "source": [
    "## Required libraries"
   ]
  },
  {
   "cell_type": "code",
   "execution_count": 15,
   "id": "47a7ea1a",
   "metadata": {},
   "outputs": [],
   "source": [
    "import numpy as np\n",
    "import pandas as pd\n",
    "import matplotlib.pyplot as plt\n",
    "import seaborn as sns\n",
    "import statsmodels.graphics.tsaplots as sgt\n",
    "from scipy.stats.distributions import chi2\n"
   ]
  },
  {
   "cell_type": "markdown",
   "id": "c688bbc7",
   "metadata": {},
   "source": [
    "## Importing the data and preprocessing"
   ]
  },
  {
   "cell_type": "code",
   "execution_count": 16,
   "id": "7eae2480",
   "metadata": {},
   "outputs": [
    {
     "data": {
      "text/html": [
       "<div>\n",
       "<style scoped>\n",
       "    .dataframe tbody tr th:only-of-type {\n",
       "        vertical-align: middle;\n",
       "    }\n",
       "\n",
       "    .dataframe tbody tr th {\n",
       "        vertical-align: top;\n",
       "    }\n",
       "\n",
       "    .dataframe thead th {\n",
       "        text-align: right;\n",
       "    }\n",
       "</style>\n",
       "<table border=\"1\" class=\"dataframe\">\n",
       "  <thead>\n",
       "    <tr style=\"text-align: right;\">\n",
       "      <th></th>\n",
       "      <th>spx</th>\n",
       "      <th>dax</th>\n",
       "      <th>ftse</th>\n",
       "      <th>nikkei</th>\n",
       "    </tr>\n",
       "    <tr>\n",
       "      <th>date</th>\n",
       "      <th></th>\n",
       "      <th></th>\n",
       "      <th></th>\n",
       "      <th></th>\n",
       "    </tr>\n",
       "  </thead>\n",
       "  <tbody>\n",
       "    <tr>\n",
       "      <th>1994-01-07</th>\n",
       "      <td>469.900000</td>\n",
       "      <td>2224.95</td>\n",
       "      <td>3445.980000</td>\n",
       "      <td>18124.01</td>\n",
       "    </tr>\n",
       "    <tr>\n",
       "      <th>1994-01-10</th>\n",
       "      <td>475.270000</td>\n",
       "      <td>2225.00</td>\n",
       "      <td>3440.580000</td>\n",
       "      <td>18443.44</td>\n",
       "    </tr>\n",
       "    <tr>\n",
       "      <th>1994-01-11</th>\n",
       "      <td>474.130000</td>\n",
       "      <td>2228.10</td>\n",
       "      <td>3413.770000</td>\n",
       "      <td>18485.25</td>\n",
       "    </tr>\n",
       "    <tr>\n",
       "      <th>1994-01-12</th>\n",
       "      <td>474.170000</td>\n",
       "      <td>2182.06</td>\n",
       "      <td>3372.020000</td>\n",
       "      <td>18793.88</td>\n",
       "    </tr>\n",
       "    <tr>\n",
       "      <th>1994-01-13</th>\n",
       "      <td>472.470000</td>\n",
       "      <td>2142.37</td>\n",
       "      <td>3360.010000</td>\n",
       "      <td>18577.26</td>\n",
       "    </tr>\n",
       "    <tr>\n",
       "      <th>...</th>\n",
       "      <td>...</td>\n",
       "      <td>...</td>\n",
       "      <td>...</td>\n",
       "      <td>...</td>\n",
       "    </tr>\n",
       "    <tr>\n",
       "      <th>2018-01-23</th>\n",
       "      <td>2839.130362</td>\n",
       "      <td>13559.60</td>\n",
       "      <td>7731.827774</td>\n",
       "      <td>24124.15</td>\n",
       "    </tr>\n",
       "    <tr>\n",
       "      <th>2018-01-24</th>\n",
       "      <td>2837.544008</td>\n",
       "      <td>13414.74</td>\n",
       "      <td>7643.428966</td>\n",
       "      <td>23940.78</td>\n",
       "    </tr>\n",
       "    <tr>\n",
       "      <th>2018-01-25</th>\n",
       "      <td>2839.253031</td>\n",
       "      <td>13298.36</td>\n",
       "      <td>7615.839954</td>\n",
       "      <td>23669.49</td>\n",
       "    </tr>\n",
       "    <tr>\n",
       "      <th>2018-01-26</th>\n",
       "      <td>2872.867839</td>\n",
       "      <td>13340.17</td>\n",
       "      <td>7665.541292</td>\n",
       "      <td>23631.88</td>\n",
       "    </tr>\n",
       "    <tr>\n",
       "      <th>2018-01-29</th>\n",
       "      <td>2853.528411</td>\n",
       "      <td>13324.48</td>\n",
       "      <td>7671.533300</td>\n",
       "      <td>23629.34</td>\n",
       "    </tr>\n",
       "  </tbody>\n",
       "</table>\n",
       "<p>6269 rows × 4 columns</p>\n",
       "</div>"
      ],
      "text/plain": [
       "                    spx       dax         ftse    nikkei\n",
       "date                                                    \n",
       "1994-01-07   469.900000   2224.95  3445.980000  18124.01\n",
       "1994-01-10   475.270000   2225.00  3440.580000  18443.44\n",
       "1994-01-11   474.130000   2228.10  3413.770000  18485.25\n",
       "1994-01-12   474.170000   2182.06  3372.020000  18793.88\n",
       "1994-01-13   472.470000   2142.37  3360.010000  18577.26\n",
       "...                 ...       ...          ...       ...\n",
       "2018-01-23  2839.130362  13559.60  7731.827774  24124.15\n",
       "2018-01-24  2837.544008  13414.74  7643.428966  23940.78\n",
       "2018-01-25  2839.253031  13298.36  7615.839954  23669.49\n",
       "2018-01-26  2872.867839  13340.17  7665.541292  23631.88\n",
       "2018-01-29  2853.528411  13324.48  7671.533300  23629.34\n",
       "\n",
       "[6269 rows x 4 columns]"
      ]
     },
     "execution_count": 16,
     "metadata": {},
     "output_type": "execute_result"
    }
   ],
   "source": [
    "df = pd.read_csv('Index2018.csv')\n",
    "data2 = df.copy #copying the dataframe\n",
    "df.date = pd.to_datetime(df.date, dayfirst = True) #parsing dates\n",
    "df.set_index('date', inplace = True) #setting date column as index\n",
    "df.asfreq('b') #setting a constant frequency as business days\n",
    "df.fillna('ffill') #filling missing or nan values"
   ]
  },
  {
   "cell_type": "code",
   "execution_count": 17,
   "id": "1fba06dc",
   "metadata": {},
   "outputs": [
    {
     "data": {
      "text/html": [
       "<div>\n",
       "<style scoped>\n",
       "    .dataframe tbody tr th:only-of-type {\n",
       "        vertical-align: middle;\n",
       "    }\n",
       "\n",
       "    .dataframe tbody tr th {\n",
       "        vertical-align: top;\n",
       "    }\n",
       "\n",
       "    .dataframe thead th {\n",
       "        text-align: right;\n",
       "    }\n",
       "</style>\n",
       "<table border=\"1\" class=\"dataframe\">\n",
       "  <thead>\n",
       "    <tr style=\"text-align: right;\">\n",
       "      <th></th>\n",
       "      <th>market_value</th>\n",
       "    </tr>\n",
       "    <tr>\n",
       "      <th>date</th>\n",
       "      <th></th>\n",
       "    </tr>\n",
       "  </thead>\n",
       "  <tbody>\n",
       "    <tr>\n",
       "      <th>1994-01-07</th>\n",
       "      <td>3445.98</td>\n",
       "    </tr>\n",
       "    <tr>\n",
       "      <th>1994-01-10</th>\n",
       "      <td>3440.58</td>\n",
       "    </tr>\n",
       "    <tr>\n",
       "      <th>1994-01-11</th>\n",
       "      <td>3413.77</td>\n",
       "    </tr>\n",
       "    <tr>\n",
       "      <th>1994-01-12</th>\n",
       "      <td>3372.02</td>\n",
       "    </tr>\n",
       "    <tr>\n",
       "      <th>1994-01-13</th>\n",
       "      <td>3360.01</td>\n",
       "    </tr>\n",
       "  </tbody>\n",
       "</table>\n",
       "</div>"
      ],
      "text/plain": [
       "            market_value\n",
       "date                    \n",
       "1994-01-07       3445.98\n",
       "1994-01-10       3440.58\n",
       "1994-01-11       3413.77\n",
       "1994-01-12       3372.02\n",
       "1994-01-13       3360.01"
      ]
     },
     "execution_count": 17,
     "metadata": {},
     "output_type": "execute_result"
    }
   ],
   "source": [
    "# keeping only ftse column and removing rest \n",
    "df['market_value'] = df.ftse\n",
    "del df['spx']\n",
    "del df['dax']\n",
    "del df['ftse']\n",
    "del df['nikkei']\n",
    "df.head()"
   ]
  },
  {
   "cell_type": "code",
   "execution_count": 18,
   "id": "f03b0ed7",
   "metadata": {},
   "outputs": [],
   "source": [
    "#splitting the data into training and testing data\n",
    "size = int(len(df)*0.8)\n",
    "df_train = df[:size]\n",
    "df_test = df[size:]"
   ]
  },
  {
   "cell_type": "code",
   "execution_count": 19,
   "id": "bc4ed328",
   "metadata": {},
   "outputs": [
    {
     "name": "stdout",
     "output_type": "stream",
     "text": [
      "            market_value\n",
      "date                    \n",
      "2013-03-28       6411.74\n",
      "2013-03-29       6411.74\n",
      "2013-04-01       6411.74\n",
      "2013-04-02       6490.66\n",
      "2013-04-03       6420.28\n",
      "            market_value\n",
      "date                    \n",
      "2013-04-04       6344.11\n",
      "2013-04-05       6249.77\n",
      "2013-04-08       6276.94\n",
      "2013-04-09       6313.20\n",
      "2013-04-10       6387.37\n"
     ]
    }
   ],
   "source": [
    "print(df_train.tail())\n",
    "print(df_test.head())"
   ]
  },
  {
   "cell_type": "markdown",
   "id": "45dc8a79",
   "metadata": {},
   "source": [
    "## ACF"
   ]
  },
  {
   "cell_type": "code",
   "execution_count": 20,
   "id": "04536125",
   "metadata": {},
   "outputs": [
    {
     "data": {
      "image/png": "[encoded data removed]",
      "text/plain": [
       "<Figure size 864x360 with 1 Axes>"
      ]
     },
     "metadata": {
      "needs_background": "light"
     },
     "output_type": "display_data"
    }
   ],
   "source": [
    "plt.rcParams['figure.figsize'] = (12,5)\n",
    "sgt.plot_acf(df_train.market_value, lags = 40, zero = False)\n",
    "plt.title('ACF for FTSE prices', size = 15)\n",
    "plt.ylim(-.25,1)\n",
    "plt.show()"
   ]
  },
  {
   "cell_type": "markdown",
   "id": "8620d51f",
   "metadata": {},
   "source": [
    "## PACF"
   ]
  },
  {
   "cell_type": "code",
   "execution_count": 21,
   "id": "a2abfcda",
   "metadata": {},
   "outputs": [
    {
     "data": {
      "image/png": "[encoded data removed]",
      "text/plain": [
       "<Figure size 864x360 with 1 Axes>"
      ]
     },
     "metadata": {
      "needs_background": "light"
     },
     "output_type": "display_data"
    }
   ],
   "source": [
    "sgt.plot_pacf(df_train.market_value, zero = False, lags = 40, method = 'ols')\n",
    "plt.title(\"PACF for FTSE prices\", size = 18)\n",
    "plt.ylim(-.25,1)\n",
    "plt.show()"
   ]
  },
  {
   "cell_type": "markdown",
   "id": "3e98a032",
   "metadata": {},
   "source": [
    "## AR(1) model"
   ]
  },
  {
   "cell_type": "code",
   "execution_count": 26,
   "id": "13b8280b",
   "metadata": {},
   "outputs": [],
   "source": [
    "from statsmodels.tsa.arima.model import ARIMA"
   ]
  },
  {
   "cell_type": "code",
   "execution_count": 29,
   "id": "2950a0f4",
   "metadata": {},
   "outputs": [
    {
     "name": "stderr",
     "output_type": "stream",
     "text": [
      "D:\\anaconda\\lib\\site-packages\\statsmodels\\tsa\\base\\tsa_model.py:471: ValueWarning: A date index has been provided, but it has no associated frequency information and so will be ignored when e.g. forecasting.\n",
      "  self._init_dates(dates, freq)\n",
      "D:\\anaconda\\lib\\site-packages\\statsmodels\\tsa\\base\\tsa_model.py:471: ValueWarning: A date index has been provided, but it has no associated frequency information and so will be ignored when e.g. forecasting.\n",
      "  self._init_dates(dates, freq)\n",
      "D:\\anaconda\\lib\\site-packages\\statsmodels\\tsa\\base\\tsa_model.py:471: ValueWarning: A date index has been provided, but it has no associated frequency information and so will be ignored when e.g. forecasting.\n",
      "  self._init_dates(dates, freq)\n"
     ]
    },
    {
     "data": {
      "text/html": [
       "<table class=\"simpletable\">\n",
       "<caption>SARIMAX Results</caption>\n",
       "<tr>\n",
       "  <th>Dep. Variable:</th>     <td>market_value</td>   <th>  No. Observations:  </th>    <td>5015</td>   \n",
       "</tr>\n",
       "<tr>\n",
       "  <th>Model:</th>            <td>ARIMA(1, 0, 0)</td>  <th>  Log Likelihood     </th> <td>-27590.598</td>\n",
       "</tr>\n",
       "<tr>\n",
       "  <th>Date:</th>            <td>Wed, 25 Jan 2023</td> <th>  AIC                </th>  <td>55187.195</td>\n",
       "</tr>\n",
       "<tr>\n",
       "  <th>Time:</th>                <td>23:54:01</td>     <th>  BIC                </th>  <td>55206.756</td>\n",
       "</tr>\n",
       "<tr>\n",
       "  <th>Sample:</th>                  <td>0</td>        <th>  HQIC               </th>  <td>55194.050</td>\n",
       "</tr>\n",
       "<tr>\n",
       "  <th></th>                      <td> - 5015</td>     <th>                     </th>      <td> </td>    \n",
       "</tr>\n",
       "<tr>\n",
       "  <th>Covariance Type:</th>        <td>opg</td>       <th>                     </th>      <td> </td>    \n",
       "</tr>\n",
       "</table>\n",
       "<table class=\"simpletable\">\n",
       "<tr>\n",
       "     <td></td>       <th>coef</th>     <th>std err</th>      <th>z</th>      <th>P>|z|</th>  <th>[0.025</th>    <th>0.975]</th>  \n",
       "</tr>\n",
       "<tr>\n",
       "  <th>const</th>  <td> 5088.7896</td> <td>  432.857</td> <td>   11.756</td> <td> 0.000</td> <td> 4240.405</td> <td> 5937.174</td>\n",
       "</tr>\n",
       "<tr>\n",
       "  <th>ar.L1</th>  <td>    0.9985</td> <td>    0.001</td> <td> 1143.852</td> <td> 0.000</td> <td>    0.997</td> <td>    1.000</td>\n",
       "</tr>\n",
       "<tr>\n",
       "  <th>sigma2</th> <td> 3512.7793</td> <td>   40.910</td> <td>   85.866</td> <td> 0.000</td> <td> 3432.598</td> <td> 3592.961</td>\n",
       "</tr>\n",
       "</table>\n",
       "<table class=\"simpletable\">\n",
       "<tr>\n",
       "  <th>Ljung-Box (L1) (Q):</th>     <td>1.60</td> <th>  Jarque-Bera (JB):  </th> <td>3313.28</td>\n",
       "</tr>\n",
       "<tr>\n",
       "  <th>Prob(Q):</th>                <td>0.21</td> <th>  Prob(JB):          </th>  <td>0.00</td>  \n",
       "</tr>\n",
       "<tr>\n",
       "  <th>Heteroskedasticity (H):</th> <td>1.90</td> <th>  Skew:              </th>  <td>-0.18</td> \n",
       "</tr>\n",
       "<tr>\n",
       "  <th>Prob(H) (two-sided):</th>    <td>0.00</td> <th>  Kurtosis:          </th>  <td>6.97</td>  \n",
       "</tr>\n",
       "</table><br/><br/>Warnings:<br/>[1] Covariance matrix calculated using the outer product of gradients (complex-step)."
      ],
      "text/plain": [
       "<class 'statsmodels.iolib.summary.Summary'>\n",
       "\"\"\"\n",
       "                               SARIMAX Results                                \n",
       "==============================================================================\n",
       "Dep. Variable:           market_value   No. Observations:                 5015\n",
       "Model:                 ARIMA(1, 0, 0)   Log Likelihood              -27590.598\n",
       "Date:                Wed, 25 Jan 2023   AIC                          55187.195\n",
       "Time:                        23:54:01   BIC                          55206.756\n",
       "Sample:                             0   HQIC                         55194.050\n",
       "                               - 5015                                         \n",
       "Covariance Type:                  opg                                         \n",
       "==============================================================================\n",
       "                 coef    std err          z      P>|z|      [0.025      0.975]\n",
       "------------------------------------------------------------------------------\n",
       "const       5088.7896    432.857     11.756      0.000    4240.405    5937.174\n",
       "ar.L1          0.9985      0.001   1143.852      0.000       0.997       1.000\n",
       "sigma2      3512.7793     40.910     85.866      0.000    3432.598    3592.961\n",
       "===================================================================================\n",
       "Ljung-Box (L1) (Q):                   1.60   Jarque-Bera (JB):              3313.28\n",
       "Prob(Q):                              0.21   Prob(JB):                         0.00\n",
       "Heteroskedasticity (H):               1.90   Skew:                            -0.18\n",
       "Prob(H) (two-sided):                  0.00   Kurtosis:                         6.97\n",
       "===================================================================================\n",
       "\n",
       "Warnings:\n",
       "[1] Covariance matrix calculated using the outer product of gradients (complex-step).\n",
       "\"\"\""
      ]
     },
     "execution_count": 29,
     "metadata": {},
     "output_type": "execute_result"
    }
   ],
   "source": [
    "model_ar = ARIMA(df_train.market_value, order = (1,0,0))\n",
    "model_ar.fit().summary()"
   ]
  },
  {
   "cell_type": "markdown",
   "id": "ba8be332",
   "metadata": {},
   "source": [
    "## Higher lag AR models"
   ]
  },
  {
   "cell_type": "code",
   "execution_count": 30,
   "id": "e1da4ab4",
   "metadata": {},
   "outputs": [
    {
     "data": {
      "text/html": [
       "<table class=\"simpletable\">\n",
       "<caption>SARIMAX Results</caption>\n",
       "<tr>\n",
       "  <th>Dep. Variable:</th>     <td>market_value</td>   <th>  No. Observations:  </th>    <td>5015</td>   \n",
       "</tr>\n",
       "<tr>\n",
       "  <th>Model:</th>            <td>ARIMA(2, 0, 0)</td>  <th>  Log Likelihood     </th> <td>-27589.897</td>\n",
       "</tr>\n",
       "<tr>\n",
       "  <th>Date:</th>            <td>Wed, 25 Jan 2023</td> <th>  AIC                </th>  <td>55187.794</td>\n",
       "</tr>\n",
       "<tr>\n",
       "  <th>Time:</th>                <td>23:55:08</td>     <th>  BIC                </th>  <td>55213.875</td>\n",
       "</tr>\n",
       "<tr>\n",
       "  <th>Sample:</th>                  <td>0</td>        <th>  HQIC               </th>  <td>55196.933</td>\n",
       "</tr>\n",
       "<tr>\n",
       "  <th></th>                      <td> - 5015</td>     <th>                     </th>      <td> </td>    \n",
       "</tr>\n",
       "<tr>\n",
       "  <th>Covariance Type:</th>        <td>opg</td>       <th>                     </th>      <td> </td>    \n",
       "</tr>\n",
       "</table>\n",
       "<table class=\"simpletable\">\n",
       "<tr>\n",
       "     <td></td>       <th>coef</th>     <th>std err</th>      <th>z</th>      <th>P>|z|</th>  <th>[0.025</th>    <th>0.975]</th>  \n",
       "</tr>\n",
       "<tr>\n",
       "  <th>const</th>  <td> 5088.7919</td> <td>  377.102</td> <td>   13.494</td> <td> 0.000</td> <td> 4349.686</td> <td> 5827.898</td>\n",
       "</tr>\n",
       "<tr>\n",
       "  <th>ar.L1</th>  <td>    0.9806</td> <td>    0.010</td> <td>   99.782</td> <td> 0.000</td> <td>    0.961</td> <td>    1.000</td>\n",
       "</tr>\n",
       "<tr>\n",
       "  <th>ar.L2</th>  <td>    0.0176</td> <td>    0.010</td> <td>    1.799</td> <td> 0.072</td> <td>   -0.002</td> <td>    0.037</td>\n",
       "</tr>\n",
       "<tr>\n",
       "  <th>sigma2</th> <td> 3511.4915</td> <td>   41.072</td> <td>   85.496</td> <td> 0.000</td> <td> 3430.992</td> <td> 3591.991</td>\n",
       "</tr>\n",
       "</table>\n",
       "<table class=\"simpletable\">\n",
       "<tr>\n",
       "  <th>Ljung-Box (L1) (Q):</th>     <td>0.00</td> <th>  Jarque-Bera (JB):  </th> <td>3282.67</td>\n",
       "</tr>\n",
       "<tr>\n",
       "  <th>Prob(Q):</th>                <td>0.95</td> <th>  Prob(JB):          </th>  <td>0.00</td>  \n",
       "</tr>\n",
       "<tr>\n",
       "  <th>Heteroskedasticity (H):</th> <td>1.89</td> <th>  Skew:              </th>  <td>-0.19</td> \n",
       "</tr>\n",
       "<tr>\n",
       "  <th>Prob(H) (two-sided):</th>    <td>0.00</td> <th>  Kurtosis:          </th>  <td>6.95</td>  \n",
       "</tr>\n",
       "</table><br/><br/>Warnings:<br/>[1] Covariance matrix calculated using the outer product of gradients (complex-step)."
      ],
      "text/plain": [
       "<class 'statsmodels.iolib.summary.Summary'>\n",
       "\"\"\"\n",
       "                               SARIMAX Results                                \n",
       "==============================================================================\n",
       "Dep. Variable:           market_value   No. Observations:                 5015\n",
       "Model:                 ARIMA(2, 0, 0)   Log Likelihood              -27589.897\n",
       "Date:                Wed, 25 Jan 2023   AIC                          55187.794\n",
       "Time:                        23:55:08   BIC                          55213.875\n",
       "Sample:                             0   HQIC                         55196.933\n",
       "                               - 5015                                         \n",
       "Covariance Type:                  opg                                         \n",
       "==============================================================================\n",
       "                 coef    std err          z      P>|z|      [0.025      0.975]\n",
       "------------------------------------------------------------------------------\n",
       "const       5088.7919    377.102     13.494      0.000    4349.686    5827.898\n",
       "ar.L1          0.9806      0.010     99.782      0.000       0.961       1.000\n",
       "ar.L2          0.0176      0.010      1.799      0.072      -0.002       0.037\n",
       "sigma2      3511.4915     41.072     85.496      0.000    3430.992    3591.991\n",
       "===================================================================================\n",
       "Ljung-Box (L1) (Q):                   0.00   Jarque-Bera (JB):              3282.67\n",
       "Prob(Q):                              0.95   Prob(JB):                         0.00\n",
       "Heteroskedasticity (H):               1.89   Skew:                            -0.19\n",
       "Prob(H) (two-sided):                  0.00   Kurtosis:                         6.95\n",
       "===================================================================================\n",
       "\n",
       "Warnings:\n",
       "[1] Covariance matrix calculated using the outer product of gradients (complex-step).\n",
       "\"\"\""
      ]
     },
     "execution_count": 30,
     "metadata": {},
     "output_type": "execute_result"
    }
   ],
   "source": [
    "warnings.filterwarnings('ignore')\n",
    "model_ar_2 = ARIMA(df_train.market_value, order = (2,0,0))\n",
    "model_ar_2.fit().summary()"
   ]
  },
  {
   "cell_type": "code",
   "execution_count": 31,
   "id": "6f6acbef",
   "metadata": {},
   "outputs": [
    {
     "data": {
      "text/html": [
       "<table class=\"simpletable\">\n",
       "<caption>SARIMAX Results</caption>\n",
       "<tr>\n",
       "  <th>Dep. Variable:</th>     <td>market_value</td>   <th>  No. Observations:  </th>    <td>5015</td>   \n",
       "</tr>\n",
       "<tr>\n",
       "  <th>Model:</th>            <td>ARIMA(3, 0, 0)</td>  <th>  Log Likelihood     </th> <td>-27583.870</td>\n",
       "</tr>\n",
       "<tr>\n",
       "  <th>Date:</th>            <td>Wed, 25 Jan 2023</td> <th>  AIC                </th>  <td>55177.740</td>\n",
       "</tr>\n",
       "<tr>\n",
       "  <th>Time:</th>                <td>23:55:46</td>     <th>  BIC                </th>  <td>55210.341</td>\n",
       "</tr>\n",
       "<tr>\n",
       "  <th>Sample:</th>                  <td>0</td>        <th>  HQIC               </th>  <td>55189.164</td>\n",
       "</tr>\n",
       "<tr>\n",
       "  <th></th>                      <td> - 5015</td>     <th>                     </th>      <td> </td>    \n",
       "</tr>\n",
       "<tr>\n",
       "  <th>Covariance Type:</th>        <td>opg</td>       <th>                     </th>      <td> </td>    \n",
       "</tr>\n",
       "</table>\n",
       "<table class=\"simpletable\">\n",
       "<tr>\n",
       "     <td></td>       <th>coef</th>     <th>std err</th>      <th>z</th>      <th>P>|z|</th>  <th>[0.025</th>    <th>0.975]</th>  \n",
       "</tr>\n",
       "<tr>\n",
       "  <th>const</th>  <td> 5088.7919</td> <td>  388.026</td> <td>   13.115</td> <td> 0.000</td> <td> 4328.275</td> <td> 5849.309</td>\n",
       "</tr>\n",
       "<tr>\n",
       "  <th>ar.L1</th>  <td>    0.9798</td> <td>    0.010</td> <td>   98.991</td> <td> 0.000</td> <td>    0.960</td> <td>    0.999</td>\n",
       "</tr>\n",
       "<tr>\n",
       "  <th>ar.L2</th>  <td>   -0.0306</td> <td>    0.013</td> <td>   -2.290</td> <td> 0.022</td> <td>   -0.057</td> <td>   -0.004</td>\n",
       "</tr>\n",
       "<tr>\n",
       "  <th>ar.L3</th>  <td>    0.0491</td> <td>    0.009</td> <td>    5.401</td> <td> 0.000</td> <td>    0.031</td> <td>    0.067</td>\n",
       "</tr>\n",
       "<tr>\n",
       "  <th>sigma2</th> <td> 3503.5624</td> <td>   41.053</td> <td>   85.342</td> <td> 0.000</td> <td> 3423.100</td> <td> 3584.025</td>\n",
       "</tr>\n",
       "</table>\n",
       "<table class=\"simpletable\">\n",
       "<tr>\n",
       "  <th>Ljung-Box (L1) (Q):</th>     <td>0.06</td> <th>  Jarque-Bera (JB):  </th> <td>3287.49</td>\n",
       "</tr>\n",
       "<tr>\n",
       "  <th>Prob(Q):</th>                <td>0.80</td> <th>  Prob(JB):          </th>  <td>0.00</td>  \n",
       "</tr>\n",
       "<tr>\n",
       "  <th>Heteroskedasticity (H):</th> <td>1.90</td> <th>  Skew:              </th>  <td>-0.23</td> \n",
       "</tr>\n",
       "<tr>\n",
       "  <th>Prob(H) (two-sided):</th>    <td>0.00</td> <th>  Kurtosis:          </th>  <td>6.94</td>  \n",
       "</tr>\n",
       "</table><br/><br/>Warnings:<br/>[1] Covariance matrix calculated using the outer product of gradients (complex-step)."
      ],
      "text/plain": [
       "<class 'statsmodels.iolib.summary.Summary'>\n",
       "\"\"\"\n",
       "                               SARIMAX Results                                \n",
       "==============================================================================\n",
       "Dep. Variable:           market_value   No. Observations:                 5015\n",
       "Model:                 ARIMA(3, 0, 0)   Log Likelihood              -27583.870\n",
       "Date:                Wed, 25 Jan 2023   AIC                          55177.740\n",
       "Time:                        23:55:46   BIC                          55210.341\n",
       "Sample:                             0   HQIC                         55189.164\n",
       "                               - 5015                                         \n",
       "Covariance Type:                  opg                                         \n",
       "==============================================================================\n",
       "                 coef    std err          z      P>|z|      [0.025      0.975]\n",
       "------------------------------------------------------------------------------\n",
       "const       5088.7919    388.026     13.115      0.000    4328.275    5849.309\n",
       "ar.L1          0.9798      0.010     98.991      0.000       0.960       0.999\n",
       "ar.L2         -0.0306      0.013     -2.290      0.022      -0.057      -0.004\n",
       "ar.L3          0.0491      0.009      5.401      0.000       0.031       0.067\n",
       "sigma2      3503.5624     41.053     85.342      0.000    3423.100    3584.025\n",
       "===================================================================================\n",
       "Ljung-Box (L1) (Q):                   0.06   Jarque-Bera (JB):              3287.49\n",
       "Prob(Q):                              0.80   Prob(JB):                         0.00\n",
       "Heteroskedasticity (H):               1.90   Skew:                            -0.23\n",
       "Prob(H) (two-sided):                  0.00   Kurtosis:                         6.94\n",
       "===================================================================================\n",
       "\n",
       "Warnings:\n",
       "[1] Covariance matrix calculated using the outer product of gradients (complex-step).\n",
       "\"\"\""
      ]
     },
     "execution_count": 31,
     "metadata": {},
     "output_type": "execute_result"
    }
   ],
   "source": [
    "model_ar_3 = ARIMA(df_train.market_value, order = (3,0,0))\n",
    "model_ar_3.fit().summary()"
   ]
  },
  {
   "cell_type": "code",
   "execution_count": 32,
   "id": "1cffb02c",
   "metadata": {},
   "outputs": [
    {
     "data": {
      "text/html": [
       "<table class=\"simpletable\">\n",
       "<caption>SARIMAX Results</caption>\n",
       "<tr>\n",
       "  <th>Dep. Variable:</th>     <td>market_value</td>   <th>  No. Observations:  </th>    <td>5015</td>   \n",
       "</tr>\n",
       "<tr>\n",
       "  <th>Model:</th>            <td>ARIMA(4, 0, 0)</td>  <th>  Log Likelihood     </th> <td>-27571.058</td>\n",
       "</tr>\n",
       "<tr>\n",
       "  <th>Date:</th>            <td>Wed, 25 Jan 2023</td> <th>  AIC                </th>  <td>55154.116</td>\n",
       "</tr>\n",
       "<tr>\n",
       "  <th>Time:</th>                <td>23:56:02</td>     <th>  BIC                </th>  <td>55193.237</td>\n",
       "</tr>\n",
       "<tr>\n",
       "  <th>Sample:</th>                  <td>0</td>        <th>  HQIC               </th>  <td>55167.825</td>\n",
       "</tr>\n",
       "<tr>\n",
       "  <th></th>                      <td> - 5015</td>     <th>                     </th>      <td> </td>    \n",
       "</tr>\n",
       "<tr>\n",
       "  <th>Covariance Type:</th>        <td>opg</td>       <th>                     </th>      <td> </td>    \n",
       "</tr>\n",
       "</table>\n",
       "<table class=\"simpletable\">\n",
       "<tr>\n",
       "     <td></td>       <th>coef</th>     <th>std err</th>      <th>z</th>      <th>P>|z|</th>  <th>[0.025</th>    <th>0.975]</th>  \n",
       "</tr>\n",
       "<tr>\n",
       "  <th>const</th>  <td> 5088.7919</td> <td>  401.681</td> <td>   12.669</td> <td> 0.000</td> <td> 4301.512</td> <td> 5876.072</td>\n",
       "</tr>\n",
       "<tr>\n",
       "  <th>ar.L1</th>  <td>    0.9763</td> <td>    0.010</td> <td>   97.721</td> <td> 0.000</td> <td>    0.957</td> <td>    0.996</td>\n",
       "</tr>\n",
       "<tr>\n",
       "  <th>ar.L2</th>  <td>   -0.0284</td> <td>    0.013</td> <td>   -2.106</td> <td> 0.035</td> <td>   -0.055</td> <td>   -0.002</td>\n",
       "</tr>\n",
       "<tr>\n",
       "  <th>ar.L3</th>  <td>   -0.0210</td> <td>    0.013</td> <td>   -1.671</td> <td> 0.095</td> <td>   -0.046</td> <td>    0.004</td>\n",
       "</tr>\n",
       "<tr>\n",
       "  <th>ar.L4</th>  <td>    0.0715</td> <td>    0.009</td> <td>    7.889</td> <td> 0.000</td> <td>    0.054</td> <td>    0.089</td>\n",
       "</tr>\n",
       "<tr>\n",
       "  <th>sigma2</th> <td> 3485.9546</td> <td>   41.961</td> <td>   83.076</td> <td> 0.000</td> <td> 3403.712</td> <td> 3568.197</td>\n",
       "</tr>\n",
       "</table>\n",
       "<table class=\"simpletable\">\n",
       "<tr>\n",
       "  <th>Ljung-Box (L1) (Q):</th>     <td>0.02</td> <th>  Jarque-Bera (JB):  </th> <td>3047.12</td>\n",
       "</tr>\n",
       "<tr>\n",
       "  <th>Prob(Q):</th>                <td>0.89</td> <th>  Prob(JB):          </th>  <td>0.00</td>  \n",
       "</tr>\n",
       "<tr>\n",
       "  <th>Heteroskedasticity (H):</th> <td>1.90</td> <th>  Skew:              </th>  <td>-0.28</td> \n",
       "</tr>\n",
       "<tr>\n",
       "  <th>Prob(H) (two-sided):</th>    <td>0.00</td> <th>  Kurtosis:          </th>  <td>6.78</td>  \n",
       "</tr>\n",
       "</table><br/><br/>Warnings:<br/>[1] Covariance matrix calculated using the outer product of gradients (complex-step)."
      ],
      "text/plain": [
       "<class 'statsmodels.iolib.summary.Summary'>\n",
       "\"\"\"\n",
       "                               SARIMAX Results                                \n",
       "==============================================================================\n",
       "Dep. Variable:           market_value   No. Observations:                 5015\n",
       "Model:                 ARIMA(4, 0, 0)   Log Likelihood              -27571.058\n",
       "Date:                Wed, 25 Jan 2023   AIC                          55154.116\n",
       "Time:                        23:56:02   BIC                          55193.237\n",
       "Sample:                             0   HQIC                         55167.825\n",
       "                               - 5015                                         \n",
       "Covariance Type:                  opg                                         \n",
       "==============================================================================\n",
       "                 coef    std err          z      P>|z|      [0.025      0.975]\n",
       "------------------------------------------------------------------------------\n",
       "const       5088.7919    401.681     12.669      0.000    4301.512    5876.072\n",
       "ar.L1          0.9763      0.010     97.721      0.000       0.957       0.996\n",
       "ar.L2         -0.0284      0.013     -2.106      0.035      -0.055      -0.002\n",
       "ar.L3         -0.0210      0.013     -1.671      0.095      -0.046       0.004\n",
       "ar.L4          0.0715      0.009      7.889      0.000       0.054       0.089\n",
       "sigma2      3485.9546     41.961     83.076      0.000    3403.712    3568.197\n",
       "===================================================================================\n",
       "Ljung-Box (L1) (Q):                   0.02   Jarque-Bera (JB):              3047.12\n",
       "Prob(Q):                              0.89   Prob(JB):                         0.00\n",
       "Heteroskedasticity (H):               1.90   Skew:                            -0.28\n",
       "Prob(H) (two-sided):                  0.00   Kurtosis:                         6.78\n",
       "===================================================================================\n",
       "\n",
       "Warnings:\n",
       "[1] Covariance matrix calculated using the outer product of gradients (complex-step).\n",
       "\"\"\""
      ]
     },
     "execution_count": 32,
     "metadata": {},
     "output_type": "execute_result"
    }
   ],
   "source": [
    "model_ar_4 = ARIMA(df_train.market_value, order = (4,0,0))\n",
    "model_ar_4.fit().summary()"
   ]
  },
  {
   "cell_type": "markdown",
   "id": "a376cf76",
   "metadata": {},
   "source": [
    "## LLR Test"
   ]
  },
  {
   "cell_type": "code",
   "execution_count": 33,
   "id": "ba6a691d",
   "metadata": {},
   "outputs": [],
   "source": [
    "def LLR_test(model_1, model_2, DF = 1):\n",
    "    L1 = model_1.fit().llf\n",
    "    L2 = model_2.fit().llf\n",
    "    LR = 2*(L2-L1)\n",
    "    p = chi2.sf(LR, DF).round(3)\n",
    "    return p"
   ]
  },
  {
   "cell_type": "code",
   "execution_count": 34,
   "id": "593c7e9b",
   "metadata": {},
   "outputs": [
    {
     "name": "stdout",
     "output_type": "stream",
     "text": [
      "                               SARIMAX Results                                \n",
      "==============================================================================\n",
      "Dep. Variable:           market_value   No. Observations:                 5015\n",
      "Model:                 ARIMA(4, 0, 0)   Log Likelihood              -27571.058\n",
      "Date:                Wed, 25 Jan 2023   AIC                          55154.116\n",
      "Time:                        23:56:25   BIC                          55193.237\n",
      "Sample:                             0   HQIC                         55167.825\n",
      "                               - 5015                                         \n",
      "Covariance Type:                  opg                                         \n",
      "==============================================================================\n",
      "                 coef    std err          z      P>|z|      [0.025      0.975]\n",
      "------------------------------------------------------------------------------\n",
      "const       5088.7919    401.681     12.669      0.000    4301.512    5876.072\n",
      "ar.L1          0.9763      0.010     97.721      0.000       0.957       0.996\n",
      "ar.L2         -0.0284      0.013     -2.106      0.035      -0.055      -0.002\n",
      "ar.L3         -0.0210      0.013     -1.671      0.095      -0.046       0.004\n",
      "ar.L4          0.0715      0.009      7.889      0.000       0.054       0.089\n",
      "sigma2      3485.9546     41.961     83.076      0.000    3403.712    3568.197\n",
      "===================================================================================\n",
      "Ljung-Box (L1) (Q):                   0.02   Jarque-Bera (JB):              3047.12\n",
      "Prob(Q):                              0.89   Prob(JB):                         0.00\n",
      "Heteroskedasticity (H):               1.90   Skew:                            -0.28\n",
      "Prob(H) (two-sided):                  0.00   Kurtosis:                         6.78\n",
      "===================================================================================\n",
      "\n",
      "Warnings:\n",
      "[1] Covariance matrix calculated using the outer product of gradients (complex-step).\n",
      "LLR test p-value: 0.0\n"
     ]
    }
   ],
   "source": [
    "model_ar_4 = ARIMA(df_train.market_value, order = (4,0,0))\n",
    "print(model_ar_4.fit().summary())\n",
    "print('LLR test p-value: ' + str(LLR_test(model_ar_3, model_ar_4)))"
   ]
  },
  {
   "cell_type": "code",
   "execution_count": 29,
   "id": "a9d8dfb3",
   "metadata": {},
   "outputs": [
    {
     "name": "stdout",
     "output_type": "stream",
     "text": [
      "                              ARMA Model Results                              \n",
      "==============================================================================\n",
      "Dep. Variable:           market_value   No. Observations:                 5015\n",
      "Model:                     ARMA(4, 0)   Log Likelihood              -27570.945\n",
      "Method:                       css-mle   S.D. of innovations             59.037\n",
      "Date:                Tue, 15 Nov 2022   AIC                          55153.890\n",
      "Time:                        18:48:22   BIC                          55193.011\n",
      "Sample:                             0   HQIC                         55167.599\n",
      "                                                                              \n",
      "======================================================================================\n",
      "                         coef    std err          z      P>|z|      [0.025      0.975]\n",
      "--------------------------------------------------------------------------------------\n",
      "const               5059.7753    571.580      8.852      0.000    3939.498    6180.052\n",
      "ar.L1.market_value     0.9766      0.014     69.435      0.000       0.949       1.004\n",
      "ar.L2.market_value    -0.0283      0.020     -1.439      0.150      -0.067       0.010\n",
      "ar.L3.market_value    -0.0210      0.020     -1.063      0.288      -0.060       0.018\n",
      "ar.L4.market_value     0.0715      0.014      5.073      0.000       0.044       0.099\n",
      "                                    Roots                                    \n",
      "=============================================================================\n",
      "                  Real          Imaginary           Modulus         Frequency\n",
      "-----------------------------------------------------------------------------\n",
      "AR.1            1.0011           -0.0000j            1.0011           -0.0000\n",
      "AR.2            0.9570           -2.1011j            2.3088           -0.1820\n",
      "AR.3            0.9570           +2.1011j            2.3088            0.1820\n",
      "AR.4           -2.6218           -0.0000j            2.6218           -0.5000\n",
      "-----------------------------------------------------------------------------\n",
      "LLR test p-value: 0.0\n"
     ]
    }
   ],
   "source": [
    "model_ar_4 = ARMA(data_train.market_value, order = (4,0))\n",
    "print(model_ar_4.fit().summary())\n",
    "print('LLR test p-value: ' + str(LLR_test(model_ar_3, model_ar_4)))"
   ]
  },
  {
   "cell_type": "code",
   "execution_count": 35,
   "id": "339bed48",
   "metadata": {},
   "outputs": [
    {
     "name": "stdout",
     "output_type": "stream",
     "text": [
      "                               SARIMAX Results                                \n",
      "==============================================================================\n",
      "Dep. Variable:           market_value   No. Observations:                 5015\n",
      "Model:                 ARIMA(5, 0, 0)   Log Likelihood              -27568.951\n",
      "Date:                Wed, 25 Jan 2023   AIC                          55151.903\n",
      "Time:                        23:56:58   BIC                          55197.544\n",
      "Sample:                             0   HQIC                         55167.897\n",
      "                               - 5015                                         \n",
      "Covariance Type:                  opg                                         \n",
      "==============================================================================\n",
      "                 coef    std err          z      P>|z|      [0.025      0.975]\n",
      "------------------------------------------------------------------------------\n",
      "const       5088.7919    395.706     12.860      0.000    4313.221    5864.362\n",
      "ar.L1          0.9784      0.010     97.790      0.000       0.959       0.998\n",
      "ar.L2         -0.0290      0.013     -2.149      0.032      -0.055      -0.003\n",
      "ar.L3         -0.0218      0.013     -1.735      0.083      -0.047       0.003\n",
      "ar.L4          0.0998      0.013      7.736      0.000       0.075       0.125\n",
      "ar.L5         -0.0290      0.009     -3.225      0.001      -0.047      -0.011\n",
      "sigma2      3483.6590     42.299     82.358      0.000    3400.754    3566.564\n",
      "===================================================================================\n",
      "Ljung-Box (L1) (Q):                   0.01   Jarque-Bera (JB):              2969.08\n",
      "Prob(Q):                              0.94   Prob(JB):                         0.00\n",
      "Heteroskedasticity (H):               1.89   Skew:                            -0.26\n",
      "Prob(H) (two-sided):                  0.00   Kurtosis:                         6.73\n",
      "===================================================================================\n",
      "\n",
      "Warnings:\n",
      "[1] Covariance matrix calculated using the outer product of gradients (complex-step).\n",
      "LLR test p-value: 0.04\n"
     ]
    }
   ],
   "source": [
    "model_ar_5 = ARIMA(df_train.market_value, order = (5,0,0))\n",
    "print(model_ar_5.fit().summary())\n",
    "print('LLR test p-value: ' + str(LLR_test(model_ar_4, model_ar_5)))"
   ]
  },
  {
   "cell_type": "code",
   "execution_count": 36,
   "id": "7ed2cfc7",
   "metadata": {},
   "outputs": [
    {
     "name": "stdout",
     "output_type": "stream",
     "text": [
      "                               SARIMAX Results                                \n",
      "==============================================================================\n",
      "Dep. Variable:           market_value   No. Observations:                 5015\n",
      "Model:                 ARIMA(6, 0, 0)   Log Likelihood              -27565.004\n",
      "Date:                Wed, 25 Jan 2023   AIC                          55146.007\n",
      "Time:                        23:57:12   BIC                          55198.169\n",
      "Sample:                             0   HQIC                         55164.286\n",
      "                               - 5015                                         \n",
      "Covariance Type:                  opg                                         \n",
      "==============================================================================\n",
      "                 coef    std err          z      P>|z|      [0.025      0.975]\n",
      "------------------------------------------------------------------------------\n",
      "const       5088.7919    407.045     12.502      0.000    4290.999    5886.585\n",
      "ar.L1          0.9795      0.010     96.782      0.000       0.960       0.999\n",
      "ar.L2         -0.0329      0.014     -2.410      0.016      -0.060      -0.006\n",
      "ar.L3         -0.0210      0.013     -1.660      0.097      -0.046       0.004\n",
      "ar.L4          0.1010      0.013      7.826      0.000       0.076       0.126\n",
      "ar.L5         -0.0678      0.012     -5.563      0.000      -0.092      -0.044\n",
      "ar.L6          0.0397      0.009      4.424      0.000       0.022       0.057\n",
      "sigma2      3478.6418     42.185     82.462      0.000    3395.961    3561.323\n",
      "===================================================================================\n",
      "Ljung-Box (L1) (Q):                   0.02   Jarque-Bera (JB):              2991.60\n",
      "Prob(Q):                              0.90   Prob(JB):                         0.00\n",
      "Heteroskedasticity (H):               1.89   Skew:                            -0.28\n",
      "Prob(H) (two-sided):                  0.00   Kurtosis:                         6.74\n",
      "===================================================================================\n",
      "\n",
      "Warnings:\n",
      "[1] Covariance matrix calculated using the outer product of gradients (complex-step).\n",
      "LLR test p-value: 0.005\n"
     ]
    }
   ],
   "source": [
    "model_ar_6 = ARIMA(df_train.market_value, order = (6,0,0))\n",
    "print(model_ar_6.fit().summary())\n",
    "print('LLR test p-value: ' + str(LLR_test(model_ar_5, model_ar_6)))"
   ]
  },
  {
   "cell_type": "code",
   "execution_count": 37,
   "id": "46450365",
   "metadata": {},
   "outputs": [
    {
     "name": "stdout",
     "output_type": "stream",
     "text": [
      "                               SARIMAX Results                                \n",
      "==============================================================================\n",
      "Dep. Variable:           market_value   No. Observations:                 5015\n",
      "Model:                 ARIMA(7, 0, 0)   Log Likelihood              -27560.294\n",
      "Date:                Wed, 25 Jan 2023   AIC                          55138.587\n",
      "Time:                        23:57:48   BIC                          55197.269\n",
      "Sample:                             0   HQIC                         55159.151\n",
      "                               - 5015                                         \n",
      "Covariance Type:                  opg                                         \n",
      "==============================================================================\n",
      "                 coef    std err          z      P>|z|      [0.025      0.975]\n",
      "------------------------------------------------------------------------------\n",
      "const       5088.7919    416.186     12.227      0.000    4273.083    5904.501\n",
      "ar.L1          0.9778      0.010     95.650      0.000       0.958       0.998\n",
      "ar.L2         -0.0300      0.014     -2.153      0.031      -0.057      -0.003\n",
      "ar.L3         -0.0254      0.013     -1.998      0.046      -0.050      -0.000\n",
      "ar.L4          0.1019      0.013      7.896      0.000       0.077       0.127\n",
      "ar.L5         -0.0664      0.012     -5.443      0.000      -0.090      -0.042\n",
      "ar.L6         -0.0028      0.013     -0.222      0.825      -0.028       0.022\n",
      "ar.L7          0.0434      0.010      4.466      0.000       0.024       0.062\n",
      "sigma2      3472.7879     42.098     82.493      0.000    3390.277    3555.299\n",
      "===================================================================================\n",
      "Ljung-Box (L1) (Q):                   0.00   Jarque-Bera (JB):              3020.11\n",
      "Prob(Q):                              0.98   Prob(JB):                         0.00\n",
      "Heteroskedasticity (H):               1.89   Skew:                            -0.30\n",
      "Prob(H) (two-sided):                  0.00   Kurtosis:                         6.75\n",
      "===================================================================================\n",
      "\n",
      "Warnings:\n",
      "[1] Covariance matrix calculated using the outer product of gradients (complex-step).\n",
      "LLR test p-value: 0.002\n"
     ]
    }
   ],
   "source": [
    "model_ar_7 = ARIMA(df_train.market_value, order = (7,0,0))\n",
    "print(model_ar_7.fit().summary())\n",
    "print('LLR test p-value: ' + str(LLR_test(model_ar_6, model_ar_7)))"
   ]
  },
  {
   "cell_type": "code",
   "execution_count": 38,
   "id": "d1015d1d",
   "metadata": {},
   "outputs": [
    {
     "name": "stdout",
     "output_type": "stream",
     "text": [
      "                               SARIMAX Results                                \n",
      "==============================================================================\n",
      "Dep. Variable:           market_value   No. Observations:                 5015\n",
      "Model:                 ARIMA(8, 0, 0)   Log Likelihood              -27560.098\n",
      "Date:                Wed, 25 Jan 2023   AIC                          55140.195\n",
      "Time:                        23:58:07   BIC                          55205.397\n",
      "Sample:                             0   HQIC                         55163.044\n",
      "                               - 5015                                         \n",
      "Covariance Type:                  opg                                         \n",
      "==============================================================================\n",
      "                 coef    std err          z      P>|z|      [0.025      0.975]\n",
      "------------------------------------------------------------------------------\n",
      "const       5088.7919    417.984     12.175      0.000    4269.558    5908.026\n",
      "ar.L1          0.9782      0.010     95.628      0.000       0.958       0.998\n",
      "ar.L2         -0.0301      0.014     -2.153      0.031      -0.057      -0.003\n",
      "ar.L3         -0.0260      0.013     -2.016      0.044      -0.051      -0.001\n",
      "ar.L4          0.1028      0.013      7.834      0.000       0.077       0.128\n",
      "ar.L5         -0.0666      0.012     -5.461      0.000      -0.090      -0.043\n",
      "ar.L6         -0.0031      0.013     -0.240      0.810      -0.028       0.022\n",
      "ar.L7          0.0519      0.014      3.692      0.000       0.024       0.079\n",
      "ar.L8         -0.0087      0.010     -0.883      0.377      -0.028       0.011\n",
      "sigma2      3473.0646     42.211     82.278      0.000    3390.332    3555.798\n",
      "===================================================================================\n",
      "Ljung-Box (L1) (Q):                   0.00   Jarque-Bera (JB):              3008.78\n",
      "Prob(Q):                              0.98   Prob(JB):                         0.00\n",
      "Heteroskedasticity (H):               1.89   Skew:                            -0.30\n",
      "Prob(H) (two-sided):                  0.00   Kurtosis:                         6.75\n",
      "===================================================================================\n",
      "\n",
      "Warnings:\n",
      "[1] Covariance matrix calculated using the outer product of gradients (complex-step).\n",
      "LLR test p-value: 0.531\n"
     ]
    }
   ],
   "source": [
    "model_ar_8 = ARIMA(df_train.market_value, order = (8,0,0))\n",
    "print(model_ar_8.fit().summary())\n",
    "print('LLR test p-value: ' + str(LLR_test(model_ar_7, model_ar_8)))"
   ]
  },
  {
   "cell_type": "markdown",
   "id": "d64bf75a",
   "metadata": {},
   "source": [
    "---"
   ]
  },
  {
   "cell_type": "markdown",
   "id": "7ba85e3c",
   "metadata": {},
   "source": [
    "AR(7) model is the best AR model for this data"
   ]
  },
  {
   "cell_type": "markdown",
   "id": "45056c29",
   "metadata": {},
   "source": [
    "### analysing residuals"
   ]
  },
  {
   "cell_type": "code",
   "execution_count": 57,
   "id": "7bf33f8e",
   "metadata": {},
   "outputs": [
    {
     "data": {
      "text/html": [
       "<div>\n",
       "<style scoped>\n",
       "    .dataframe tbody tr th:only-of-type {\n",
       "        vertical-align: middle;\n",
       "    }\n",
       "\n",
       "    .dataframe tbody tr th {\n",
       "        vertical-align: top;\n",
       "    }\n",
       "\n",
       "    .dataframe thead th {\n",
       "        text-align: right;\n",
       "    }\n",
       "</style>\n",
       "<table border=\"1\" class=\"dataframe\">\n",
       "  <thead>\n",
       "    <tr style=\"text-align: right;\">\n",
       "      <th></th>\n",
       "      <th>market_value</th>\n",
       "      <th>residuals</th>\n",
       "    </tr>\n",
       "    <tr>\n",
       "      <th>date</th>\n",
       "      <th></th>\n",
       "      <th></th>\n",
       "    </tr>\n",
       "  </thead>\n",
       "  <tbody>\n",
       "    <tr>\n",
       "      <th>1994-01-07</th>\n",
       "      <td>3445.98</td>\n",
       "      <td>-1642.811850</td>\n",
       "    </tr>\n",
       "    <tr>\n",
       "      <th>1994-01-10</th>\n",
       "      <td>3440.58</td>\n",
       "      <td>-8.448640</td>\n",
       "    </tr>\n",
       "    <tr>\n",
       "      <th>1994-01-11</th>\n",
       "      <td>3413.77</td>\n",
       "      <td>-29.909670</td>\n",
       "    </tr>\n",
       "    <tr>\n",
       "      <th>1994-01-12</th>\n",
       "      <td>3372.02</td>\n",
       "      <td>-45.413970</td>\n",
       "    </tr>\n",
       "    <tr>\n",
       "      <th>1994-01-13</th>\n",
       "      <td>3360.01</td>\n",
       "      <td>-17.435176</td>\n",
       "    </tr>\n",
       "  </tbody>\n",
       "</table>\n",
       "</div>"
      ],
      "text/plain": [
       "            market_value    residuals\n",
       "date                                 \n",
       "1994-01-07       3445.98 -1642.811850\n",
       "1994-01-10       3440.58    -8.448640\n",
       "1994-01-11       3413.77   -29.909670\n",
       "1994-01-12       3372.02   -45.413970\n",
       "1994-01-13       3360.01   -17.435176"
      ]
     },
     "execution_count": 57,
     "metadata": {},
     "output_type": "execute_result"
    }
   ],
   "source": [
    "df_train['residuals'] = model_ar_7.fit().resid\n",
    "df_train.head()"
   ]
  },
  {
   "cell_type": "code",
   "execution_count": 50,
   "id": "f3ab33d0",
   "metadata": {},
   "outputs": [
    {
     "data": {
      "text/plain": [
       "count    5015.000000\n",
       "mean        0.386322\n",
       "std        63.305884\n",
       "min     -1642.811850\n",
       "25%       -26.869569\n",
       "50%         2.227498\n",
       "75%        29.705323\n",
       "max       418.437948\n",
       "Name: residuals, dtype: float64"
      ]
     },
     "execution_count": 50,
     "metadata": {},
     "output_type": "execute_result"
    }
   ],
   "source": [
    "df_train.residuals.describe()"
   ]
  },
  {
   "cell_type": "code",
   "execution_count": 51,
   "id": "6aa93c51",
   "metadata": {},
   "outputs": [
    {
     "data": {
      "text/plain": [
       "(-76.01235973798182,\n",
       " 0.0,\n",
       " 0,\n",
       " 5014,\n",
       " {'1%': -3.4316548765428174,\n",
       "  '5%': -2.8621166146845334,\n",
       "  '10%': -2.5670769326348926},\n",
       " 54778.67671793427)"
      ]
     },
     "execution_count": 51,
     "metadata": {},
     "output_type": "execute_result"
    }
   ],
   "source": [
    "#dickey fuller test on residuals\n",
    "import statsmodels.tsa.stattools as sts\n",
    "sts.adfuller(df_train.residuals)"
   ]
  },
  {
   "cell_type": "code",
   "execution_count": 54,
   "id": "69f69613",
   "metadata": {},
   "outputs": [
    {
     "data": {
      "image/png": "[encoded data removed]",
      "text/plain": [
       "<Figure size 864x360 with 1 Axes>"
      ]
     },
     "metadata": {
      "needs_background": "light"
     },
     "output_type": "display_data"
    }
   ],
   "source": [
    "#plotting acf\n",
    "sgt.plot_acf(df_train.residuals, lags = 40, zero = False)\n",
    "plt.title('ACF for residuals of prices', size = 13)\n",
    "plt.ylim(-.05,.05)\n",
    "plt.show()"
   ]
  },
  {
   "cell_type": "code",
   "execution_count": 55,
   "id": "a88adc30",
   "metadata": {},
   "outputs": [
    {
     "data": {
      "image/png": "[encoded data removed]",
      "text/plain": [
       "<Figure size 864x360 with 1 Axes>"
      ]
     },
     "metadata": {
      "needs_background": "light"
     },
     "output_type": "display_data"
    }
   ],
   "source": [
    "#plotting pacf\n",
    "sgt.plot_pacf(df_train.residuals, lags = 40, zero = False)\n",
    "plt.title('PACF for residuals of prices', size = 13)\n",
    "plt.ylim(-.05,.05)\n",
    "plt.show()"
   ]
  },
  {
   "cell_type": "code",
   "execution_count": 58,
   "id": "d78fa533",
   "metadata": {},
   "outputs": [
    {
     "data": {
      "image/png": "[encoded data removed]",
      "text/plain": [
       "<Figure size 864x360 with 1 Axes>"
      ]
     },
     "metadata": {
      "needs_background": "light"
     },
     "output_type": "display_data"
    }
   ],
   "source": [
    "#plotting the residuals\n",
    "df_train.residuals[1:].plot(figsize = (12,5))\n",
    "plt.title('residuals of prices',size = 13)\n",
    "plt.show()"
   ]
  },
  {
   "cell_type": "markdown",
   "id": "4f15d38e",
   "metadata": {},
   "source": [
    "### finding returns\n"
   ]
  },
  {
   "cell_type": "code",
   "execution_count": 11,
   "id": "59144aa9",
   "metadata": {},
   "outputs": [
    {
     "name": "stderr",
     "output_type": "stream",
     "text": [
      "<ipython-input-11-255cede83684>:1: SettingWithCopyWarning: \n",
      "A value is trying to be set on a copy of a slice from a DataFrame.\n",
      "Try using .loc[row_indexer,col_indexer] = value instead\n",
      "\n",
      "See the caveats in the documentation: https://pandas.pydata.org/pandas-docs/stable/user_guide/indexing.html#returning-a-view-versus-a-copy\n",
      "  df_train['returns'] = (df_train.market_value.pct_change(1)*100)\n"
     ]
    },
    {
     "data": {
      "text/html": [
       "<div>\n",
       "<style scoped>\n",
       "    .dataframe tbody tr th:only-of-type {\n",
       "        vertical-align: middle;\n",
       "    }\n",
       "\n",
       "    .dataframe tbody tr th {\n",
       "        vertical-align: top;\n",
       "    }\n",
       "\n",
       "    .dataframe thead th {\n",
       "        text-align: right;\n",
       "    }\n",
       "</style>\n",
       "<table border=\"1\" class=\"dataframe\">\n",
       "  <thead>\n",
       "    <tr style=\"text-align: right;\">\n",
       "      <th></th>\n",
       "      <th>market_value</th>\n",
       "      <th>returns</th>\n",
       "    </tr>\n",
       "    <tr>\n",
       "      <th>date</th>\n",
       "      <th></th>\n",
       "      <th></th>\n",
       "    </tr>\n",
       "  </thead>\n",
       "  <tbody>\n",
       "    <tr>\n",
       "      <th>1994-01-10</th>\n",
       "      <td>3440.58</td>\n",
       "      <td>-0.156704</td>\n",
       "    </tr>\n",
       "    <tr>\n",
       "      <th>1994-01-11</th>\n",
       "      <td>3413.77</td>\n",
       "      <td>-0.779229</td>\n",
       "    </tr>\n",
       "    <tr>\n",
       "      <th>1994-01-12</th>\n",
       "      <td>3372.02</td>\n",
       "      <td>-1.222988</td>\n",
       "    </tr>\n",
       "    <tr>\n",
       "      <th>1994-01-13</th>\n",
       "      <td>3360.01</td>\n",
       "      <td>-0.356166</td>\n",
       "    </tr>\n",
       "    <tr>\n",
       "      <th>1994-01-14</th>\n",
       "      <td>3400.56</td>\n",
       "      <td>1.206842</td>\n",
       "    </tr>\n",
       "  </tbody>\n",
       "</table>\n",
       "</div>"
      ],
      "text/plain": [
       "            market_value   returns\n",
       "date                              \n",
       "1994-01-10       3440.58 -0.156704\n",
       "1994-01-11       3413.77 -0.779229\n",
       "1994-01-12       3372.02 -1.222988\n",
       "1994-01-13       3360.01 -0.356166\n",
       "1994-01-14       3400.56  1.206842"
      ]
     },
     "execution_count": 11,
     "metadata": {},
     "output_type": "execute_result"
    }
   ],
   "source": [
    "df_train['returns'] = (df_train.market_value.pct_change(1)*100)\n",
    "df_train = df_train[1:]\n",
    "df_train.head()"
   ]
  },
  {
   "cell_type": "code",
   "execution_count": 13,
   "id": "1c38eacd",
   "metadata": {},
   "outputs": [
    {
     "data": {
      "text/plain": [
       "(-12.784216449537105,\n",
       " 7.305352237049088e-24,\n",
       " 32,\n",
       " 4981,\n",
       " {'1%': -3.4316635260404795,\n",
       "  '5%': -2.8621204359855366,\n",
       "  '10%': -2.567078966862675},\n",
       " 15687.226611354214)"
      ]
     },
     "execution_count": 13,
     "metadata": {},
     "output_type": "execute_result"
    }
   ],
   "source": [
    "sts.adfuller(df_train.returns)"
   ]
  },
  {
   "cell_type": "code",
   "execution_count": 26,
   "id": "3a014c77",
   "metadata": {},
   "outputs": [
    {
     "data": {
      "image/png": "[encoded data removed]",
      "text/plain": [
       "<Figure size 864x360 with 1 Axes>"
      ]
     },
     "metadata": {
      "needs_background": "light"
     },
     "output_type": "display_data"
    }
   ],
   "source": [
    "plt.rcParams['figure.figsize'] = (12,5)\n",
    "df_train.returns.plot()\n",
    "plt.title('Returns vs time', size = 19)\n",
    "plt.show()"
   ]
  },
  {
   "cell_type": "markdown",
   "id": "7d4feec6",
   "metadata": {},
   "source": [
    "### acf and pacf for returns"
   ]
  },
  {
   "cell_type": "code",
   "execution_count": 19,
   "id": "6b130ef2",
   "metadata": {},
   "outputs": [
    {
     "data": {
      "image/png": "[encoded data removed]",
      "text/plain": [
       "<Figure size 864x360 with 1 Axes>"
      ]
     },
     "metadata": {
      "needs_background": "light"
     },
     "output_type": "display_data"
    }
   ],
   "source": [
    "plt.rcParams['figure.figsize'] = (12,5)\n",
    "sgt.plot_acf(df_train.returns, lags = 40, zero = False)\n",
    "plt.title('ACF for returns', size = 15)\n",
    "plt.ylim(-.1,.1)\n",
    "plt.show()"
   ]
  },
  {
   "cell_type": "code",
   "execution_count": 21,
   "id": "8eb2a5e1",
   "metadata": {},
   "outputs": [
    {
     "data": {
      "image/png": "[encoded data removed]",
      "text/plain": [
       "<Figure size 864x360 with 1 Axes>"
      ]
     },
     "metadata": {
      "needs_background": "light"
     },
     "output_type": "display_data"
    }
   ],
   "source": [
    "sgt.plot_pacf(df_train.returns, lags = 40, zero = False, method = 'ywm')\n",
    "plt.title('PACF for returns', size = 15)\n",
    "plt.ylim(-.1,.1)\n",
    "plt.show()"
   ]
  },
  {
   "cell_type": "markdown",
   "id": "120c6f03",
   "metadata": {},
   "source": [
    "### AR(1) model on returns"
   ]
  },
  {
   "cell_type": "code",
   "execution_count": 23,
   "id": "62e4d38c",
   "metadata": {},
   "outputs": [
    {
     "name": "stderr",
     "output_type": "stream",
     "text": [
      "D:\\anaconda\\lib\\site-packages\\statsmodels\\tsa\\base\\tsa_model.py:471: ValueWarning: A date index has been provided, but it has no associated frequency information and so will be ignored when e.g. forecasting.\n",
      "  self._init_dates(dates, freq)\n",
      "D:\\anaconda\\lib\\site-packages\\statsmodels\\tsa\\base\\tsa_model.py:471: ValueWarning: A date index has been provided, but it has no associated frequency information and so will be ignored when e.g. forecasting.\n",
      "  self._init_dates(dates, freq)\n",
      "D:\\anaconda\\lib\\site-packages\\statsmodels\\tsa\\base\\tsa_model.py:471: ValueWarning: A date index has been provided, but it has no associated frequency information and so will be ignored when e.g. forecasting.\n",
      "  self._init_dates(dates, freq)\n"
     ]
    },
    {
     "data": {
      "text/html": [
       "<table class=\"simpletable\">\n",
       "<caption>SARIMAX Results</caption>\n",
       "<tr>\n",
       "  <th>Dep. Variable:</th>        <td>returns</td>     <th>  No. Observations:  </th>   <td>5014</td>   \n",
       "</tr>\n",
       "<tr>\n",
       "  <th>Model:</th>            <td>ARIMA(1, 0, 0)</td>  <th>  Log Likelihood     </th> <td>-7921.907</td>\n",
       "</tr>\n",
       "<tr>\n",
       "  <th>Date:</th>            <td>Thu, 26 Jan 2023</td> <th>  AIC                </th> <td>15849.813</td>\n",
       "</tr>\n",
       "<tr>\n",
       "  <th>Time:</th>                <td>00:25:20</td>     <th>  BIC                </th> <td>15869.373</td>\n",
       "</tr>\n",
       "<tr>\n",
       "  <th>Sample:</th>                  <td>0</td>        <th>  HQIC               </th> <td>15856.668</td>\n",
       "</tr>\n",
       "<tr>\n",
       "  <th></th>                      <td> - 5014</td>     <th>                     </th>     <td> </td>    \n",
       "</tr>\n",
       "<tr>\n",
       "  <th>Covariance Type:</th>        <td>opg</td>       <th>                     </th>     <td> </td>    \n",
       "</tr>\n",
       "</table>\n",
       "<table class=\"simpletable\">\n",
       "<tr>\n",
       "     <td></td>       <th>coef</th>     <th>std err</th>      <th>z</th>      <th>P>|z|</th>  <th>[0.025</th>    <th>0.975]</th>  \n",
       "</tr>\n",
       "<tr>\n",
       "  <th>const</th>  <td>    0.0193</td> <td>    0.016</td> <td>    1.176</td> <td> 0.240</td> <td>   -0.013</td> <td>    0.052</td>\n",
       "</tr>\n",
       "<tr>\n",
       "  <th>ar.L1</th>  <td>   -0.0231</td> <td>    0.009</td> <td>   -2.711</td> <td> 0.007</td> <td>   -0.040</td> <td>   -0.006</td>\n",
       "</tr>\n",
       "<tr>\n",
       "  <th>sigma2</th> <td>    1.3799</td> <td>    0.014</td> <td>  100.027</td> <td> 0.000</td> <td>    1.353</td> <td>    1.407</td>\n",
       "</tr>\n",
       "</table>\n",
       "<table class=\"simpletable\">\n",
       "<tr>\n",
       "  <th>Ljung-Box (L1) (Q):</th>     <td>0.01</td> <th>  Jarque-Bera (JB):  </th> <td>7858.50</td>\n",
       "</tr>\n",
       "<tr>\n",
       "  <th>Prob(Q):</th>                <td>0.93</td> <th>  Prob(JB):          </th>  <td>0.00</td>  \n",
       "</tr>\n",
       "<tr>\n",
       "  <th>Heteroskedasticity (H):</th> <td>2.04</td> <th>  Skew:              </th>  <td>-0.03</td> \n",
       "</tr>\n",
       "<tr>\n",
       "  <th>Prob(H) (two-sided):</th>    <td>0.00</td> <th>  Kurtosis:          </th>  <td>9.13</td>  \n",
       "</tr>\n",
       "</table><br/><br/>Warnings:<br/>[1] Covariance matrix calculated using the outer product of gradients (complex-step)."
      ],
      "text/plain": [
       "<class 'statsmodels.iolib.summary.Summary'>\n",
       "\"\"\"\n",
       "                               SARIMAX Results                                \n",
       "==============================================================================\n",
       "Dep. Variable:                returns   No. Observations:                 5014\n",
       "Model:                 ARIMA(1, 0, 0)   Log Likelihood               -7921.907\n",
       "Date:                Thu, 26 Jan 2023   AIC                          15849.813\n",
       "Time:                        00:25:20   BIC                          15869.373\n",
       "Sample:                             0   HQIC                         15856.668\n",
       "                               - 5014                                         \n",
       "Covariance Type:                  opg                                         \n",
       "==============================================================================\n",
       "                 coef    std err          z      P>|z|      [0.025      0.975]\n",
       "------------------------------------------------------------------------------\n",
       "const          0.0193      0.016      1.176      0.240      -0.013       0.052\n",
       "ar.L1         -0.0231      0.009     -2.711      0.007      -0.040      -0.006\n",
       "sigma2         1.3799      0.014    100.027      0.000       1.353       1.407\n",
       "===================================================================================\n",
       "Ljung-Box (L1) (Q):                   0.01   Jarque-Bera (JB):              7858.50\n",
       "Prob(Q):                              0.93   Prob(JB):                         0.00\n",
       "Heteroskedasticity (H):               2.04   Skew:                            -0.03\n",
       "Prob(H) (two-sided):                  0.00   Kurtosis:                         9.13\n",
       "===================================================================================\n",
       "\n",
       "Warnings:\n",
       "[1] Covariance matrix calculated using the outer product of gradients (complex-step).\n",
       "\"\"\""
      ]
     },
     "execution_count": 23,
     "metadata": {},
     "output_type": "execute_result"
    }
   ],
   "source": [
    "model_ar = ARIMA(df_train.returns, order = (1,0,0))\n",
    "results_ar = model_ar.fit()\n",
    "results_ar.summary()"
   ]
  },
  {
   "cell_type": "markdown",
   "id": "b2b5b826",
   "metadata": {},
   "source": [
    "### higher lag models"
   ]
  },
  {
   "cell_type": "code",
   "execution_count": 27,
   "id": "d6bf561f",
   "metadata": {},
   "outputs": [
    {
     "name": "stderr",
     "output_type": "stream",
     "text": [
      "D:\\anaconda\\lib\\site-packages\\statsmodels\\tsa\\base\\tsa_model.py:471: ValueWarning: A date index has been provided, but it has no associated frequency information and so will be ignored when e.g. forecasting.\n",
      "  self._init_dates(dates, freq)\n",
      "D:\\anaconda\\lib\\site-packages\\statsmodels\\tsa\\base\\tsa_model.py:471: ValueWarning: A date index has been provided, but it has no associated frequency information and so will be ignored when e.g. forecasting.\n",
      "  self._init_dates(dates, freq)\n",
      "D:\\anaconda\\lib\\site-packages\\statsmodels\\tsa\\base\\tsa_model.py:471: ValueWarning: A date index has been provided, but it has no associated frequency information and so will be ignored when e.g. forecasting.\n",
      "  self._init_dates(dates, freq)\n"
     ]
    },
    {
     "data": {
      "text/html": [
       "<table class=\"simpletable\">\n",
       "<caption>SARIMAX Results</caption>\n",
       "<tr>\n",
       "  <th>Dep. Variable:</th>        <td>returns</td>     <th>  No. Observations:  </th>   <td>5014</td>   \n",
       "</tr>\n",
       "<tr>\n",
       "  <th>Model:</th>            <td>ARIMA(2, 0, 0)</td>  <th>  Log Likelihood     </th> <td>-7915.628</td>\n",
       "</tr>\n",
       "<tr>\n",
       "  <th>Date:</th>            <td>Thu, 26 Jan 2023</td> <th>  AIC                </th> <td>15839.256</td>\n",
       "</tr>\n",
       "<tr>\n",
       "  <th>Time:</th>                <td>00:31:40</td>     <th>  BIC                </th> <td>15865.336</td>\n",
       "</tr>\n",
       "<tr>\n",
       "  <th>Sample:</th>                  <td>0</td>        <th>  HQIC               </th> <td>15848.396</td>\n",
       "</tr>\n",
       "<tr>\n",
       "  <th></th>                      <td> - 5014</td>     <th>                     </th>     <td> </td>    \n",
       "</tr>\n",
       "<tr>\n",
       "  <th>Covariance Type:</th>        <td>opg</td>       <th>                     </th>     <td> </td>    \n",
       "</tr>\n",
       "</table>\n",
       "<table class=\"simpletable\">\n",
       "<tr>\n",
       "     <td></td>       <th>coef</th>     <th>std err</th>      <th>z</th>      <th>P>|z|</th>  <th>[0.025</th>    <th>0.975]</th>  \n",
       "</tr>\n",
       "<tr>\n",
       "  <th>const</th>  <td>    0.0193</td> <td>    0.016</td> <td>    1.226</td> <td> 0.220</td> <td>   -0.012</td> <td>    0.050</td>\n",
       "</tr>\n",
       "<tr>\n",
       "  <th>ar.L1</th>  <td>   -0.0243</td> <td>    0.009</td> <td>   -2.811</td> <td> 0.005</td> <td>   -0.041</td> <td>   -0.007</td>\n",
       "</tr>\n",
       "<tr>\n",
       "  <th>ar.L2</th>  <td>   -0.0500</td> <td>    0.008</td> <td>   -6.365</td> <td> 0.000</td> <td>   -0.065</td> <td>   -0.035</td>\n",
       "</tr>\n",
       "<tr>\n",
       "  <th>sigma2</th> <td>    1.3765</td> <td>    0.014</td> <td>   99.534</td> <td> 0.000</td> <td>    1.349</td> <td>    1.404</td>\n",
       "</tr>\n",
       "</table>\n",
       "<table class=\"simpletable\">\n",
       "<tr>\n",
       "  <th>Ljung-Box (L1) (Q):</th>     <td>0.08</td> <th>  Jarque-Bera (JB):  </th> <td>7717.27</td>\n",
       "</tr>\n",
       "<tr>\n",
       "  <th>Prob(Q):</th>                <td>0.78</td> <th>  Prob(JB):          </th>  <td>0.00</td>  \n",
       "</tr>\n",
       "<tr>\n",
       "  <th>Heteroskedasticity (H):</th> <td>2.03</td> <th>  Skew:              </th>  <td>-0.07</td> \n",
       "</tr>\n",
       "<tr>\n",
       "  <th>Prob(H) (two-sided):</th>    <td>0.00</td> <th>  Kurtosis:          </th>  <td>9.08</td>  \n",
       "</tr>\n",
       "</table><br/><br/>Warnings:<br/>[1] Covariance matrix calculated using the outer product of gradients (complex-step)."
      ],
      "text/plain": [
       "<class 'statsmodels.iolib.summary.Summary'>\n",
       "\"\"\"\n",
       "                               SARIMAX Results                                \n",
       "==============================================================================\n",
       "Dep. Variable:                returns   No. Observations:                 5014\n",
       "Model:                 ARIMA(2, 0, 0)   Log Likelihood               -7915.628\n",
       "Date:                Thu, 26 Jan 2023   AIC                          15839.256\n",
       "Time:                        00:31:40   BIC                          15865.336\n",
       "Sample:                             0   HQIC                         15848.396\n",
       "                               - 5014                                         \n",
       "Covariance Type:                  opg                                         \n",
       "==============================================================================\n",
       "                 coef    std err          z      P>|z|      [0.025      0.975]\n",
       "------------------------------------------------------------------------------\n",
       "const          0.0193      0.016      1.226      0.220      -0.012       0.050\n",
       "ar.L1         -0.0243      0.009     -2.811      0.005      -0.041      -0.007\n",
       "ar.L2         -0.0500      0.008     -6.365      0.000      -0.065      -0.035\n",
       "sigma2         1.3765      0.014     99.534      0.000       1.349       1.404\n",
       "===================================================================================\n",
       "Ljung-Box (L1) (Q):                   0.08   Jarque-Bera (JB):              7717.27\n",
       "Prob(Q):                              0.78   Prob(JB):                         0.00\n",
       "Heteroskedasticity (H):               2.03   Skew:                            -0.07\n",
       "Prob(H) (two-sided):                  0.00   Kurtosis:                         9.08\n",
       "===================================================================================\n",
       "\n",
       "Warnings:\n",
       "[1] Covariance matrix calculated using the outer product of gradients (complex-step).\n",
       "\"\"\""
      ]
     },
     "execution_count": 27,
     "metadata": {},
     "output_type": "execute_result"
    }
   ],
   "source": [
    "model_ar_2 = ARIMA(df_train.returns, order = (2,0,0))\n",
    "results_ar_2 = model_ar_2.fit()\n",
    "results_ar_2.summary()"
   ]
  },
  {
   "cell_type": "code",
   "execution_count": 29,
   "id": "93f07463",
   "metadata": {},
   "outputs": [
    {
     "data": {
      "text/plain": [
       "0.0"
      ]
     },
     "execution_count": 29,
     "metadata": {},
     "output_type": "execute_result"
    }
   ],
   "source": [
    "LLR_test(model_ar, model_ar_2)"
   ]
  },
  {
   "cell_type": "code",
   "execution_count": 30,
   "id": "a37cfa02",
   "metadata": {},
   "outputs": [
    {
     "name": "stderr",
     "output_type": "stream",
     "text": [
      "D:\\anaconda\\lib\\site-packages\\statsmodels\\tsa\\base\\tsa_model.py:471: ValueWarning: A date index has been provided, but it has no associated frequency information and so will be ignored when e.g. forecasting.\n",
      "  self._init_dates(dates, freq)\n",
      "D:\\anaconda\\lib\\site-packages\\statsmodels\\tsa\\base\\tsa_model.py:471: ValueWarning: A date index has been provided, but it has no associated frequency information and so will be ignored when e.g. forecasting.\n",
      "  self._init_dates(dates, freq)\n",
      "D:\\anaconda\\lib\\site-packages\\statsmodels\\tsa\\base\\tsa_model.py:471: ValueWarning: A date index has been provided, but it has no associated frequency information and so will be ignored when e.g. forecasting.\n",
      "  self._init_dates(dates, freq)\n"
     ]
    },
    {
     "data": {
      "text/html": [
       "<table class=\"simpletable\">\n",
       "<caption>SARIMAX Results</caption>\n",
       "<tr>\n",
       "  <th>Dep. Variable:</th>        <td>returns</td>     <th>  No. Observations:  </th>   <td>5014</td>   \n",
       "</tr>\n",
       "<tr>\n",
       "  <th>Model:</th>            <td>ARIMA(3, 0, 0)</td>  <th>  Log Likelihood     </th> <td>-7899.421</td>\n",
       "</tr>\n",
       "<tr>\n",
       "  <th>Date:</th>            <td>Thu, 26 Jan 2023</td> <th>  AIC                </th> <td>15808.842</td>\n",
       "</tr>\n",
       "<tr>\n",
       "  <th>Time:</th>                <td>00:34:31</td>     <th>  BIC                </th> <td>15841.441</td>\n",
       "</tr>\n",
       "<tr>\n",
       "  <th>Sample:</th>                  <td>0</td>        <th>  HQIC               </th> <td>15820.266</td>\n",
       "</tr>\n",
       "<tr>\n",
       "  <th></th>                      <td> - 5014</td>     <th>                     </th>     <td> </td>    \n",
       "</tr>\n",
       "<tr>\n",
       "  <th>Covariance Type:</th>        <td>opg</td>       <th>                     </th>     <td> </td>    \n",
       "</tr>\n",
       "</table>\n",
       "<table class=\"simpletable\">\n",
       "<tr>\n",
       "     <td></td>       <th>coef</th>     <th>std err</th>      <th>z</th>      <th>P>|z|</th>  <th>[0.025</th>    <th>0.975]</th>  \n",
       "</tr>\n",
       "<tr>\n",
       "  <th>const</th>  <td>    0.0194</td> <td>    0.015</td> <td>    1.302</td> <td> 0.193</td> <td>   -0.010</td> <td>    0.048</td>\n",
       "</tr>\n",
       "<tr>\n",
       "  <th>ar.L1</th>  <td>   -0.0283</td> <td>    0.009</td> <td>   -3.202</td> <td> 0.001</td> <td>   -0.046</td> <td>   -0.011</td>\n",
       "</tr>\n",
       "<tr>\n",
       "  <th>ar.L2</th>  <td>   -0.0520</td> <td>    0.008</td> <td>   -6.667</td> <td> 0.000</td> <td>   -0.067</td> <td>   -0.037</td>\n",
       "</tr>\n",
       "<tr>\n",
       "  <th>ar.L3</th>  <td>   -0.0803</td> <td>    0.008</td> <td>  -10.037</td> <td> 0.000</td> <td>   -0.096</td> <td>   -0.065</td>\n",
       "</tr>\n",
       "<tr>\n",
       "  <th>sigma2</th> <td>    1.3676</td> <td>    0.014</td> <td>   94.479</td> <td> 0.000</td> <td>    1.339</td> <td>    1.396</td>\n",
       "</tr>\n",
       "</table>\n",
       "<table class=\"simpletable\">\n",
       "<tr>\n",
       "  <th>Ljung-Box (L1) (Q):</th>     <td>0.07</td> <th>  Jarque-Bera (JB):  </th> <td>6855.84</td>\n",
       "</tr>\n",
       "<tr>\n",
       "  <th>Prob(Q):</th>                <td>0.80</td> <th>  Prob(JB):          </th>  <td>0.00</td>  \n",
       "</tr>\n",
       "<tr>\n",
       "  <th>Heteroskedasticity (H):</th> <td>2.02</td> <th>  Skew:              </th>  <td>-0.15</td> \n",
       "</tr>\n",
       "<tr>\n",
       "  <th>Prob(H) (two-sided):</th>    <td>0.00</td> <th>  Kurtosis:          </th>  <td>8.72</td>  \n",
       "</tr>\n",
       "</table><br/><br/>Warnings:<br/>[1] Covariance matrix calculated using the outer product of gradients (complex-step)."
      ],
      "text/plain": [
       "<class 'statsmodels.iolib.summary.Summary'>\n",
       "\"\"\"\n",
       "                               SARIMAX Results                                \n",
       "==============================================================================\n",
       "Dep. Variable:                returns   No. Observations:                 5014\n",
       "Model:                 ARIMA(3, 0, 0)   Log Likelihood               -7899.421\n",
       "Date:                Thu, 26 Jan 2023   AIC                          15808.842\n",
       "Time:                        00:34:31   BIC                          15841.441\n",
       "Sample:                             0   HQIC                         15820.266\n",
       "                               - 5014                                         \n",
       "Covariance Type:                  opg                                         \n",
       "==============================================================================\n",
       "                 coef    std err          z      P>|z|      [0.025      0.975]\n",
       "------------------------------------------------------------------------------\n",
       "const          0.0194      0.015      1.302      0.193      -0.010       0.048\n",
       "ar.L1         -0.0283      0.009     -3.202      0.001      -0.046      -0.011\n",
       "ar.L2         -0.0520      0.008     -6.667      0.000      -0.067      -0.037\n",
       "ar.L3         -0.0803      0.008    -10.037      0.000      -0.096      -0.065\n",
       "sigma2         1.3676      0.014     94.479      0.000       1.339       1.396\n",
       "===================================================================================\n",
       "Ljung-Box (L1) (Q):                   0.07   Jarque-Bera (JB):              6855.84\n",
       "Prob(Q):                              0.80   Prob(JB):                         0.00\n",
       "Heteroskedasticity (H):               2.02   Skew:                            -0.15\n",
       "Prob(H) (two-sided):                  0.00   Kurtosis:                         8.72\n",
       "===================================================================================\n",
       "\n",
       "Warnings:\n",
       "[1] Covariance matrix calculated using the outer product of gradients (complex-step).\n",
       "\"\"\""
      ]
     },
     "execution_count": 30,
     "metadata": {},
     "output_type": "execute_result"
    }
   ],
   "source": [
    "model_ar_3 = ARIMA(df_train.returns, order = (3,0,0))\n",
    "results_ar_3 = model_ar_3.fit()\n",
    "results_ar_3.summary()"
   ]
  },
  {
   "cell_type": "code",
   "execution_count": 32,
   "id": "98e29f18",
   "metadata": {},
   "outputs": [
    {
     "data": {
      "text/plain": [
       "0.0"
      ]
     },
     "execution_count": 32,
     "metadata": {},
     "output_type": "execute_result"
    }
   ],
   "source": [
    "LLR_test(model_ar, model_ar_3, DF = 2)"
   ]
  },
  {
   "cell_type": "code",
   "execution_count": 33,
   "id": "2eb5e48b",
   "metadata": {},
   "outputs": [
    {
     "name": "stderr",
     "output_type": "stream",
     "text": [
      "D:\\anaconda\\lib\\site-packages\\statsmodels\\tsa\\base\\tsa_model.py:471: ValueWarning: A date index has been provided, but it has no associated frequency information and so will be ignored when e.g. forecasting.\n",
      "  self._init_dates(dates, freq)\n",
      "D:\\anaconda\\lib\\site-packages\\statsmodels\\tsa\\base\\tsa_model.py:471: ValueWarning: A date index has been provided, but it has no associated frequency information and so will be ignored when e.g. forecasting.\n",
      "  self._init_dates(dates, freq)\n",
      "D:\\anaconda\\lib\\site-packages\\statsmodels\\tsa\\base\\tsa_model.py:471: ValueWarning: A date index has been provided, but it has no associated frequency information and so will be ignored when e.g. forecasting.\n",
      "  self._init_dates(dates, freq)\n"
     ]
    },
    {
     "data": {
      "text/html": [
       "<table class=\"simpletable\">\n",
       "<caption>SARIMAX Results</caption>\n",
       "<tr>\n",
       "  <th>Dep. Variable:</th>        <td>returns</td>     <th>  No. Observations:  </th>   <td>5014</td>   \n",
       "</tr>\n",
       "<tr>\n",
       "  <th>Model:</th>            <td>ARIMA(4, 0, 0)</td>  <th>  Log Likelihood     </th> <td>-7894.264</td>\n",
       "</tr>\n",
       "<tr>\n",
       "  <th>Date:</th>            <td>Thu, 26 Jan 2023</td> <th>  AIC                </th> <td>15800.528</td>\n",
       "</tr>\n",
       "<tr>\n",
       "  <th>Time:</th>                <td>00:38:45</td>     <th>  BIC                </th> <td>15839.648</td>\n",
       "</tr>\n",
       "<tr>\n",
       "  <th>Sample:</th>                  <td>0</td>        <th>  HQIC               </th> <td>15814.237</td>\n",
       "</tr>\n",
       "<tr>\n",
       "  <th></th>                      <td> - 5014</td>     <th>                     </th>     <td> </td>    \n",
       "</tr>\n",
       "<tr>\n",
       "  <th>Covariance Type:</th>        <td>opg</td>       <th>                     </th>     <td> </td>    \n",
       "</tr>\n",
       "</table>\n",
       "<table class=\"simpletable\">\n",
       "<tr>\n",
       "     <td></td>       <th>coef</th>     <th>std err</th>      <th>z</th>      <th>P>|z|</th>  <th>[0.025</th>    <th>0.975]</th>  \n",
       "</tr>\n",
       "<tr>\n",
       "  <th>const</th>  <td>    0.0193</td> <td>    0.016</td> <td>    1.239</td> <td> 0.215</td> <td>   -0.011</td> <td>    0.050</td>\n",
       "</tr>\n",
       "<tr>\n",
       "  <th>ar.L1</th>  <td>   -0.0247</td> <td>    0.009</td> <td>   -2.787</td> <td> 0.005</td> <td>   -0.042</td> <td>   -0.007</td>\n",
       "</tr>\n",
       "<tr>\n",
       "  <th>ar.L2</th>  <td>   -0.0496</td> <td>    0.008</td> <td>   -6.320</td> <td> 0.000</td> <td>   -0.065</td> <td>   -0.034</td>\n",
       "</tr>\n",
       "<tr>\n",
       "  <th>ar.L3</th>  <td>   -0.0790</td> <td>    0.008</td> <td>   -9.848</td> <td> 0.000</td> <td>   -0.095</td> <td>   -0.063</td>\n",
       "</tr>\n",
       "<tr>\n",
       "  <th>ar.L4</th>  <td>    0.0453</td> <td>    0.008</td> <td>    5.512</td> <td> 0.000</td> <td>    0.029</td> <td>    0.061</td>\n",
       "</tr>\n",
       "<tr>\n",
       "  <th>sigma2</th> <td>    1.3648</td> <td>    0.015</td> <td>   92.756</td> <td> 0.000</td> <td>    1.336</td> <td>    1.394</td>\n",
       "</tr>\n",
       "</table>\n",
       "<table class=\"simpletable\">\n",
       "<tr>\n",
       "  <th>Ljung-Box (L1) (Q):</th>     <td>0.04</td> <th>  Jarque-Bera (JB):  </th> <td>6583.23</td>\n",
       "</tr>\n",
       "<tr>\n",
       "  <th>Prob(Q):</th>                <td>0.85</td> <th>  Prob(JB):          </th>  <td>0.00</td>  \n",
       "</tr>\n",
       "<tr>\n",
       "  <th>Heteroskedasticity (H):</th> <td>2.00</td> <th>  Skew:              </th>  <td>-0.12</td> \n",
       "</tr>\n",
       "<tr>\n",
       "  <th>Prob(H) (two-sided):</th>    <td>0.00</td> <th>  Kurtosis:          </th>  <td>8.61</td>  \n",
       "</tr>\n",
       "</table><br/><br/>Warnings:<br/>[1] Covariance matrix calculated using the outer product of gradients (complex-step)."
      ],
      "text/plain": [
       "<class 'statsmodels.iolib.summary.Summary'>\n",
       "\"\"\"\n",
       "                               SARIMAX Results                                \n",
       "==============================================================================\n",
       "Dep. Variable:                returns   No. Observations:                 5014\n",
       "Model:                 ARIMA(4, 0, 0)   Log Likelihood               -7894.264\n",
       "Date:                Thu, 26 Jan 2023   AIC                          15800.528\n",
       "Time:                        00:38:45   BIC                          15839.648\n",
       "Sample:                             0   HQIC                         15814.237\n",
       "                               - 5014                                         \n",
       "Covariance Type:                  opg                                         \n",
       "==============================================================================\n",
       "                 coef    std err          z      P>|z|      [0.025      0.975]\n",
       "------------------------------------------------------------------------------\n",
       "const          0.0193      0.016      1.239      0.215      -0.011       0.050\n",
       "ar.L1         -0.0247      0.009     -2.787      0.005      -0.042      -0.007\n",
       "ar.L2         -0.0496      0.008     -6.320      0.000      -0.065      -0.034\n",
       "ar.L3         -0.0790      0.008     -9.848      0.000      -0.095      -0.063\n",
       "ar.L4          0.0453      0.008      5.512      0.000       0.029       0.061\n",
       "sigma2         1.3648      0.015     92.756      0.000       1.336       1.394\n",
       "===================================================================================\n",
       "Ljung-Box (L1) (Q):                   0.04   Jarque-Bera (JB):              6583.23\n",
       "Prob(Q):                              0.85   Prob(JB):                         0.00\n",
       "Heteroskedasticity (H):               2.00   Skew:                            -0.12\n",
       "Prob(H) (two-sided):                  0.00   Kurtosis:                         8.61\n",
       "===================================================================================\n",
       "\n",
       "Warnings:\n",
       "[1] Covariance matrix calculated using the outer product of gradients (complex-step).\n",
       "\"\"\""
      ]
     },
     "execution_count": 33,
     "metadata": {},
     "output_type": "execute_result"
    }
   ],
   "source": [
    "model_ar_4 = ARIMA(df_train.returns, order = (4,0,0))\n",
    "results_ar_4 = model_ar_4.fit()\n",
    "results_ar_4.summary()"
   ]
  },
  {
   "cell_type": "code",
   "execution_count": 34,
   "id": "83429f71",
   "metadata": {},
   "outputs": [
    {
     "data": {
      "text/plain": [
       "0.001"
      ]
     },
     "execution_count": 34,
     "metadata": {},
     "output_type": "execute_result"
    }
   ],
   "source": [
    "LLR_test(model_ar_3,model_ar_4)"
   ]
  },
  {
   "cell_type": "code",
   "execution_count": 35,
   "id": "73fbde27",
   "metadata": {},
   "outputs": [
    {
     "name": "stderr",
     "output_type": "stream",
     "text": [
      "D:\\anaconda\\lib\\site-packages\\statsmodels\\tsa\\base\\tsa_model.py:471: ValueWarning: A date index has been provided, but it has no associated frequency information and so will be ignored when e.g. forecasting.\n",
      "  self._init_dates(dates, freq)\n",
      "D:\\anaconda\\lib\\site-packages\\statsmodels\\tsa\\base\\tsa_model.py:471: ValueWarning: A date index has been provided, but it has no associated frequency information and so will be ignored when e.g. forecasting.\n",
      "  self._init_dates(dates, freq)\n",
      "D:\\anaconda\\lib\\site-packages\\statsmodels\\tsa\\base\\tsa_model.py:471: ValueWarning: A date index has been provided, but it has no associated frequency information and so will be ignored when e.g. forecasting.\n",
      "  self._init_dates(dates, freq)\n"
     ]
    },
    {
     "data": {
      "text/html": [
       "<table class=\"simpletable\">\n",
       "<caption>SARIMAX Results</caption>\n",
       "<tr>\n",
       "  <th>Dep. Variable:</th>        <td>returns</td>     <th>  No. Observations:  </th>   <td>5014</td>   \n",
       "</tr>\n",
       "<tr>\n",
       "  <th>Model:</th>            <td>ARIMA(5, 0, 0)</td>  <th>  Log Likelihood     </th> <td>-7885.221</td>\n",
       "</tr>\n",
       "<tr>\n",
       "  <th>Date:</th>            <td>Thu, 26 Jan 2023</td> <th>  AIC                </th> <td>15784.442</td>\n",
       "</tr>\n",
       "<tr>\n",
       "  <th>Time:</th>                <td>00:39:36</td>     <th>  BIC                </th> <td>15830.082</td>\n",
       "</tr>\n",
       "<tr>\n",
       "  <th>Sample:</th>                  <td>0</td>        <th>  HQIC               </th> <td>15800.436</td>\n",
       "</tr>\n",
       "<tr>\n",
       "  <th></th>                      <td> - 5014</td>     <th>                     </th>     <td> </td>    \n",
       "</tr>\n",
       "<tr>\n",
       "  <th>Covariance Type:</th>        <td>opg</td>       <th>                     </th>     <td> </td>    \n",
       "</tr>\n",
       "</table>\n",
       "<table class=\"simpletable\">\n",
       "<tr>\n",
       "     <td></td>       <th>coef</th>     <th>std err</th>      <th>z</th>      <th>P>|z|</th>  <th>[0.025</th>    <th>0.975]</th>  \n",
       "</tr>\n",
       "<tr>\n",
       "  <th>const</th>  <td>    0.0193</td> <td>    0.015</td> <td>    1.304</td> <td> 0.192</td> <td>   -0.010</td> <td>    0.048</td>\n",
       "</tr>\n",
       "<tr>\n",
       "  <th>ar.L1</th>  <td>   -0.0220</td> <td>    0.009</td> <td>   -2.418</td> <td> 0.016</td> <td>   -0.040</td> <td>   -0.004</td>\n",
       "</tr>\n",
       "<tr>\n",
       "  <th>ar.L2</th>  <td>   -0.0543</td> <td>    0.008</td> <td>   -6.814</td> <td> 0.000</td> <td>   -0.070</td> <td>   -0.039</td>\n",
       "</tr>\n",
       "<tr>\n",
       "  <th>ar.L3</th>  <td>   -0.0820</td> <td>    0.008</td> <td>  -10.261</td> <td> 0.000</td> <td>   -0.098</td> <td>   -0.066</td>\n",
       "</tr>\n",
       "<tr>\n",
       "  <th>ar.L4</th>  <td>    0.0439</td> <td>    0.008</td> <td>    5.297</td> <td> 0.000</td> <td>    0.028</td> <td>    0.060</td>\n",
       "</tr>\n",
       "<tr>\n",
       "  <th>ar.L5</th>  <td>   -0.0600</td> <td>    0.008</td> <td>   -7.510</td> <td> 0.000</td> <td>   -0.076</td> <td>   -0.044</td>\n",
       "</tr>\n",
       "<tr>\n",
       "  <th>sigma2</th> <td>    1.3599</td> <td>    0.015</td> <td>   92.515</td> <td> 0.000</td> <td>    1.331</td> <td>    1.389</td>\n",
       "</tr>\n",
       "</table>\n",
       "<table class=\"simpletable\">\n",
       "<tr>\n",
       "  <th>Ljung-Box (L1) (Q):</th>     <td>0.04</td> <th>  Jarque-Bera (JB):  </th> <td>6400.33</td>\n",
       "</tr>\n",
       "<tr>\n",
       "  <th>Prob(Q):</th>                <td>0.84</td> <th>  Prob(JB):          </th>  <td>0.00</td>  \n",
       "</tr>\n",
       "<tr>\n",
       "  <th>Heteroskedasticity (H):</th> <td>2.00</td> <th>  Skew:              </th>  <td>-0.17</td> \n",
       "</tr>\n",
       "<tr>\n",
       "  <th>Prob(H) (two-sided):</th>    <td>0.00</td> <th>  Kurtosis:          </th>  <td>8.52</td>  \n",
       "</tr>\n",
       "</table><br/><br/>Warnings:<br/>[1] Covariance matrix calculated using the outer product of gradients (complex-step)."
      ],
      "text/plain": [
       "<class 'statsmodels.iolib.summary.Summary'>\n",
       "\"\"\"\n",
       "                               SARIMAX Results                                \n",
       "==============================================================================\n",
       "Dep. Variable:                returns   No. Observations:                 5014\n",
       "Model:                 ARIMA(5, 0, 0)   Log Likelihood               -7885.221\n",
       "Date:                Thu, 26 Jan 2023   AIC                          15784.442\n",
       "Time:                        00:39:36   BIC                          15830.082\n",
       "Sample:                             0   HQIC                         15800.436\n",
       "                               - 5014                                         \n",
       "Covariance Type:                  opg                                         \n",
       "==============================================================================\n",
       "                 coef    std err          z      P>|z|      [0.025      0.975]\n",
       "------------------------------------------------------------------------------\n",
       "const          0.0193      0.015      1.304      0.192      -0.010       0.048\n",
       "ar.L1         -0.0220      0.009     -2.418      0.016      -0.040      -0.004\n",
       "ar.L2         -0.0543      0.008     -6.814      0.000      -0.070      -0.039\n",
       "ar.L3         -0.0820      0.008    -10.261      0.000      -0.098      -0.066\n",
       "ar.L4          0.0439      0.008      5.297      0.000       0.028       0.060\n",
       "ar.L5         -0.0600      0.008     -7.510      0.000      -0.076      -0.044\n",
       "sigma2         1.3599      0.015     92.515      0.000       1.331       1.389\n",
       "===================================================================================\n",
       "Ljung-Box (L1) (Q):                   0.04   Jarque-Bera (JB):              6400.33\n",
       "Prob(Q):                              0.84   Prob(JB):                         0.00\n",
       "Heteroskedasticity (H):               2.00   Skew:                            -0.17\n",
       "Prob(H) (two-sided):                  0.00   Kurtosis:                         8.52\n",
       "===================================================================================\n",
       "\n",
       "Warnings:\n",
       "[1] Covariance matrix calculated using the outer product of gradients (complex-step).\n",
       "\"\"\""
      ]
     },
     "execution_count": 35,
     "metadata": {},
     "output_type": "execute_result"
    }
   ],
   "source": [
    "model_ar_5 = ARIMA(df_train.returns, order = (5,0,0))\n",
    "results_ar_5 = model_ar_5.fit()\n",
    "results_ar_5.summary()"
   ]
  },
  {
   "cell_type": "code",
   "execution_count": 36,
   "id": "76c923e8",
   "metadata": {},
   "outputs": [
    {
     "data": {
      "text/plain": [
       "0.0"
      ]
     },
     "execution_count": 36,
     "metadata": {},
     "output_type": "execute_result"
    }
   ],
   "source": [
    "LLR_test(model_ar_4,model_ar_5)"
   ]
  },
  {
   "cell_type": "code",
   "execution_count": 39,
   "id": "86958caa",
   "metadata": {},
   "outputs": [
    {
     "name": "stderr",
     "output_type": "stream",
     "text": [
      "D:\\anaconda\\lib\\site-packages\\statsmodels\\tsa\\base\\tsa_model.py:471: ValueWarning: A date index has been provided, but it has no associated frequency information and so will be ignored when e.g. forecasting.\n",
      "  self._init_dates(dates, freq)\n",
      "D:\\anaconda\\lib\\site-packages\\statsmodels\\tsa\\base\\tsa_model.py:471: ValueWarning: A date index has been provided, but it has no associated frequency information and so will be ignored when e.g. forecasting.\n",
      "  self._init_dates(dates, freq)\n",
      "D:\\anaconda\\lib\\site-packages\\statsmodels\\tsa\\base\\tsa_model.py:471: ValueWarning: A date index has been provided, but it has no associated frequency information and so will be ignored when e.g. forecasting.\n",
      "  self._init_dates(dates, freq)\n"
     ]
    },
    {
     "name": "stdout",
     "output_type": "stream",
     "text": [
      "                               SARIMAX Results                                \n",
      "==============================================================================\n",
      "Dep. Variable:                returns   No. Observations:                 5014\n",
      "Model:                 ARIMA(6, 0, 0)   Log Likelihood               -7879.519\n",
      "Date:                Thu, 26 Jan 2023   AIC                          15775.039\n",
      "Time:                        00:42:06   BIC                          15827.198\n",
      "Sample:                             0   HQIC                         15793.317\n",
      "                               - 5014                                         \n",
      "Covariance Type:                  opg                                         \n",
      "==============================================================================\n",
      "                 coef    std err          z      P>|z|      [0.025      0.975]\n",
      "------------------------------------------------------------------------------\n",
      "const          0.0194      0.014      1.355      0.175      -0.009       0.047\n",
      "ar.L1         -0.0248      0.009     -2.671      0.008      -0.043      -0.007\n",
      "ar.L2         -0.0522      0.008     -6.493      0.000      -0.068      -0.036\n",
      "ar.L3         -0.0859      0.008    -10.714      0.000      -0.102      -0.070\n",
      "ar.L4          0.0413      0.008      4.994      0.000       0.025       0.057\n",
      "ar.L5         -0.0610      0.008     -7.609      0.000      -0.077      -0.045\n",
      "ar.L6         -0.0477      0.009     -5.338      0.000      -0.065      -0.030\n",
      "sigma2         1.3568      0.015     92.505      0.000       1.328       1.386\n",
      "===================================================================================\n",
      "Ljung-Box (L1) (Q):                   0.00   Jarque-Bera (JB):              6492.92\n",
      "Prob(Q):                              0.97   Prob(JB):                         0.00\n",
      "Heteroskedasticity (H):               2.00   Skew:                            -0.20\n",
      "Prob(H) (two-sided):                  0.00   Kurtosis:                         8.56\n",
      "===================================================================================\n",
      "\n",
      "Warnings:\n",
      "[1] Covariance matrix calculated using the outer product of gradients (complex-step).\n"
     ]
    },
    {
     "data": {
      "text/plain": [
       "0.001"
      ]
     },
     "execution_count": 39,
     "metadata": {},
     "output_type": "execute_result"
    }
   ],
   "source": [
    "model_ar_6 = ARIMA(df_train.returns, order = (6,0,0))\n",
    "results_ar_6 = model_ar_6.fit()\n",
    "print(results_ar_6.summary())\n",
    "LLR_test(model_ar_5,model_ar_6)"
   ]
  },
  {
   "cell_type": "code",
   "execution_count": 40,
   "id": "e19bcd27",
   "metadata": {},
   "outputs": [
    {
     "name": "stderr",
     "output_type": "stream",
     "text": [
      "D:\\anaconda\\lib\\site-packages\\statsmodels\\tsa\\base\\tsa_model.py:471: ValueWarning: A date index has been provided, but it has no associated frequency information and so will be ignored when e.g. forecasting.\n",
      "  self._init_dates(dates, freq)\n",
      "D:\\anaconda\\lib\\site-packages\\statsmodels\\tsa\\base\\tsa_model.py:471: ValueWarning: A date index has been provided, but it has no associated frequency information and so will be ignored when e.g. forecasting.\n",
      "  self._init_dates(dates, freq)\n",
      "D:\\anaconda\\lib\\site-packages\\statsmodels\\tsa\\base\\tsa_model.py:471: ValueWarning: A date index has been provided, but it has no associated frequency information and so will be ignored when e.g. forecasting.\n",
      "  self._init_dates(dates, freq)\n"
     ]
    },
    {
     "name": "stdout",
     "output_type": "stream",
     "text": [
      "                               SARIMAX Results                                \n",
      "==============================================================================\n",
      "Dep. Variable:                returns   No. Observations:                 5014\n",
      "Model:                 ARIMA(7, 0, 0)   Log Likelihood               -7879.173\n",
      "Date:                Thu, 26 Jan 2023   AIC                          15776.346\n",
      "Time:                        00:42:38   BIC                          15835.026\n",
      "Sample:                             0   HQIC                         15796.909\n",
      "                               - 5014                                         \n",
      "Covariance Type:                  opg                                         \n",
      "==============================================================================\n",
      "                 coef    std err          z      P>|z|      [0.025      0.975]\n",
      "------------------------------------------------------------------------------\n",
      "const          0.0194      0.015      1.334      0.182      -0.009       0.048\n",
      "ar.L1         -0.0242      0.009     -2.603      0.009      -0.043      -0.006\n",
      "ar.L2         -0.0515      0.008     -6.357      0.000      -0.067      -0.036\n",
      "ar.L3         -0.0864      0.008    -10.591      0.000      -0.102      -0.070\n",
      "ar.L4          0.0423      0.008      5.051      0.000       0.026       0.059\n",
      "ar.L5         -0.0604      0.008     -7.499      0.000      -0.076      -0.045\n",
      "ar.L6         -0.0474      0.009     -5.293      0.000      -0.065      -0.030\n",
      "ar.L7          0.0118      0.009      1.298      0.194      -0.006       0.030\n",
      "sigma2         1.3566      0.015     91.764      0.000       1.328       1.386\n",
      "===================================================================================\n",
      "Ljung-Box (L1) (Q):                   0.00   Jarque-Bera (JB):              6451.34\n",
      "Prob(Q):                              0.99   Prob(JB):                         0.00\n",
      "Heteroskedasticity (H):               2.00   Skew:                            -0.19\n",
      "Prob(H) (two-sided):                  0.00   Kurtosis:                         8.54\n",
      "===================================================================================\n",
      "\n",
      "Warnings:\n",
      "[1] Covariance matrix calculated using the outer product of gradients (complex-step).\n"
     ]
    },
    {
     "data": {
      "text/plain": [
       "0.405"
      ]
     },
     "execution_count": 40,
     "metadata": {},
     "output_type": "execute_result"
    }
   ],
   "source": [
    "model_ar_7 = ARIMA(df_train.returns, order = (7,0,0))\n",
    "results_ar_7 = model_ar_7.fit()\n",
    "print(results_ar_7.summary())\n",
    "LLR_test(model_ar_6,model_ar_7)"
   ]
  },
  {
   "cell_type": "markdown",
   "id": "5bdd4cfd",
   "metadata": {},
   "source": [
    "From above results we can say that AR(6) is better than AR(7) and higher lags models"
   ]
  },
  {
   "cell_type": "markdown",
   "id": "93c68ff2",
   "metadata": {},
   "source": [
    "### normalizing prices and performing dickey fuller test"
   ]
  },
  {
   "cell_type": "code",
   "execution_count": 42,
   "id": "885f02ae",
   "metadata": {},
   "outputs": [],
   "source": [
    "benchmark = df_train.market_value.iloc[0]\n",
    "df_train['norm_prices'] = (df_train.market_value/benchmark)*100\n"
   ]
  },
  {
   "cell_type": "code",
   "execution_count": 44,
   "id": "31fbf5d2",
   "metadata": {},
   "outputs": [
    {
     "data": {
      "text/plain": [
       "(-1.8406676829625512,\n",
       " 0.3604662927099037,\n",
       " 6,\n",
       " 5007,\n",
       " {'1%': -3.431656701752533,\n",
       "  '5%': -2.862117421053178,\n",
       "  '10%': -2.5670773618962612},\n",
       " 19532.876769094495)"
      ]
     },
     "execution_count": 44,
     "metadata": {},
     "output_type": "execute_result"
    }
   ],
   "source": [
    "sts.adfuller(df_train.norm_prices) #results show non-stationarity"
   ]
  },
  {
   "cell_type": "markdown",
   "id": "59f56509",
   "metadata": {},
   "source": [
    "### normalizing returns and performing dickey fuller test"
   ]
  },
  {
   "cell_type": "code",
   "execution_count": 45,
   "id": "5395d203",
   "metadata": {},
   "outputs": [],
   "source": [
    "ret = df_train.returns.iloc[0]\n",
    "df_train['norm_returns'] = (df_train.returns/ret)*100"
   ]
  },
  {
   "cell_type": "code",
   "execution_count": 46,
   "id": "16c094c0",
   "metadata": {},
   "outputs": [
    {
     "data": {
      "text/plain": [
       "(-12.78421644953709,\n",
       " 7.305352237049716e-24,\n",
       " 32,\n",
       " 4981,\n",
       " {'1%': -3.4316635260404795,\n",
       "  '5%': -2.8621204359855366,\n",
       "  '10%': -2.567078966862675},\n",
       " 80027.44775098964)"
      ]
     },
     "execution_count": 46,
     "metadata": {},
     "output_type": "execute_result"
    }
   ],
   "source": [
    "sts.adfuller(df_train.norm_returns) #stationary series"
   ]
  },
  {
   "cell_type": "markdown",
   "id": "d0df0a41",
   "metadata": {},
   "source": [
    "### fitting AR models to normalised returns"
   ]
  },
  {
   "cell_type": "code",
   "execution_count": 47,
   "id": "17eccd15",
   "metadata": {},
   "outputs": [
    {
     "name": "stderr",
     "output_type": "stream",
     "text": [
      "D:\\anaconda\\lib\\site-packages\\statsmodels\\tsa\\base\\tsa_model.py:471: ValueWarning: A date index has been provided, but it has no associated frequency information and so will be ignored when e.g. forecasting.\n",
      "  self._init_dates(dates, freq)\n",
      "D:\\anaconda\\lib\\site-packages\\statsmodels\\tsa\\base\\tsa_model.py:471: ValueWarning: A date index has been provided, but it has no associated frequency information and so will be ignored when e.g. forecasting.\n",
      "  self._init_dates(dates, freq)\n",
      "D:\\anaconda\\lib\\site-packages\\statsmodels\\tsa\\base\\tsa_model.py:471: ValueWarning: A date index has been provided, but it has no associated frequency information and so will be ignored when e.g. forecasting.\n",
      "  self._init_dates(dates, freq)\n"
     ]
    },
    {
     "name": "stdout",
     "output_type": "stream",
     "text": [
      "                               SARIMAX Results                                \n",
      "==============================================================================\n",
      "Dep. Variable:           norm_returns   No. Observations:                 5014\n",
      "Model:                 ARIMA(1, 0, 0)   Log Likelihood              -40305.150\n",
      "Date:                Thu, 26 Jan 2023   AIC                          80616.300\n",
      "Time:                        00:59:22   BIC                          80635.860\n",
      "Sample:                             0   HQIC                         80623.154\n",
      "                               - 5014                                         \n",
      "Covariance Type:                  opg                                         \n",
      "==============================================================================\n",
      "                 coef    std err          z      P>|z|      [0.025      0.975]\n",
      "------------------------------------------------------------------------------\n",
      "const        -12.3276     10.484     -1.176      0.240     -32.876       8.220\n",
      "ar.L1         -0.0232      0.009     -2.711      0.007      -0.040      -0.006\n",
      "sigma2      5.621e+05   5620.223    100.007      0.000    5.51e+05    5.73e+05\n",
      "===================================================================================\n",
      "Ljung-Box (L1) (Q):                   0.01   Jarque-Bera (JB):              7858.45\n",
      "Prob(Q):                              0.93   Prob(JB):                         0.00\n",
      "Heteroskedasticity (H):               2.04   Skew:                             0.03\n",
      "Prob(H) (two-sided):                  0.00   Kurtosis:                         9.13\n",
      "===================================================================================\n",
      "\n",
      "Warnings:\n",
      "[1] Covariance matrix calculated using the outer product of gradients (complex-step).\n"
     ]
    }
   ],
   "source": [
    "model_norm = ARIMA(df_train.norm_returns, order = (1,0,0))\n",
    "results_norm = model_norm.fit()\n",
    "print(results_norm.summary())"
   ]
  },
  {
   "cell_type": "code",
   "execution_count": 48,
   "id": "cbc7b9b5",
   "metadata": {},
   "outputs": [
    {
     "name": "stderr",
     "output_type": "stream",
     "text": [
      "D:\\anaconda\\lib\\site-packages\\statsmodels\\tsa\\base\\tsa_model.py:471: ValueWarning: A date index has been provided, but it has no associated frequency information and so will be ignored when e.g. forecasting.\n",
      "  self._init_dates(dates, freq)\n",
      "D:\\anaconda\\lib\\site-packages\\statsmodels\\tsa\\base\\tsa_model.py:471: ValueWarning: A date index has been provided, but it has no associated frequency information and so will be ignored when e.g. forecasting.\n",
      "  self._init_dates(dates, freq)\n",
      "D:\\anaconda\\lib\\site-packages\\statsmodels\\tsa\\base\\tsa_model.py:471: ValueWarning: A date index has been provided, but it has no associated frequency information and so will be ignored when e.g. forecasting.\n",
      "  self._init_dates(dates, freq)\n"
     ]
    },
    {
     "name": "stdout",
     "output_type": "stream",
     "text": [
      "                               SARIMAX Results                                \n",
      "==============================================================================\n",
      "Dep. Variable:           norm_returns   No. Observations:                 5014\n",
      "Model:                 ARIMA(2, 0, 0)   Log Likelihood              -40298.872\n",
      "Date:                Thu, 26 Jan 2023   AIC                          80605.743\n",
      "Time:                        01:00:09   BIC                          80631.823\n",
      "Sample:                             0   HQIC                         80614.882\n",
      "                               - 5014                                         \n",
      "Covariance Type:                  opg                                         \n",
      "==============================================================================\n",
      "                 coef    std err          z      P>|z|      [0.025      0.975]\n",
      "------------------------------------------------------------------------------\n",
      "const        -12.3276     10.058     -1.226      0.220     -32.040       7.385\n",
      "ar.L1         -0.0243      0.009     -2.808      0.005      -0.041      -0.007\n",
      "ar.L2         -0.0500      0.008     -6.361      0.000      -0.065      -0.035\n",
      "sigma2      5.607e+05   5635.179     99.502      0.000     5.5e+05    5.72e+05\n",
      "===================================================================================\n",
      "Ljung-Box (L1) (Q):                   0.08   Jarque-Bera (JB):              7717.41\n",
      "Prob(Q):                              0.78   Prob(JB):                         0.00\n",
      "Heteroskedasticity (H):               2.03   Skew:                             0.07\n",
      "Prob(H) (two-sided):                  0.00   Kurtosis:                         9.08\n",
      "===================================================================================\n",
      "\n",
      "Warnings:\n",
      "[1] Covariance matrix calculated using the outer product of gradients (complex-step).\n"
     ]
    },
    {
     "data": {
      "text/plain": [
       "0.0"
      ]
     },
     "execution_count": 48,
     "metadata": {},
     "output_type": "execute_result"
    }
   ],
   "source": [
    "model_norm_2 = ARIMA(df_train.norm_returns, order = (2,0,0))\n",
    "results_norm_2 = model_norm_2.fit()\n",
    "print(results_norm_2.summary())\n",
    "LLR_test(model_norm, model_norm_2)"
   ]
  },
  {
   "cell_type": "code",
   "execution_count": 49,
   "id": "2d513354",
   "metadata": {},
   "outputs": [
    {
     "name": "stderr",
     "output_type": "stream",
     "text": [
      "D:\\anaconda\\lib\\site-packages\\statsmodels\\tsa\\base\\tsa_model.py:471: ValueWarning: A date index has been provided, but it has no associated frequency information and so will be ignored when e.g. forecasting.\n",
      "  self._init_dates(dates, freq)\n",
      "D:\\anaconda\\lib\\site-packages\\statsmodels\\tsa\\base\\tsa_model.py:471: ValueWarning: A date index has been provided, but it has no associated frequency information and so will be ignored when e.g. forecasting.\n",
      "  self._init_dates(dates, freq)\n",
      "D:\\anaconda\\lib\\site-packages\\statsmodels\\tsa\\base\\tsa_model.py:471: ValueWarning: A date index has been provided, but it has no associated frequency information and so will be ignored when e.g. forecasting.\n",
      "  self._init_dates(dates, freq)\n"
     ]
    },
    {
     "name": "stdout",
     "output_type": "stream",
     "text": [
      "                               SARIMAX Results                                \n",
      "==============================================================================\n",
      "Dep. Variable:           norm_returns   No. Observations:                 5014\n",
      "Model:                 ARIMA(3, 0, 0)   Log Likelihood              -40282.664\n",
      "Date:                Thu, 26 Jan 2023   AIC                          80575.328\n",
      "Time:                        01:00:51   BIC                          80607.928\n",
      "Sample:                             0   HQIC                         80586.752\n",
      "                               - 5014                                         \n",
      "Covariance Type:                  opg                                         \n",
      "==============================================================================\n",
      "                 coef    std err          z      P>|z|      [0.025      0.975]\n",
      "------------------------------------------------------------------------------\n",
      "const        -12.3276      9.491     -1.299      0.194     -30.930       6.275\n",
      "ar.L1         -0.0283      0.009     -3.195      0.001      -0.046      -0.011\n",
      "ar.L2         -0.0519      0.008     -6.661      0.000      -0.067      -0.037\n",
      "ar.L3         -0.0803      0.008    -10.034      0.000      -0.096      -0.065\n",
      "sigma2      5.571e+05   5897.991     94.452      0.000    5.46e+05    5.69e+05\n",
      "===================================================================================\n",
      "Ljung-Box (L1) (Q):                   0.06   Jarque-Bera (JB):              6856.26\n",
      "Prob(Q):                              0.80   Prob(JB):                         0.00\n",
      "Heteroskedasticity (H):               2.02   Skew:                             0.15\n",
      "Prob(H) (two-sided):                  0.00   Kurtosis:                         8.72\n",
      "===================================================================================\n",
      "\n",
      "Warnings:\n",
      "[1] Covariance matrix calculated using the outer product of gradients (complex-step).\n"
     ]
    },
    {
     "data": {
      "text/plain": [
       "0.0"
      ]
     },
     "execution_count": 49,
     "metadata": {},
     "output_type": "execute_result"
    }
   ],
   "source": [
    "model_norm_3 = ARIMA(df_train.norm_returns, order = (3,0,0))\n",
    "results_norm_3 = model_norm_3.fit()\n",
    "print(results_norm_3.summary())\n",
    "LLR_test(model_norm_2, model_norm_3)"
   ]
  },
  {
   "cell_type": "code",
   "execution_count": 50,
   "id": "e2aec93e",
   "metadata": {},
   "outputs": [
    {
     "name": "stderr",
     "output_type": "stream",
     "text": [
      "D:\\anaconda\\lib\\site-packages\\statsmodels\\tsa\\base\\tsa_model.py:471: ValueWarning: A date index has been provided, but it has no associated frequency information and so will be ignored when e.g. forecasting.\n",
      "  self._init_dates(dates, freq)\n",
      "D:\\anaconda\\lib\\site-packages\\statsmodels\\tsa\\base\\tsa_model.py:471: ValueWarning: A date index has been provided, but it has no associated frequency information and so will be ignored when e.g. forecasting.\n",
      "  self._init_dates(dates, freq)\n",
      "D:\\anaconda\\lib\\site-packages\\statsmodels\\tsa\\base\\tsa_model.py:471: ValueWarning: A date index has been provided, but it has no associated frequency information and so will be ignored when e.g. forecasting.\n",
      "  self._init_dates(dates, freq)\n"
     ]
    },
    {
     "name": "stdout",
     "output_type": "stream",
     "text": [
      "                               SARIMAX Results                                \n",
      "==============================================================================\n",
      "Dep. Variable:           norm_returns   No. Observations:                 5014\n",
      "Model:                 ARIMA(4, 0, 0)   Log Likelihood              -40277.507\n",
      "Date:                Thu, 26 Jan 2023   AIC                          80567.015\n",
      "Time:                        01:01:34   BIC                          80606.135\n",
      "Sample:                             0   HQIC                         80580.724\n",
      "                               - 5014                                         \n",
      "Covariance Type:                  opg                                         \n",
      "==============================================================================\n",
      "                 coef    std err          z      P>|z|      [0.025      0.975]\n",
      "------------------------------------------------------------------------------\n",
      "const        -12.3276      9.965     -1.237      0.216     -31.859       7.203\n",
      "ar.L1         -0.0247      0.009     -2.786      0.005      -0.042      -0.007\n",
      "ar.L2         -0.0496      0.008     -6.317      0.000      -0.065      -0.034\n",
      "ar.L3         -0.0790      0.008     -9.843      0.000      -0.095      -0.063\n",
      "ar.L4          0.0453      0.008      5.509      0.000       0.029       0.061\n",
      "sigma2       5.56e+05   5997.195     92.714      0.000    5.44e+05    5.68e+05\n",
      "===================================================================================\n",
      "Ljung-Box (L1) (Q):                   0.04   Jarque-Bera (JB):              6583.32\n",
      "Prob(Q):                              0.85   Prob(JB):                         0.00\n",
      "Heteroskedasticity (H):               2.00   Skew:                             0.12\n",
      "Prob(H) (two-sided):                  0.00   Kurtosis:                         8.61\n",
      "===================================================================================\n",
      "\n",
      "Warnings:\n",
      "[1] Covariance matrix calculated using the outer product of gradients (complex-step).\n"
     ]
    },
    {
     "data": {
      "text/plain": [
       "0.001"
      ]
     },
     "execution_count": 50,
     "metadata": {},
     "output_type": "execute_result"
    }
   ],
   "source": [
    "model_norm_4 = ARIMA(df_train.norm_returns, order = (4,0,0))\n",
    "results_norm_4 = model_norm_4.fit()\n",
    "print(results_norm_4.summary())\n",
    "LLR_test(model_norm_3, model_norm_4)"
   ]
  },
  {
   "cell_type": "code",
   "execution_count": 51,
   "id": "747e3a59",
   "metadata": {},
   "outputs": [
    {
     "name": "stderr",
     "output_type": "stream",
     "text": [
      "D:\\anaconda\\lib\\site-packages\\statsmodels\\tsa\\base\\tsa_model.py:471: ValueWarning: A date index has been provided, but it has no associated frequency information and so will be ignored when e.g. forecasting.\n",
      "  self._init_dates(dates, freq)\n",
      "D:\\anaconda\\lib\\site-packages\\statsmodels\\tsa\\base\\tsa_model.py:471: ValueWarning: A date index has been provided, but it has no associated frequency information and so will be ignored when e.g. forecasting.\n",
      "  self._init_dates(dates, freq)\n",
      "D:\\anaconda\\lib\\site-packages\\statsmodels\\tsa\\base\\tsa_model.py:471: ValueWarning: A date index has been provided, but it has no associated frequency information and so will be ignored when e.g. forecasting.\n",
      "  self._init_dates(dates, freq)\n"
     ]
    },
    {
     "name": "stdout",
     "output_type": "stream",
     "text": [
      "                               SARIMAX Results                                \n",
      "==============================================================================\n",
      "Dep. Variable:           norm_returns   No. Observations:                 5014\n",
      "Model:                 ARIMA(5, 0, 0)   Log Likelihood              -40268.465\n",
      "Date:                Thu, 26 Jan 2023   AIC                          80550.929\n",
      "Time:                        01:02:14   BIC                          80596.569\n",
      "Sample:                             0   HQIC                         80566.923\n",
      "                               - 5014                                         \n",
      "Covariance Type:                  opg                                         \n",
      "==============================================================================\n",
      "                 coef    std err          z      P>|z|      [0.025      0.975]\n",
      "------------------------------------------------------------------------------\n",
      "const        -12.3276      9.472     -1.301      0.193     -30.893       6.237\n",
      "ar.L1         -0.0219      0.009     -2.416      0.016      -0.040      -0.004\n",
      "ar.L2         -0.0543      0.008     -6.813      0.000      -0.070      -0.039\n",
      "ar.L3         -0.0820      0.008    -10.256      0.000      -0.098      -0.066\n",
      "ar.L4          0.0439      0.008      5.293      0.000       0.028       0.060\n",
      "ar.L5         -0.0600      0.008     -7.506      0.000      -0.076      -0.044\n",
      "sigma2       5.54e+05   5991.628     92.469      0.000    5.42e+05    5.66e+05\n",
      "===================================================================================\n",
      "Ljung-Box (L1) (Q):                   0.04   Jarque-Bera (JB):              6400.44\n",
      "Prob(Q):                              0.84   Prob(JB):                         0.00\n",
      "Heteroskedasticity (H):               2.00   Skew:                             0.17\n",
      "Prob(H) (two-sided):                  0.00   Kurtosis:                         8.52\n",
      "===================================================================================\n",
      "\n",
      "Warnings:\n",
      "[1] Covariance matrix calculated using the outer product of gradients (complex-step).\n"
     ]
    },
    {
     "data": {
      "text/plain": [
       "0.0"
      ]
     },
     "execution_count": 51,
     "metadata": {},
     "output_type": "execute_result"
    }
   ],
   "source": [
    "model_norm_5 = ARIMA(df_train.norm_returns, order = (5,0,0))\n",
    "results_norm_5 = model_norm_5.fit()\n",
    "print(results_norm_5.summary())\n",
    "LLR_test(model_norm_4, model_norm_5)"
   ]
  },
  {
   "cell_type": "code",
   "execution_count": 52,
   "id": "155eeaee",
   "metadata": {},
   "outputs": [
    {
     "name": "stderr",
     "output_type": "stream",
     "text": [
      "D:\\anaconda\\lib\\site-packages\\statsmodels\\tsa\\base\\tsa_model.py:471: ValueWarning: A date index has been provided, but it has no associated frequency information and so will be ignored when e.g. forecasting.\n",
      "  self._init_dates(dates, freq)\n",
      "D:\\anaconda\\lib\\site-packages\\statsmodels\\tsa\\base\\tsa_model.py:471: ValueWarning: A date index has been provided, but it has no associated frequency information and so will be ignored when e.g. forecasting.\n",
      "  self._init_dates(dates, freq)\n",
      "D:\\anaconda\\lib\\site-packages\\statsmodels\\tsa\\base\\tsa_model.py:471: ValueWarning: A date index has been provided, but it has no associated frequency information and so will be ignored when e.g. forecasting.\n",
      "  self._init_dates(dates, freq)\n"
     ]
    },
    {
     "name": "stdout",
     "output_type": "stream",
     "text": [
      "                               SARIMAX Results                                \n",
      "==============================================================================\n",
      "Dep. Variable:           norm_returns   No. Observations:                 5014\n",
      "Model:                 ARIMA(6, 0, 0)   Log Likelihood              -40262.763\n",
      "Date:                Thu, 26 Jan 2023   AIC                          80541.526\n",
      "Time:                        01:02:48   BIC                          80593.686\n",
      "Sample:                             0   HQIC                         80559.805\n",
      "                               - 5014                                         \n",
      "Covariance Type:                  opg                                         \n",
      "==============================================================================\n",
      "                 coef    std err          z      P>|z|      [0.025      0.975]\n",
      "------------------------------------------------------------------------------\n",
      "const        -12.3276      9.119     -1.352      0.176     -30.201       5.545\n",
      "ar.L1         -0.0248      0.009     -2.668      0.008      -0.043      -0.007\n",
      "ar.L2         -0.0522      0.008     -6.490      0.000      -0.068      -0.036\n",
      "ar.L3         -0.0859      0.008    -10.707      0.000      -0.102      -0.070\n",
      "ar.L4          0.0413      0.008      4.989      0.000       0.025       0.057\n",
      "ar.L5         -0.0610      0.008     -7.605      0.000      -0.077      -0.045\n",
      "ar.L6         -0.0477      0.009     -5.334      0.000      -0.065      -0.030\n",
      "sigma2      5.529e+05   5980.943     92.442      0.000    5.41e+05    5.65e+05\n",
      "===================================================================================\n",
      "Ljung-Box (L1) (Q):                   0.00   Jarque-Bera (JB):              6493.04\n",
      "Prob(Q):                              0.97   Prob(JB):                         0.00\n",
      "Heteroskedasticity (H):               2.00   Skew:                             0.20\n",
      "Prob(H) (two-sided):                  0.00   Kurtosis:                         8.56\n",
      "===================================================================================\n",
      "\n",
      "Warnings:\n",
      "[1] Covariance matrix calculated using the outer product of gradients (complex-step).\n"
     ]
    },
    {
     "data": {
      "text/plain": [
       "0.001"
      ]
     },
     "execution_count": 52,
     "metadata": {},
     "output_type": "execute_result"
    }
   ],
   "source": [
    "model_norm_6 = ARIMA(df_train.norm_returns, order = (6,0,0))\n",
    "results_norm_6 = model_norm_6.fit()\n",
    "print(results_norm_6.summary())\n",
    "LLR_test(model_norm_5, model_norm_6)"
   ]
  },
  {
   "cell_type": "code",
   "execution_count": 53,
   "id": "8af42af0",
   "metadata": {},
   "outputs": [
    {
     "name": "stderr",
     "output_type": "stream",
     "text": [
      "D:\\anaconda\\lib\\site-packages\\statsmodels\\tsa\\base\\tsa_model.py:471: ValueWarning: A date index has been provided, but it has no associated frequency information and so will be ignored when e.g. forecasting.\n",
      "  self._init_dates(dates, freq)\n",
      "D:\\anaconda\\lib\\site-packages\\statsmodels\\tsa\\base\\tsa_model.py:471: ValueWarning: A date index has been provided, but it has no associated frequency information and so will be ignored when e.g. forecasting.\n",
      "  self._init_dates(dates, freq)\n",
      "D:\\anaconda\\lib\\site-packages\\statsmodels\\tsa\\base\\tsa_model.py:471: ValueWarning: A date index has been provided, but it has no associated frequency information and so will be ignored when e.g. forecasting.\n",
      "  self._init_dates(dates, freq)\n"
     ]
    },
    {
     "name": "stdout",
     "output_type": "stream",
     "text": [
      "                               SARIMAX Results                                \n",
      "==============================================================================\n",
      "Dep. Variable:           norm_returns   No. Observations:                 5014\n",
      "Model:                 ARIMA(7, 0, 0)   Log Likelihood              -40262.417\n",
      "Date:                Thu, 26 Jan 2023   AIC                          80542.834\n",
      "Time:                        01:03:15   BIC                          80601.514\n",
      "Sample:                             0   HQIC                         80563.397\n",
      "                               - 5014                                         \n",
      "Covariance Type:                  opg                                         \n",
      "==============================================================================\n",
      "                 coef    std err          z      P>|z|      [0.025      0.975]\n",
      "------------------------------------------------------------------------------\n",
      "const        -12.3276      9.266     -1.330      0.183     -30.490       5.834\n",
      "ar.L1         -0.0242      0.009     -2.601      0.009      -0.043      -0.006\n",
      "ar.L2         -0.0515      0.008     -6.353      0.000      -0.067      -0.036\n",
      "ar.L3         -0.0864      0.008    -10.583      0.000      -0.102      -0.070\n",
      "ar.L4          0.0423      0.008      5.047      0.000       0.026       0.059\n",
      "ar.L5         -0.0604      0.008     -7.494      0.000      -0.076      -0.045\n",
      "ar.L6         -0.0474      0.009     -5.289      0.000      -0.065      -0.030\n",
      "ar.L7          0.0118      0.009      1.297      0.195      -0.006       0.030\n",
      "sigma2      5.529e+05   6029.436     91.694      0.000    5.41e+05    5.65e+05\n",
      "===================================================================================\n",
      "Ljung-Box (L1) (Q):                   0.00   Jarque-Bera (JB):              6451.34\n",
      "Prob(Q):                              0.99   Prob(JB):                         0.00\n",
      "Heteroskedasticity (H):               2.00   Skew:                             0.19\n",
      "Prob(H) (two-sided):                  0.00   Kurtosis:                         8.54\n",
      "===================================================================================\n",
      "\n",
      "Warnings:\n",
      "[1] Covariance matrix calculated using the outer product of gradients (complex-step).\n"
     ]
    },
    {
     "data": {
      "text/plain": [
       "0.405"
      ]
     },
     "execution_count": 53,
     "metadata": {},
     "output_type": "execute_result"
    }
   ],
   "source": [
    "model_norm_7 = ARIMA(df_train.norm_returns, order = (7,0,0))\n",
    "results_norm_7 = model_norm_7.fit()\n",
    "print(results_norm_7.summary())\n",
    "LLR_test(model_norm_6, model_norm_7)"
   ]
  },
  {
   "cell_type": "markdown",
   "id": "e19a2a94",
   "metadata": {},
   "source": [
    "We can see that normalising did not have any impact on model selection. For each model, the coefficients are same as that for non-normalised values."
   ]
  },
  {
   "cell_type": "markdown",
   "id": "6408c89a",
   "metadata": {},
   "source": [
    "### analysing residuals"
   ]
  },
  {
   "cell_type": "code",
   "execution_count": 57,
   "id": "569424d7",
   "metadata": {},
   "outputs": [
    {
     "data": {
      "text/html": [
       "<div>\n",
       "<style scoped>\n",
       "    .dataframe tbody tr th:only-of-type {\n",
       "        vertical-align: middle;\n",
       "    }\n",
       "\n",
       "    .dataframe tbody tr th {\n",
       "        vertical-align: top;\n",
       "    }\n",
       "\n",
       "    .dataframe thead th {\n",
       "        text-align: right;\n",
       "    }\n",
       "</style>\n",
       "<table border=\"1\" class=\"dataframe\">\n",
       "  <thead>\n",
       "    <tr style=\"text-align: right;\">\n",
       "      <th></th>\n",
       "      <th>market_value</th>\n",
       "      <th>returns</th>\n",
       "      <th>norm_prices</th>\n",
       "      <th>norm_returns</th>\n",
       "      <th>residuals_returns</th>\n",
       "    </tr>\n",
       "    <tr>\n",
       "      <th>date</th>\n",
       "      <th></th>\n",
       "      <th></th>\n",
       "      <th></th>\n",
       "      <th></th>\n",
       "      <th></th>\n",
       "    </tr>\n",
       "  </thead>\n",
       "  <tbody>\n",
       "    <tr>\n",
       "      <th>1994-01-10</th>\n",
       "      <td>3440.58</td>\n",
       "      <td>-0.156704</td>\n",
       "      <td>100.000000</td>\n",
       "      <td>100.000000</td>\n",
       "      <td>-0.176059</td>\n",
       "    </tr>\n",
       "    <tr>\n",
       "      <th>1994-01-11</th>\n",
       "      <td>3413.77</td>\n",
       "      <td>-0.779229</td>\n",
       "      <td>99.220771</td>\n",
       "      <td>497.260711</td>\n",
       "      <td>-0.802660</td>\n",
       "    </tr>\n",
       "    <tr>\n",
       "      <th>1994-01-12</th>\n",
       "      <td>3372.02</td>\n",
       "      <td>-1.222988</td>\n",
       "      <td>98.007313</td>\n",
       "      <td>780.443046</td>\n",
       "      <td>-1.270555</td>\n",
       "    </tr>\n",
       "    <tr>\n",
       "      <th>1994-01-13</th>\n",
       "      <td>3360.01</td>\n",
       "      <td>-0.356166</td>\n",
       "      <td>97.658244</td>\n",
       "      <td>227.285567</td>\n",
       "      <td>-0.466308</td>\n",
       "    </tr>\n",
       "    <tr>\n",
       "      <th>1994-01-14</th>\n",
       "      <td>3400.56</td>\n",
       "      <td>1.206842</td>\n",
       "      <td>98.836824</td>\n",
       "      <td>-770.139292</td>\n",
       "      <td>1.061535</td>\n",
       "    </tr>\n",
       "  </tbody>\n",
       "</table>\n",
       "</div>"
      ],
      "text/plain": [
       "            market_value   returns  norm_prices  norm_returns  \\\n",
       "date                                                            \n",
       "1994-01-10       3440.58 -0.156704   100.000000    100.000000   \n",
       "1994-01-11       3413.77 -0.779229    99.220771    497.260711   \n",
       "1994-01-12       3372.02 -1.222988    98.007313    780.443046   \n",
       "1994-01-13       3360.01 -0.356166    97.658244    227.285567   \n",
       "1994-01-14       3400.56  1.206842    98.836824   -770.139292   \n",
       "\n",
       "            residuals_returns  \n",
       "date                           \n",
       "1994-01-10          -0.176059  \n",
       "1994-01-11          -0.802660  \n",
       "1994-01-12          -1.270555  \n",
       "1994-01-13          -0.466308  \n",
       "1994-01-14           1.061535  "
      ]
     },
     "execution_count": 57,
     "metadata": {},
     "output_type": "execute_result"
    }
   ],
   "source": [
    "df_train['residuals_returns'] = results_ar_6.resid\n",
    "del df_train['residuals']\n",
    "df_train.head()\n"
   ]
  },
  {
   "cell_type": "code",
   "execution_count": 58,
   "id": "190757fb",
   "metadata": {},
   "outputs": [
    {
     "data": {
      "text/plain": [
       "(-70.74201821141006,\n",
       " 0.0,\n",
       " 0,\n",
       " 5013,\n",
       " {'1%': -3.431655136974821,\n",
       "  '5%': -2.8621167297421373,\n",
       "  '10%': -2.567076993884522},\n",
       " 15677.703848693902)"
      ]
     },
     "execution_count": 58,
     "metadata": {},
     "output_type": "execute_result"
    }
   ],
   "source": [
    "#dickey fuller test on residuals\n",
    "import statsmodels.tsa.stattools as sts\n",
    "sts.adfuller(df_train.residuals_returns)"
   ]
  },
  {
   "cell_type": "code",
   "execution_count": 59,
   "id": "2349e54e",
   "metadata": {},
   "outputs": [
    {
     "data": {
      "image/png": "[encoded data removed]",
      "text/plain": [
       "<Figure size 864x360 with 1 Axes>"
      ]
     },
     "metadata": {
      "needs_background": "light"
     },
     "output_type": "display_data"
    }
   ],
   "source": [
    "#plotting acf\n",
    "sgt.plot_acf(df_train.residuals_returns, lags = 40, zero = False)\n",
    "plt.title('ACF for residuals of returns', size = 13)\n",
    "plt.ylim(-.05,.05)\n",
    "plt.show()"
   ]
  },
  {
   "cell_type": "code",
   "execution_count": 60,
   "id": "0944237e",
   "metadata": {},
   "outputs": [
    {
     "name": "stderr",
     "output_type": "stream",
     "text": [
      "D:\\anaconda\\lib\\site-packages\\statsmodels\\graphics\\tsaplots.py:348: FutureWarning: The default method 'yw' can produce PACF values outside of the [-1,1] interval. After 0.13, the default will change tounadjusted Yule-Walker ('ywm'). You can use this method now by setting method='ywm'.\n",
      "  warnings.warn(\n"
     ]
    },
    {
     "data": {
      "image/png": "[encoded data removed]",
      "text/plain": [
       "<Figure size 864x360 with 1 Axes>"
      ]
     },
     "metadata": {
      "needs_background": "light"
     },
     "output_type": "display_data"
    }
   ],
   "source": [
    "#plotting pacf\n",
    "sgt.plot_pacf(df_train.residuals_returns, lags = 40, zero = False)\n",
    "plt.title('PACF for residuals of returns', size = 13)\n",
    "plt.ylim(-.05,.05)\n",
    "plt.show()"
   ]
  },
  {
   "cell_type": "code",
   "execution_count": 62,
   "id": "2ef6ef23",
   "metadata": {},
   "outputs": [
    {
     "data": {
      "image/png": "[encoded data removed]",
      "text/plain": [
       "<Figure size 864x360 with 1 Axes>"
      ]
     },
     "metadata": {
      "needs_background": "light"
     },
     "output_type": "display_data"
    }
   ],
   "source": [
    "#plotting the residuals\n",
    "df_train.residuals_returns.plot(figsize = (12,5))\n",
    "plt.title('residuals of returns',size = 13)\n",
    "plt.show()"
   ]
  },
  {
   "cell_type": "code",
   "execution_count": null,
   "id": "07148a14",
   "metadata": {},
   "outputs": [],
   "source": []
  }
 ],
 "metadata": {
  "kernelspec": {
   "display_name": "Python 3",
   "language": "python",
   "name": "python3"
  },
  "language_info": {
   "codemirror_mode": {
    "name": "ipython",
    "version": 3
   },
   "file_extension": ".py",
   "mimetype": "text/x-python",
   "name": "python",
   "nbconvert_exporter": "python",
   "pygments_lexer": "ipython3",
   "version": "3.8.8"
  }
 },
 "nbformat": 4,
 "nbformat_minor": 5
}
