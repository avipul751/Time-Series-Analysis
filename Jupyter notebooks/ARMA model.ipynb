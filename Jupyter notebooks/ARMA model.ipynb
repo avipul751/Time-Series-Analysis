{
 "cells": [
  {
   "cell_type": "markdown",
   "id": "16705ef7",
   "metadata": {},
   "source": [
    "### Importing libraries"
   ]
  },
  {
   "cell_type": "code",
   "execution_count": 1,
   "id": "42ec9c0c",
   "metadata": {},
   "outputs": [],
   "source": [
    "#importing libraries\n",
    "import numpy as np\n",
    "import pandas as pd\n",
    "import matplotlib.pyplot as plt\n",
    "import seaborn as sns\n",
    "import statsmodels.graphics.tsaplots as sgt\n",
    "from scipy.stats.distributions import chi2\n",
    "from statsmodels.tsa.arima.model import ARIMA\n",
    "import statsmodels.tsa.stattools as sts"
   ]
  },
  {
   "cell_type": "markdown",
   "id": "d120f67a",
   "metadata": {},
   "source": [
    "### Importing data and preprocessing"
   ]
  },
  {
   "cell_type": "code",
   "execution_count": 2,
   "id": "5af5a12c",
   "metadata": {},
   "outputs": [
    {
     "data": {
      "text/html": [
       "<div>\n",
       "<style scoped>\n",
       "    .dataframe tbody tr th:only-of-type {\n",
       "        vertical-align: middle;\n",
       "    }\n",
       "\n",
       "    .dataframe tbody tr th {\n",
       "        vertical-align: top;\n",
       "    }\n",
       "\n",
       "    .dataframe thead th {\n",
       "        text-align: right;\n",
       "    }\n",
       "</style>\n",
       "<table border=\"1\" class=\"dataframe\">\n",
       "  <thead>\n",
       "    <tr style=\"text-align: right;\">\n",
       "      <th></th>\n",
       "      <th>spx</th>\n",
       "      <th>dax</th>\n",
       "      <th>ftse</th>\n",
       "      <th>nikkei</th>\n",
       "    </tr>\n",
       "    <tr>\n",
       "      <th>date</th>\n",
       "      <th></th>\n",
       "      <th></th>\n",
       "      <th></th>\n",
       "      <th></th>\n",
       "    </tr>\n",
       "  </thead>\n",
       "  <tbody>\n",
       "    <tr>\n",
       "      <th>1994-01-07</th>\n",
       "      <td>469.900000</td>\n",
       "      <td>2224.95</td>\n",
       "      <td>3445.980000</td>\n",
       "      <td>18124.01</td>\n",
       "    </tr>\n",
       "    <tr>\n",
       "      <th>1994-01-10</th>\n",
       "      <td>475.270000</td>\n",
       "      <td>2225.00</td>\n",
       "      <td>3440.580000</td>\n",
       "      <td>18443.44</td>\n",
       "    </tr>\n",
       "    <tr>\n",
       "      <th>1994-01-11</th>\n",
       "      <td>474.130000</td>\n",
       "      <td>2228.10</td>\n",
       "      <td>3413.770000</td>\n",
       "      <td>18485.25</td>\n",
       "    </tr>\n",
       "    <tr>\n",
       "      <th>1994-01-12</th>\n",
       "      <td>474.170000</td>\n",
       "      <td>2182.06</td>\n",
       "      <td>3372.020000</td>\n",
       "      <td>18793.88</td>\n",
       "    </tr>\n",
       "    <tr>\n",
       "      <th>1994-01-13</th>\n",
       "      <td>472.470000</td>\n",
       "      <td>2142.37</td>\n",
       "      <td>3360.010000</td>\n",
       "      <td>18577.26</td>\n",
       "    </tr>\n",
       "    <tr>\n",
       "      <th>...</th>\n",
       "      <td>...</td>\n",
       "      <td>...</td>\n",
       "      <td>...</td>\n",
       "      <td>...</td>\n",
       "    </tr>\n",
       "    <tr>\n",
       "      <th>2018-01-23</th>\n",
       "      <td>2839.130362</td>\n",
       "      <td>13559.60</td>\n",
       "      <td>7731.827774</td>\n",
       "      <td>24124.15</td>\n",
       "    </tr>\n",
       "    <tr>\n",
       "      <th>2018-01-24</th>\n",
       "      <td>2837.544008</td>\n",
       "      <td>13414.74</td>\n",
       "      <td>7643.428966</td>\n",
       "      <td>23940.78</td>\n",
       "    </tr>\n",
       "    <tr>\n",
       "      <th>2018-01-25</th>\n",
       "      <td>2839.253031</td>\n",
       "      <td>13298.36</td>\n",
       "      <td>7615.839954</td>\n",
       "      <td>23669.49</td>\n",
       "    </tr>\n",
       "    <tr>\n",
       "      <th>2018-01-26</th>\n",
       "      <td>2872.867839</td>\n",
       "      <td>13340.17</td>\n",
       "      <td>7665.541292</td>\n",
       "      <td>23631.88</td>\n",
       "    </tr>\n",
       "    <tr>\n",
       "      <th>2018-01-29</th>\n",
       "      <td>2853.528411</td>\n",
       "      <td>13324.48</td>\n",
       "      <td>7671.533300</td>\n",
       "      <td>23629.34</td>\n",
       "    </tr>\n",
       "  </tbody>\n",
       "</table>\n",
       "<p>6269 rows × 4 columns</p>\n",
       "</div>"
      ],
      "text/plain": [
       "                    spx       dax         ftse    nikkei\n",
       "date                                                    \n",
       "1994-01-07   469.900000   2224.95  3445.980000  18124.01\n",
       "1994-01-10   475.270000   2225.00  3440.580000  18443.44\n",
       "1994-01-11   474.130000   2228.10  3413.770000  18485.25\n",
       "1994-01-12   474.170000   2182.06  3372.020000  18793.88\n",
       "1994-01-13   472.470000   2142.37  3360.010000  18577.26\n",
       "...                 ...       ...          ...       ...\n",
       "2018-01-23  2839.130362  13559.60  7731.827774  24124.15\n",
       "2018-01-24  2837.544008  13414.74  7643.428966  23940.78\n",
       "2018-01-25  2839.253031  13298.36  7615.839954  23669.49\n",
       "2018-01-26  2872.867839  13340.17  7665.541292  23631.88\n",
       "2018-01-29  2853.528411  13324.48  7671.533300  23629.34\n",
       "\n",
       "[6269 rows x 4 columns]"
      ]
     },
     "execution_count": 2,
     "metadata": {},
     "output_type": "execute_result"
    }
   ],
   "source": [
    "#reading in the data and performing basic preprocessing\n",
    "data = pd.read_csv('Index2018.csv')\n",
    "df = data.copy #copying the dataframe\n",
    "df.date = pd.to_datetime(df.date, dayfirst = True) #parsing dates\n",
    "df.set_index('date', inplace = True) #setting date column as index\n",
    "df.asfreq('b') #setting a constant frequency as business days\n",
    "df.fillna('ffill') #filling missing or nan values"
   ]
  },
  {
   "cell_type": "code",
   "execution_count": 3,
   "id": "654fa9bb",
   "metadata": {},
   "outputs": [],
   "source": [
    "# keeping only ftse column and removing rest \n",
    "df['market_value'] = df.ftse\n",
    "del df['spx']\n",
    "del df['dax']\n",
    "del df['ftse']\n",
    "del df['nikkei']\n",
    "\n",
    "#splitting the data into training and testing data\n",
    "size = int(len(df)*0.8)\n",
    "df_train = df.iloc[:size]\n",
    "df_test = df.iloc[size:]"
   ]
  },
  {
   "cell_type": "code",
   "execution_count": 4,
   "id": "8bdbf58a",
   "metadata": {},
   "outputs": [],
   "source": [
    "def LLR_test(model_1, model_2, DF = 1):\n",
    "    L1 = model_1.fit().llf\n",
    "    L2 = model_2.fit().llf\n",
    "    LR = 2*(L2-L1)\n",
    "    p = chi2.sf(LR, DF).round(3)\n",
    "    return p"
   ]
  },
  {
   "cell_type": "code",
   "execution_count": 10,
   "id": "1fe1ce98",
   "metadata": {},
   "outputs": [],
   "source": [
    "import warnings\n",
    "warnings.filterwarnings('ignore')"
   ]
  },
  {
   "cell_type": "code",
   "execution_count": 11,
   "id": "dd7c5112",
   "metadata": {},
   "outputs": [],
   "source": [
    "#calculating returns\n",
    "df_train['returns'] = (df_train.market_value.pct_change(1)*100)\n",
    "df_train = df_train[1:]"
   ]
  },
  {
   "cell_type": "markdown",
   "id": "cfe0a6aa",
   "metadata": {},
   "source": [
    "## ARMA models"
   ]
  },
  {
   "cell_type": "code",
   "execution_count": 12,
   "id": "cbf08802",
   "metadata": {
    "scrolled": false
   },
   "outputs": [
    {
     "data": {
      "text/html": [
       "<table class=\"simpletable\">\n",
       "<caption>SARIMAX Results</caption>\n",
       "<tr>\n",
       "  <th>Dep. Variable:</th>        <td>returns</td>     <th>  No. Observations:  </th>   <td>5013</td>   \n",
       "</tr>\n",
       "<tr>\n",
       "  <th>Model:</th>            <td>ARIMA(1, 0, 1)</td>  <th>  Log Likelihood     </th> <td>-7907.506</td>\n",
       "</tr>\n",
       "<tr>\n",
       "  <th>Date:</th>            <td>Sat, 28 Jan 2023</td> <th>  AIC                </th> <td>15823.012</td>\n",
       "</tr>\n",
       "<tr>\n",
       "  <th>Time:</th>                <td>15:22:50</td>     <th>  BIC                </th> <td>15849.091</td>\n",
       "</tr>\n",
       "<tr>\n",
       "  <th>Sample:</th>                  <td>0</td>        <th>  HQIC               </th> <td>15832.151</td>\n",
       "</tr>\n",
       "<tr>\n",
       "  <th></th>                      <td> - 5013</td>     <th>                     </th>     <td> </td>    \n",
       "</tr>\n",
       "<tr>\n",
       "  <th>Covariance Type:</th>        <td>opg</td>       <th>                     </th>     <td> </td>    \n",
       "</tr>\n",
       "</table>\n",
       "<table class=\"simpletable\">\n",
       "<tr>\n",
       "     <td></td>       <th>coef</th>     <th>std err</th>      <th>z</th>      <th>P>|z|</th>  <th>[0.025</th>    <th>0.975]</th>  \n",
       "</tr>\n",
       "<tr>\n",
       "  <th>const</th>  <td>    0.0194</td> <td>    0.015</td> <td>    1.323</td> <td> 0.186</td> <td>   -0.009</td> <td>    0.048</td>\n",
       "</tr>\n",
       "<tr>\n",
       "  <th>ar.L1</th>  <td>    0.7663</td> <td>    0.045</td> <td>   17.153</td> <td> 0.000</td> <td>    0.679</td> <td>    0.854</td>\n",
       "</tr>\n",
       "<tr>\n",
       "  <th>ma.L1</th>  <td>   -0.8155</td> <td>    0.040</td> <td>  -20.384</td> <td> 0.000</td> <td>   -0.894</td> <td>   -0.737</td>\n",
       "</tr>\n",
       "<tr>\n",
       "  <th>sigma2</th> <td>    1.3729</td> <td>    0.014</td> <td>   98.035</td> <td> 0.000</td> <td>    1.345</td> <td>    1.400</td>\n",
       "</tr>\n",
       "</table>\n",
       "<table class=\"simpletable\">\n",
       "<tr>\n",
       "  <th>Ljung-Box (L1) (Q):</th>     <td>2.03</td> <th>  Jarque-Bera (JB):  </th> <td>7472.40</td>\n",
       "</tr>\n",
       "<tr>\n",
       "  <th>Prob(Q):</th>                <td>0.15</td> <th>  Prob(JB):          </th>  <td>0.00</td>  \n",
       "</tr>\n",
       "<tr>\n",
       "  <th>Heteroskedasticity (H):</th> <td>2.03</td> <th>  Skew:              </th>  <td>-0.19</td> \n",
       "</tr>\n",
       "<tr>\n",
       "  <th>Prob(H) (two-sided):</th>    <td>0.00</td> <th>  Kurtosis:          </th>  <td>8.97</td>  \n",
       "</tr>\n",
       "</table><br/><br/>Warnings:<br/>[1] Covariance matrix calculated using the outer product of gradients (complex-step)."
      ],
      "text/plain": [
       "<class 'statsmodels.iolib.summary.Summary'>\n",
       "\"\"\"\n",
       "                               SARIMAX Results                                \n",
       "==============================================================================\n",
       "Dep. Variable:                returns   No. Observations:                 5013\n",
       "Model:                 ARIMA(1, 0, 1)   Log Likelihood               -7907.506\n",
       "Date:                Sat, 28 Jan 2023   AIC                          15823.012\n",
       "Time:                        15:22:50   BIC                          15849.091\n",
       "Sample:                             0   HQIC                         15832.151\n",
       "                               - 5013                                         \n",
       "Covariance Type:                  opg                                         \n",
       "==============================================================================\n",
       "                 coef    std err          z      P>|z|      [0.025      0.975]\n",
       "------------------------------------------------------------------------------\n",
       "const          0.0194      0.015      1.323      0.186      -0.009       0.048\n",
       "ar.L1          0.7663      0.045     17.153      0.000       0.679       0.854\n",
       "ma.L1         -0.8155      0.040    -20.384      0.000      -0.894      -0.737\n",
       "sigma2         1.3729      0.014     98.035      0.000       1.345       1.400\n",
       "===================================================================================\n",
       "Ljung-Box (L1) (Q):                   2.03   Jarque-Bera (JB):              7472.40\n",
       "Prob(Q):                              0.15   Prob(JB):                         0.00\n",
       "Heteroskedasticity (H):               2.03   Skew:                            -0.19\n",
       "Prob(H) (two-sided):                  0.00   Kurtosis:                         8.97\n",
       "===================================================================================\n",
       "\n",
       "Warnings:\n",
       "[1] Covariance matrix calculated using the outer product of gradients (complex-step).\n",
       "\"\"\""
      ]
     },
     "execution_count": 12,
     "metadata": {},
     "output_type": "execute_result"
    }
   ],
   "source": [
    "#ARMA(1,1) model\n",
    "model_ret_arma = ARIMA(df_train.returns, order=(1,0,1))\n",
    "results_ret_arma = model_ret_arma.fit()\n",
    "results_ret_arma.summary()"
   ]
  },
  {
   "cell_type": "code",
   "execution_count": 13,
   "id": "833a89db",
   "metadata": {},
   "outputs": [
    {
     "name": "stdout",
     "output_type": "stream",
     "text": [
      "ARMA vs AR:  0.0\n",
      "ARMA vs MA:  0.0\n"
     ]
    }
   ],
   "source": [
    "#comparing the arma(1,1) model with ar(1) and ma(1) model\n",
    "model_ar_1 = ARIMA(df_train.returns, order = (1,0,0))\n",
    "model_ma_1 = ARIMA(df_train.returns, order = (0,0,1))\n",
    "\n",
    "print('ARMA vs AR: ',LLR_test(model_ar_1, model_ret_arma))\n",
    "print('ARMA vs MA: ', LLR_test(model_ma_1, model_ret_arma))"
   ]
  },
  {
   "cell_type": "code",
   "execution_count": 22,
   "id": "1a00b80d",
   "metadata": {},
   "outputs": [
    {
     "data": {
      "image/png": "[encoded data removed]",
      "text/plain": [
       "<Figure size 1440x720 with 2 Axes>"
      ]
     },
     "metadata": {
      "needs_background": "light"
     },
     "output_type": "display_data"
    }
   ],
   "source": [
    "#plotting acf and pacf for returns\n",
    "plt.rcParams['figure.figsize'] = (20,10)\n",
    "fig,ax = plt.subplots(nrows = 1, ncols = 2,sharex = True, sharey = True)\n",
    "p1 = sgt.plot_acf(df_train.returns, lags = 40, zero = False, ax = ax[0], title = 'ACF for FTSE returns')\n",
    "p2 = sgt.plot_pacf(df_train.returns, lags = 40, zero = False, ax = ax[1], title = 'PACF for FTSE returns')\n",
    "plt.ylim(-.085,.08)\n",
    "plt.show()"
   ]
  },
  {
   "cell_type": "code",
   "execution_count": 23,
   "id": "26e7737c",
   "metadata": {},
   "outputs": [
    {
     "data": {
      "text/html": [
       "<table class=\"simpletable\">\n",
       "<caption>SARIMAX Results</caption>\n",
       "<tr>\n",
       "  <th>Dep. Variable:</th>        <td>returns</td>     <th>  No. Observations:  </th>   <td>5013</td>   \n",
       "</tr>\n",
       "<tr>\n",
       "  <th>Model:</th>            <td>ARIMA(6, 0, 8)</td>  <th>  Log Likelihood     </th> <td>-7873.666</td>\n",
       "</tr>\n",
       "<tr>\n",
       "  <th>Date:</th>            <td>Sat, 28 Jan 2023</td> <th>  AIC                </th> <td>15779.331</td>\n",
       "</tr>\n",
       "<tr>\n",
       "  <th>Time:</th>                <td>15:39:45</td>     <th>  BIC                </th> <td>15883.648</td>\n",
       "</tr>\n",
       "<tr>\n",
       "  <th>Sample:</th>                  <td>0</td>        <th>  HQIC               </th> <td>15815.888</td>\n",
       "</tr>\n",
       "<tr>\n",
       "  <th></th>                      <td> - 5013</td>     <th>                     </th>     <td> </td>    \n",
       "</tr>\n",
       "<tr>\n",
       "  <th>Covariance Type:</th>        <td>opg</td>       <th>                     </th>     <td> </td>    \n",
       "</tr>\n",
       "</table>\n",
       "<table class=\"simpletable\">\n",
       "<tr>\n",
       "     <td></td>       <th>coef</th>     <th>std err</th>      <th>z</th>      <th>P>|z|</th>  <th>[0.025</th>    <th>0.975]</th>  \n",
       "</tr>\n",
       "<tr>\n",
       "  <th>const</th>  <td>    0.0194</td> <td>    0.015</td> <td>    1.336</td> <td> 0.181</td> <td>   -0.009</td> <td>    0.048</td>\n",
       "</tr>\n",
       "<tr>\n",
       "  <th>ar.L1</th>  <td>   -0.4727</td> <td>    0.552</td> <td>   -0.857</td> <td> 0.391</td> <td>   -1.554</td> <td>    0.608</td>\n",
       "</tr>\n",
       "<tr>\n",
       "  <th>ar.L2</th>  <td>   -0.3581</td> <td>    0.401</td> <td>   -0.893</td> <td> 0.372</td> <td>   -1.144</td> <td>    0.428</td>\n",
       "</tr>\n",
       "<tr>\n",
       "  <th>ar.L3</th>  <td>    0.1879</td> <td>    0.244</td> <td>    0.770</td> <td> 0.441</td> <td>   -0.290</td> <td>    0.666</td>\n",
       "</tr>\n",
       "<tr>\n",
       "  <th>ar.L4</th>  <td>    0.4314</td> <td>    0.215</td> <td>    2.009</td> <td> 0.045</td> <td>    0.010</td> <td>    0.852</td>\n",
       "</tr>\n",
       "<tr>\n",
       "  <th>ar.L5</th>  <td>    0.7055</td> <td>    0.376</td> <td>    1.877</td> <td> 0.061</td> <td>   -0.031</td> <td>    1.442</td>\n",
       "</tr>\n",
       "<tr>\n",
       "  <th>ar.L6</th>  <td>    0.1719</td> <td>    0.163</td> <td>    1.053</td> <td> 0.292</td> <td>   -0.148</td> <td>    0.492</td>\n",
       "</tr>\n",
       "<tr>\n",
       "  <th>ma.L1</th>  <td>    0.4485</td> <td>    0.550</td> <td>    0.815</td> <td> 0.415</td> <td>   -0.630</td> <td>    1.527</td>\n",
       "</tr>\n",
       "<tr>\n",
       "  <th>ma.L2</th>  <td>    0.2967</td> <td>    0.404</td> <td>    0.734</td> <td> 0.463</td> <td>   -0.496</td> <td>    1.089</td>\n",
       "</tr>\n",
       "<tr>\n",
       "  <th>ma.L3</th>  <td>   -0.3054</td> <td>    0.243</td> <td>   -1.259</td> <td> 0.208</td> <td>   -0.781</td> <td>    0.170</td>\n",
       "</tr>\n",
       "<tr>\n",
       "  <th>ma.L4</th>  <td>   -0.4363</td> <td>    0.210</td> <td>   -2.075</td> <td> 0.038</td> <td>   -0.848</td> <td>   -0.024</td>\n",
       "</tr>\n",
       "<tr>\n",
       "  <th>ma.L5</th>  <td>   -0.7340</td> <td>    0.351</td> <td>   -2.091</td> <td> 0.037</td> <td>   -1.422</td> <td>   -0.046</td>\n",
       "</tr>\n",
       "<tr>\n",
       "  <th>ma.L6</th>  <td>   -0.1448</td> <td>    0.152</td> <td>   -0.950</td> <td> 0.342</td> <td>   -0.443</td> <td>    0.154</td>\n",
       "</tr>\n",
       "<tr>\n",
       "  <th>ma.L7</th>  <td>    0.0447</td> <td>    0.041</td> <td>    1.084</td> <td> 0.278</td> <td>   -0.036</td> <td>    0.125</td>\n",
       "</tr>\n",
       "<tr>\n",
       "  <th>ma.L8</th>  <td>    0.0763</td> <td>    0.040</td> <td>    1.890</td> <td> 0.059</td> <td>   -0.003</td> <td>    0.155</td>\n",
       "</tr>\n",
       "<tr>\n",
       "  <th>sigma2</th> <td>    1.3545</td> <td>    0.015</td> <td>   88.654</td> <td> 0.000</td> <td>    1.325</td> <td>    1.384</td>\n",
       "</tr>\n",
       "</table>\n",
       "<table class=\"simpletable\">\n",
       "<tr>\n",
       "  <th>Ljung-Box (L1) (Q):</th>     <td>0.00</td> <th>  Jarque-Bera (JB):  </th> <td>6434.12</td>\n",
       "</tr>\n",
       "<tr>\n",
       "  <th>Prob(Q):</th>                <td>0.99</td> <th>  Prob(JB):          </th>  <td>0.00</td>  \n",
       "</tr>\n",
       "<tr>\n",
       "  <th>Heteroskedasticity (H):</th> <td>1.99</td> <th>  Skew:              </th>  <td>-0.24</td> \n",
       "</tr>\n",
       "<tr>\n",
       "  <th>Prob(H) (two-sided):</th>    <td>0.00</td> <th>  Kurtosis:          </th>  <td>8.53</td>  \n",
       "</tr>\n",
       "</table><br/><br/>Warnings:<br/>[1] Covariance matrix calculated using the outer product of gradients (complex-step)."
      ],
      "text/plain": [
       "<class 'statsmodels.iolib.summary.Summary'>\n",
       "\"\"\"\n",
       "                               SARIMAX Results                                \n",
       "==============================================================================\n",
       "Dep. Variable:                returns   No. Observations:                 5013\n",
       "Model:                 ARIMA(6, 0, 8)   Log Likelihood               -7873.666\n",
       "Date:                Sat, 28 Jan 2023   AIC                          15779.331\n",
       "Time:                        15:39:45   BIC                          15883.648\n",
       "Sample:                             0   HQIC                         15815.888\n",
       "                               - 5013                                         \n",
       "Covariance Type:                  opg                                         \n",
       "==============================================================================\n",
       "                 coef    std err          z      P>|z|      [0.025      0.975]\n",
       "------------------------------------------------------------------------------\n",
       "const          0.0194      0.015      1.336      0.181      -0.009       0.048\n",
       "ar.L1         -0.4727      0.552     -0.857      0.391      -1.554       0.608\n",
       "ar.L2         -0.3581      0.401     -0.893      0.372      -1.144       0.428\n",
       "ar.L3          0.1879      0.244      0.770      0.441      -0.290       0.666\n",
       "ar.L4          0.4314      0.215      2.009      0.045       0.010       0.852\n",
       "ar.L5          0.7055      0.376      1.877      0.061      -0.031       1.442\n",
       "ar.L6          0.1719      0.163      1.053      0.292      -0.148       0.492\n",
       "ma.L1          0.4485      0.550      0.815      0.415      -0.630       1.527\n",
       "ma.L2          0.2967      0.404      0.734      0.463      -0.496       1.089\n",
       "ma.L3         -0.3054      0.243     -1.259      0.208      -0.781       0.170\n",
       "ma.L4         -0.4363      0.210     -2.075      0.038      -0.848      -0.024\n",
       "ma.L5         -0.7340      0.351     -2.091      0.037      -1.422      -0.046\n",
       "ma.L6         -0.1448      0.152     -0.950      0.342      -0.443       0.154\n",
       "ma.L7          0.0447      0.041      1.084      0.278      -0.036       0.125\n",
       "ma.L8          0.0763      0.040      1.890      0.059      -0.003       0.155\n",
       "sigma2         1.3545      0.015     88.654      0.000       1.325       1.384\n",
       "===================================================================================\n",
       "Ljung-Box (L1) (Q):                   0.00   Jarque-Bera (JB):              6434.12\n",
       "Prob(Q):                              0.99   Prob(JB):                         0.00\n",
       "Heteroskedasticity (H):               1.99   Skew:                            -0.24\n",
       "Prob(H) (two-sided):                  0.00   Kurtosis:                         8.53\n",
       "===================================================================================\n",
       "\n",
       "Warnings:\n",
       "[1] Covariance matrix calculated using the outer product of gradients (complex-step).\n",
       "\"\"\""
      ]
     },
     "execution_count": 23,
     "metadata": {},
     "output_type": "execute_result"
    }
   ],
   "source": [
    "#fitting higher lags model\n",
    "model_ret_ar_6_ma_8 = ARIMA(df_train.returns, order = (6,0,8))\n",
    "results_ret_ar_6_ma_8 = model_ret_ar_6_ma_8.fit()\n",
    "results_ret_ar_6_ma_8.summary()"
   ]
  },
  {
   "cell_type": "code",
   "execution_count": 24,
   "id": "44bece16",
   "metadata": {},
   "outputs": [
    {
     "data": {
      "text/html": [
       "<table class=\"simpletable\">\n",
       "<caption>SARIMAX Results</caption>\n",
       "<tr>\n",
       "  <th>Dep. Variable:</th>        <td>returns</td>     <th>  No. Observations:  </th>   <td>5013</td>   \n",
       "</tr>\n",
       "<tr>\n",
       "  <th>Model:</th>            <td>ARIMA(3, 0, 3)</td>  <th>  Log Likelihood     </th> <td>-7884.805</td>\n",
       "</tr>\n",
       "<tr>\n",
       "  <th>Date:</th>            <td>Sat, 28 Jan 2023</td> <th>  AIC                </th> <td>15785.610</td>\n",
       "</tr>\n",
       "<tr>\n",
       "  <th>Time:</th>                <td>15:46:39</td>     <th>  BIC                </th> <td>15837.768</td>\n",
       "</tr>\n",
       "<tr>\n",
       "  <th>Sample:</th>                  <td>0</td>        <th>  HQIC               </th> <td>15803.888</td>\n",
       "</tr>\n",
       "<tr>\n",
       "  <th></th>                      <td> - 5013</td>     <th>                     </th>     <td> </td>    \n",
       "</tr>\n",
       "<tr>\n",
       "  <th>Covariance Type:</th>        <td>opg</td>       <th>                     </th>     <td> </td>    \n",
       "</tr>\n",
       "</table>\n",
       "<table class=\"simpletable\">\n",
       "<tr>\n",
       "     <td></td>       <th>coef</th>     <th>std err</th>      <th>z</th>      <th>P>|z|</th>  <th>[0.025</th>    <th>0.975]</th>  \n",
       "</tr>\n",
       "<tr>\n",
       "  <th>const</th>  <td>    0.0194</td> <td>    0.015</td> <td>    1.317</td> <td> 0.188</td> <td>   -0.009</td> <td>    0.048</td>\n",
       "</tr>\n",
       "<tr>\n",
       "  <th>ar.L1</th>  <td>   -0.2000</td> <td>    0.067</td> <td>   -2.980</td> <td> 0.003</td> <td>   -0.332</td> <td>   -0.068</td>\n",
       "</tr>\n",
       "<tr>\n",
       "  <th>ar.L2</th>  <td>   -0.2771</td> <td>    0.054</td> <td>   -5.124</td> <td> 0.000</td> <td>   -0.383</td> <td>   -0.171</td>\n",
       "</tr>\n",
       "<tr>\n",
       "  <th>ar.L3</th>  <td>    0.4526</td> <td>    0.062</td> <td>    7.342</td> <td> 0.000</td> <td>    0.332</td> <td>    0.573</td>\n",
       "</tr>\n",
       "<tr>\n",
       "  <th>ma.L1</th>  <td>    0.1807</td> <td>    0.062</td> <td>    2.898</td> <td> 0.004</td> <td>    0.058</td> <td>    0.303</td>\n",
       "</tr>\n",
       "<tr>\n",
       "  <th>ma.L2</th>  <td>    0.2114</td> <td>    0.052</td> <td>    4.075</td> <td> 0.000</td> <td>    0.110</td> <td>    0.313</td>\n",
       "</tr>\n",
       "<tr>\n",
       "  <th>ma.L3</th>  <td>   -0.5505</td> <td>    0.057</td> <td>   -9.739</td> <td> 0.000</td> <td>   -0.661</td> <td>   -0.440</td>\n",
       "</tr>\n",
       "<tr>\n",
       "  <th>sigma2</th> <td>    1.3605</td> <td>    0.015</td> <td>   92.254</td> <td> 0.000</td> <td>    1.332</td> <td>    1.389</td>\n",
       "</tr>\n",
       "</table>\n",
       "<table class=\"simpletable\">\n",
       "<tr>\n",
       "  <th>Ljung-Box (L1) (Q):</th>     <td>0.17</td> <th>  Jarque-Bera (JB):  </th> <td>6835.64</td>\n",
       "</tr>\n",
       "<tr>\n",
       "  <th>Prob(Q):</th>                <td>0.68</td> <th>  Prob(JB):          </th>  <td>0.00</td>  \n",
       "</tr>\n",
       "<tr>\n",
       "  <th>Heteroskedasticity (H):</th> <td>2.00</td> <th>  Skew:              </th>  <td>-0.17</td> \n",
       "</tr>\n",
       "<tr>\n",
       "  <th>Prob(H) (two-sided):</th>    <td>0.00</td> <th>  Kurtosis:          </th>  <td>8.71</td>  \n",
       "</tr>\n",
       "</table><br/><br/>Warnings:<br/>[1] Covariance matrix calculated using the outer product of gradients (complex-step)."
      ],
      "text/plain": [
       "<class 'statsmodels.iolib.summary.Summary'>\n",
       "\"\"\"\n",
       "                               SARIMAX Results                                \n",
       "==============================================================================\n",
       "Dep. Variable:                returns   No. Observations:                 5013\n",
       "Model:                 ARIMA(3, 0, 3)   Log Likelihood               -7884.805\n",
       "Date:                Sat, 28 Jan 2023   AIC                          15785.610\n",
       "Time:                        15:46:39   BIC                          15837.768\n",
       "Sample:                             0   HQIC                         15803.888\n",
       "                               - 5013                                         \n",
       "Covariance Type:                  opg                                         \n",
       "==============================================================================\n",
       "                 coef    std err          z      P>|z|      [0.025      0.975]\n",
       "------------------------------------------------------------------------------\n",
       "const          0.0194      0.015      1.317      0.188      -0.009       0.048\n",
       "ar.L1         -0.2000      0.067     -2.980      0.003      -0.332      -0.068\n",
       "ar.L2         -0.2771      0.054     -5.124      0.000      -0.383      -0.171\n",
       "ar.L3          0.4526      0.062      7.342      0.000       0.332       0.573\n",
       "ma.L1          0.1807      0.062      2.898      0.004       0.058       0.303\n",
       "ma.L2          0.2114      0.052      4.075      0.000       0.110       0.313\n",
       "ma.L3         -0.5505      0.057     -9.739      0.000      -0.661      -0.440\n",
       "sigma2         1.3605      0.015     92.254      0.000       1.332       1.389\n",
       "===================================================================================\n",
       "Ljung-Box (L1) (Q):                   0.17   Jarque-Bera (JB):              6835.64\n",
       "Prob(Q):                              0.68   Prob(JB):                         0.00\n",
       "Heteroskedasticity (H):               2.00   Skew:                            -0.17\n",
       "Prob(H) (two-sided):                  0.00   Kurtosis:                         8.71\n",
       "===================================================================================\n",
       "\n",
       "Warnings:\n",
       "[1] Covariance matrix calculated using the outer product of gradients (complex-step).\n",
       "\"\"\""
      ]
     },
     "execution_count": 24,
     "metadata": {},
     "output_type": "execute_result"
    }
   ],
   "source": [
    "#10 out of the 14 coeff other than the constatnt terms are not significant. Our model is way too complex, we lower it down\n",
    "#Let's try ARMA(3,3)\n",
    "model_ret_ar_3_ma_3 = ARIMA(df_train.returns, order = (3,0,3))\n",
    "results_ret_ar_3_ma_3 = model_ret_ar_3_ma_3.fit()\n",
    "results_ret_ar_3_ma_3.summary()"
   ]
  },
  {
   "cell_type": "code",
   "execution_count": 26,
   "id": "a200a4d2",
   "metadata": {},
   "outputs": [
    {
     "data": {
      "text/plain": [
       "0.0"
      ]
     },
     "execution_count": 26,
     "metadata": {},
     "output_type": "execute_result"
    }
   ],
   "source": [
    "LLR_test(model_ret_arma, model_ret_ar_3_ma_3, DF = 4)"
   ]
  },
  {
   "cell_type": "code",
   "execution_count": 27,
   "id": "a65d8d44",
   "metadata": {},
   "outputs": [
    {
     "name": "stdout",
     "output_type": "stream",
     "text": [
      "                               SARIMAX Results                                \n",
      "==============================================================================\n",
      "Dep. Variable:                returns   No. Observations:                 5013\n",
      "Model:                 ARIMA(3, 0, 2)   Log Likelihood               -7887.424\n",
      "Date:                Sat, 28 Jan 2023   AIC                          15788.849\n",
      "Time:                        15:49:21   BIC                          15834.487\n",
      "Sample:                             0   HQIC                         15804.842\n",
      "                               - 5013                                         \n",
      "Covariance Type:                  opg                                         \n",
      "==============================================================================\n",
      "                 coef    std err          z      P>|z|      [0.025      0.975]\n",
      "------------------------------------------------------------------------------\n",
      "const          0.0194      0.016      1.246      0.213      -0.011       0.050\n",
      "ar.L1         -0.6806      0.055    -12.357      0.000      -0.789      -0.573\n",
      "ar.L2         -0.5192      0.063     -8.239      0.000      -0.643      -0.396\n",
      "ar.L3         -0.1129      0.009    -12.571      0.000      -0.130      -0.095\n",
      "ma.L1          0.6588      0.056     11.801      0.000       0.549       0.768\n",
      "ma.L2          0.4579      0.063      7.229      0.000       0.334       0.582\n",
      "sigma2         1.3619      0.015     91.727      0.000       1.333       1.391\n",
      "===================================================================================\n",
      "Ljung-Box (L1) (Q):                   0.00   Jarque-Bera (JB):              6515.51\n",
      "Prob(Q):                              1.00   Prob(JB):                         0.00\n",
      "Heteroskedasticity (H):               1.99   Skew:                            -0.11\n",
      "Prob(H) (two-sided):                  0.00   Kurtosis:                         8.58\n",
      "===================================================================================\n",
      "\n",
      "Warnings:\n",
      "[1] Covariance matrix calculated using the outer product of gradients (complex-step).\n",
      "0.022\n"
     ]
    }
   ],
   "source": [
    "#lets try more simpler models and see if they are better\n",
    "model_ret_ar_3_ma_2 = ARIMA(df_train.returns, order = (3,0,2))\n",
    "results_ret_ar_3_ma_2 = model_ret_ar_3_ma_2.fit()\n",
    "print(results_ret_ar_3_ma_2.summary())\n",
    "print(LLR_test(model_ret_ar_3_ma_2, model_ret_ar_3_ma_3, DF = 1))"
   ]
  },
  {
   "cell_type": "code",
   "execution_count": 28,
   "id": "e0bed75e",
   "metadata": {},
   "outputs": [
    {
     "name": "stdout",
     "output_type": "stream",
     "text": [
      "                               SARIMAX Results                                \n",
      "==============================================================================\n",
      "Dep. Variable:                returns   No. Observations:                 5013\n",
      "Model:                 ARIMA(2, 0, 3)   Log Likelihood               -7887.238\n",
      "Date:                Sat, 28 Jan 2023   AIC                          15788.476\n",
      "Time:                        15:50:23   BIC                          15834.115\n",
      "Sample:                             0   HQIC                         15804.470\n",
      "                               - 5013                                         \n",
      "Covariance Type:                  opg                                         \n",
      "==============================================================================\n",
      "                 coef    std err          z      P>|z|      [0.025      0.975]\n",
      "------------------------------------------------------------------------------\n",
      "const          0.0194      0.015      1.257      0.209      -0.011       0.050\n",
      "ar.L1         -0.5645      0.057     -9.888      0.000      -0.676      -0.453\n",
      "ar.L2         -0.4316      0.065     -6.615      0.000      -0.560      -0.304\n",
      "ma.L1          0.5416      0.057      9.517      0.000       0.430       0.653\n",
      "ma.L2          0.3669      0.065      5.608      0.000       0.239       0.495\n",
      "ma.L3         -0.1146      0.009    -12.478      0.000      -0.133      -0.097\n",
      "sigma2         1.3618      0.015     91.256      0.000       1.333       1.391\n",
      "===================================================================================\n",
      "Ljung-Box (L1) (Q):                   0.00   Jarque-Bera (JB):              6517.39\n",
      "Prob(Q):                              0.98   Prob(JB):                         0.00\n",
      "Heteroskedasticity (H):               1.99   Skew:                            -0.12\n",
      "Prob(H) (two-sided):                  0.00   Kurtosis:                         8.58\n",
      "===================================================================================\n",
      "\n",
      "Warnings:\n",
      "[1] Covariance matrix calculated using the outer product of gradients (complex-step).\n",
      "0.027\n"
     ]
    }
   ],
   "source": [
    "model_ret_ar_2_ma_3 = ARIMA(df_train.returns, order = (2,0,3))\n",
    "results_ret_ar_2_ma_3 = model_ret_ar_2_ma_3.fit()\n",
    "print(results_ret_ar_2_ma_3.summary())\n",
    "print(LLR_test(model_ret_ar_2_ma_3, model_ret_ar_3_ma_3, DF = 1))"
   ]
  },
  {
   "cell_type": "code",
   "execution_count": 30,
   "id": "4b3c6a53",
   "metadata": {},
   "outputs": [
    {
     "name": "stdout",
     "output_type": "stream",
     "text": [
      "                               SARIMAX Results                                \n",
      "==============================================================================\n",
      "Dep. Variable:                returns   No. Observations:                 5013\n",
      "Model:                 ARIMA(3, 0, 1)   Log Likelihood               -7890.942\n",
      "Date:                Sat, 28 Jan 2023   AIC                          15793.885\n",
      "Time:                        15:52:25   BIC                          15833.003\n",
      "Sample:                             0   HQIC                         15807.593\n",
      "                               - 5013                                         \n",
      "Covariance Type:                  opg                                         \n",
      "==============================================================================\n",
      "                 coef    std err          z      P>|z|      [0.025      0.975]\n",
      "------------------------------------------------------------------------------\n",
      "const          0.0194      0.015      1.282      0.200      -0.010       0.049\n",
      "ar.L1         -0.5043      0.064     -7.939      0.000      -0.629      -0.380\n",
      "ar.L2         -0.0637      0.009     -7.023      0.000      -0.081      -0.046\n",
      "ar.L3         -0.1088      0.008    -13.458      0.000      -0.125      -0.093\n",
      "ma.L1          0.4802      0.065      7.403      0.000       0.353       0.607\n",
      "sigma2         1.3639      0.015     92.745      0.000       1.335       1.393\n",
      "===================================================================================\n",
      "Ljung-Box (L1) (Q):                   0.01   Jarque-Bera (JB):              6487.40\n",
      "Prob(Q):                              0.94   Prob(JB):                         0.00\n",
      "Heteroskedasticity (H):               2.01   Skew:                            -0.14\n",
      "Prob(H) (two-sided):                  0.00   Kurtosis:                         8.57\n",
      "===================================================================================\n",
      "\n",
      "Warnings:\n",
      "[1] Covariance matrix calculated using the outer product of gradients (complex-step).\n",
      "0.008\n"
     ]
    }
   ],
   "source": [
    "model_ret_ar_3_ma_1 = ARIMA(df_train.returns, order = (3,0,1))\n",
    "results_ret_ar_3_ma_1 = model_ret_ar_3_ma_1.fit()\n",
    "print(results_ret_ar_3_ma_1.summary())\n",
    "print(LLR_test(model_ret_ar_3_ma_1, model_ret_ar_3_ma_2, DF = 1))"
   ]
  },
  {
   "cell_type": "markdown",
   "id": "52881b14",
   "metadata": {},
   "source": [
    "we see that ARMA(3,2) is better than ARMA(3,1)"
   ]
  },
  {
   "cell_type": "code",
   "execution_count": 31,
   "id": "75e85e78",
   "metadata": {},
   "outputs": [
    {
     "name": "stdout",
     "output_type": "stream",
     "text": [
      "                               SARIMAX Results                                \n",
      "==============================================================================\n",
      "Dep. Variable:                returns   No. Observations:                 5013\n",
      "Model:                 ARIMA(2, 0, 2)   Log Likelihood               -7903.210\n",
      "Date:                Sat, 28 Jan 2023   AIC                          15818.420\n",
      "Time:                        15:53:52   BIC                          15857.538\n",
      "Sample:                             0   HQIC                         15832.128\n",
      "                               - 5013                                         \n",
      "Covariance Type:                  opg                                         \n",
      "==============================================================================\n",
      "                 coef    std err          z      P>|z|      [0.025      0.975]\n",
      "------------------------------------------------------------------------------\n",
      "const          0.0194      0.015      1.320      0.187      -0.009       0.048\n",
      "ar.L1         -0.2132      0.044     -4.833      0.000      -0.300      -0.127\n",
      "ar.L2          0.7715      0.044     17.521      0.000       0.685       0.858\n",
      "ma.L1          0.1612      0.040      4.055      0.000       0.083       0.239\n",
      "ma.L2         -0.8132      0.039    -20.606      0.000      -0.891      -0.736\n",
      "sigma2         1.3705      0.015     94.200      0.000       1.342       1.399\n",
      "===================================================================================\n",
      "Ljung-Box (L1) (Q):                   3.11   Jarque-Bera (JB):              7038.28\n",
      "Prob(Q):                              0.08   Prob(JB):                         0.00\n",
      "Heteroskedasticity (H):               2.01   Skew:                            -0.20\n",
      "Prob(H) (two-sided):                  0.00   Kurtosis:                         8.79\n",
      "===================================================================================\n",
      "\n",
      "Warnings:\n",
      "[1] Covariance matrix calculated using the outer product of gradients (complex-step).\n",
      "0.0\n"
     ]
    }
   ],
   "source": [
    "model_ret_ar_2_ma_2 = ARIMA(df_train.returns, order = (2,0,2))\n",
    "results_ret_ar_2_ma_2 = model_ret_ar_2_ma_2.fit()\n",
    "print(results_ret_ar_2_ma_2.summary())\n",
    "print(LLR_test(model_ret_ar_2_ma_2, model_ret_ar_3_ma_2, DF = 1))"
   ]
  },
  {
   "cell_type": "code",
   "execution_count": 32,
   "id": "e4583960",
   "metadata": {},
   "outputs": [
    {
     "name": "stdout",
     "output_type": "stream",
     "text": [
      "                               SARIMAX Results                                \n",
      "==============================================================================\n",
      "Dep. Variable:                returns   No. Observations:                 5013\n",
      "Model:                 ARIMA(1, 0, 3)   Log Likelihood               -7888.644\n",
      "Date:                Sat, 28 Jan 2023   AIC                          15789.288\n",
      "Time:                        15:56:01   BIC                          15828.407\n",
      "Sample:                             0   HQIC                         15802.997\n",
      "                               - 5013                                         \n",
      "Covariance Type:                  opg                                         \n",
      "==============================================================================\n",
      "                 coef    std err          z      P>|z|      [0.025      0.975]\n",
      "------------------------------------------------------------------------------\n",
      "const          0.0194      0.015      1.299      0.194      -0.010       0.049\n",
      "ar.L1         -0.4653      0.061     -7.683      0.000      -0.584      -0.347\n",
      "ma.L1          0.4426      0.061      7.247      0.000       0.323       0.562\n",
      "ma.L2         -0.0637      0.009     -7.282      0.000      -0.081      -0.047\n",
      "ma.L3         -0.1172      0.008    -14.578      0.000      -0.133      -0.101\n",
      "sigma2         1.3626      0.015     92.504      0.000       1.334       1.391\n",
      "===================================================================================\n",
      "Ljung-Box (L1) (Q):                   0.00   Jarque-Bera (JB):              6395.71\n",
      "Prob(Q):                              0.96   Prob(JB):                         0.00\n",
      "Heteroskedasticity (H):               2.00   Skew:                            -0.16\n",
      "Prob(H) (two-sided):                  0.00   Kurtosis:                         8.52\n",
      "===================================================================================\n",
      "\n",
      "Warnings:\n",
      "[1] Covariance matrix calculated using the outer product of gradients (complex-step).\n",
      "0.118\n"
     ]
    }
   ],
   "source": [
    "#checking ARMA(1,3) model\n",
    "model_ret_ar_1_ma_3 = ARIMA(df_train.returns, order = (1,0,3))\n",
    "results_ret_ar_1_ma_3 = model_ret_ar_1_ma_3.fit()\n",
    "print(results_ret_ar_1_ma_3.summary())\n",
    "print(LLR_test(model_ret_ar_1_ma_3, model_ret_ar_3_ma_2, DF = 1))"
   ]
  },
  {
   "cell_type": "markdown",
   "id": "0828e1e6",
   "metadata": {},
   "source": [
    "the LLR_test above is void since ARMA(1,3) is not nested in ARMA(3,2) model. Therefore, we must manually compare the LLR of both"
   ]
  },
  {
   "cell_type": "code",
   "execution_count": 33,
   "id": "65c7b203",
   "metadata": {},
   "outputs": [
    {
     "name": "stdout",
     "output_type": "stream",
     "text": [
      "\n",
      "ARMA(3,2): \tLLR =  -7887.424452393762 \tAIC =  15788.848904787525\n",
      "\n",
      "ARMA(1,3): \tLLR =  -7888.644191113959 \tAIC =  15789.288382227918\n"
     ]
    }
   ],
   "source": [
    "print('\\nARMA(3,2): \\tLLR = ', results_ret_ar_3_ma_2.llf, '\\tAIC = ',results_ret_ar_3_ma_2.aic)\n",
    "print('\\nARMA(1,3): \\tLLR = ', results_ret_ar_1_ma_3.llf, '\\tAIC = ',results_ret_ar_1_ma_3.aic)"
   ]
  },
  {
   "cell_type": "markdown",
   "id": "0ed320a1",
   "metadata": {},
   "source": [
    "As we see, ARMA(3,2) outperforms ARMA(1,3)"
   ]
  },
  {
   "cell_type": "markdown",
   "id": "2b04fa9a",
   "metadata": {},
   "source": [
    "### analysing residuals"
   ]
  },
  {
   "cell_type": "code",
   "execution_count": 37,
   "id": "951a46e2",
   "metadata": {},
   "outputs": [
    {
     "data": {
      "image/png": "[encoded data removed]",
      "text/plain": [
       "<Figure size 1440x720 with 1 Axes>"
      ]
     },
     "metadata": {
      "needs_background": "light"
     },
     "output_type": "display_data"
    }
   ],
   "source": [
    "df_train['residuals_returns'] = results_ret_ar_3_ma_2.resid\n",
    "\n",
    "#plotting the residuals\n",
    "plt.plot(df_train['residuals_returns'])\n",
    "plt.title('Residuals for ARMA(3,2) model on returns',size = 12)\n",
    "plt.show()"
   ]
  },
  {
   "cell_type": "code",
   "execution_count": 38,
   "id": "9ebb3513",
   "metadata": {},
   "outputs": [
    {
     "data": {
      "image/png": "[encoded data removed]",
      "text/plain": [
       "<Figure size 1440x720 with 1 Axes>"
      ]
     },
     "metadata": {
      "needs_background": "light"
     },
     "output_type": "display_data"
    }
   ],
   "source": [
    "#plotting acf \n",
    "sgt.plot_acf(df_train.residuals_returns, lags = 40, zero = False)\n",
    "plt.title(\"ACF for residuals\", size = 12)\n",
    "plt.ylim(-.05,.05)\n",
    "plt.show()"
   ]
  },
  {
   "cell_type": "markdown",
   "id": "65122c44",
   "metadata": {},
   "source": [
    "We see a few acf being significant, in particular the one for the 5th lag.\n",
    "\n",
    "This indicates that we must incorporate the 5th lag component for either of AR or MA components if not both"
   ]
  },
  {
   "cell_type": "markdown",
   "id": "a7f95adf",
   "metadata": {},
   "source": [
    "## Re-selecting the best model"
   ]
  },
  {
   "cell_type": "code",
   "execution_count": 39,
   "id": "c52dd6ed",
   "metadata": {},
   "outputs": [
    {
     "name": "stdout",
     "output_type": "stream",
     "text": [
      "                               SARIMAX Results                                \n",
      "==============================================================================\n",
      "Dep. Variable:                returns   No. Observations:                 5013\n",
      "Model:                 ARIMA(5, 0, 5)   Log Likelihood               -7873.842\n",
      "Date:                Sat, 28 Jan 2023   AIC                          15771.683\n",
      "Time:                        16:23:57   BIC                          15849.921\n",
      "Sample:                             0   HQIC                         15799.101\n",
      "                               - 5013                                         \n",
      "Covariance Type:                  opg                                         \n",
      "==============================================================================\n",
      "                 coef    std err          z      P>|z|      [0.025      0.975]\n",
      "------------------------------------------------------------------------------\n",
      "const          0.0181      0.015      1.232      0.218      -0.011       0.047\n",
      "ar.L1         -0.0501      0.108     -0.463      0.643      -0.262       0.162\n",
      "ar.L2         -0.5704      0.076     -7.464      0.000      -0.720      -0.421\n",
      "ar.L3         -0.1205      0.075     -1.616      0.106      -0.267       0.026\n",
      "ar.L4          0.2632      0.073      3.603      0.000       0.120       0.406\n",
      "ar.L5          0.1049      0.090      1.170      0.242      -0.071       0.281\n",
      "ma.L1          0.0253      0.107      0.235      0.814      -0.185       0.236\n",
      "ma.L2          0.5247      0.076      6.863      0.000       0.375       0.674\n",
      "ma.L3          0.0233      0.073      0.321      0.748      -0.119       0.166\n",
      "ma.L4         -0.2556      0.071     -3.599      0.000      -0.395      -0.116\n",
      "ma.L5         -0.2016      0.087     -2.325      0.020      -0.372      -0.032\n",
      "sigma2         1.3535      0.015     89.784      0.000       1.324       1.383\n",
      "===================================================================================\n",
      "Ljung-Box (L1) (Q):                   0.00   Jarque-Bera (JB):              6376.49\n",
      "Prob(Q):                              0.99   Prob(JB):                         0.00\n",
      "Heteroskedasticity (H):               2.00   Skew:                            -0.21\n",
      "Prob(H) (two-sided):                  0.00   Kurtosis:                         8.51\n",
      "===================================================================================\n",
      "\n",
      "Warnings:\n",
      "[1] Covariance matrix calculated using the outer product of gradients (complex-step).\n"
     ]
    }
   ],
   "source": [
    "#we start with ARMA(5,5) and move towards simpler models\n",
    "model_ret_ar_5_ma_5 = ARIMA(df_train.returns, order = (5,0,5))\n",
    "results_ret_ar_5_ma_5 = model_ret_ar_5_ma_5.fit()\n",
    "print(results_ret_ar_5_ma_5.summary())"
   ]
  },
  {
   "cell_type": "code",
   "execution_count": 54,
   "id": "1c55678e",
   "metadata": {
    "scrolled": true
   },
   "outputs": [
    {
     "name": "stdout",
     "output_type": "stream",
     "text": [
      "0.006\n"
     ]
    }
   ],
   "source": [
    "#nearly half the components are non-significant suggesting us that there is a simpler model which will perform better\n",
    "#we check the nested models of ARMA(5,5)\n",
    "\n",
    "#model_ret_ar_4_ma_5 = ARIMA(df_train.returns, order = (4,0,5))\n",
    "#results_ret_ar_4_ma_5 = model_ret_ar_4_ma_5.fit()\n",
    "#print(results_ret_ar_4_ma_5.summary())\n",
    "#print(LLR_test(model_ret_ar_4_ma_5, model_ret_ar_5_ma_5, DF = 1))\n",
    "#ARMA(5,5) is not better than ARMA(4,5)\n",
    "\n",
    "#model_ret_ar_3_ma_5 = ARIMA(df_train.returns, order = (3,0,5))\n",
    "#results_ret_ar_3_ma_5 = model_ret_ar_3_ma_5.fit()\n",
    "#print(results_ret_ar_3_ma_5.summary())\n",
    "#print(LLR_test(model_ret_ar_3_ma_5, model_ret_ar_4_ma_5, DF = 1))\n",
    "#ARMA(4,5) is not better than ARMA(3,5)\n",
    "\n",
    "#model_ret_ar_2_ma_5 = ARIMA(df_train.returns, order = (2,0,5))\n",
    "#results_ret_ar_2_ma_5 = model_ret_ar_2_ma_5.fit()\n",
    "#print(results_ret_ar_2_ma_5.summary())\n",
    "#print(LLR_test(model_ret_ar_2_ma_5, model_ret_ar_3_ma_5, DF = 1))\n",
    "#ARMA(3,5) is not better than ARMA(2,5)\n",
    "\n",
    "#model_ret_ar_1_ma_5 = ARIMA(df_train.returns, order = (1,0,5))\n",
    "#results_ret_ar_1_ma_5 = model_ret_ar_1_ma_5.fit()\n",
    "#print(results_ret_ar_1_ma_5.summary())\n",
    "#print(LLR_test(model_ret_ar_1_ma_5, model_ret_ar_2_ma_5, DF = 1))\n",
    "#ARMA(2,5) is comparable to ARMA(1,5) as even though it has higher llf and lower aic but it also has an insignificant component\n",
    "\n",
    "#model_ret_ar_5_ma_4 = ARIMA(df_train.returns, order = (5,0,4))\n",
    "#results_ret_ar_5_ma_4 = model_ret_ar_5_ma_4.fit()\n",
    "#print(results_ret_ar_5_ma_4.summary())\n",
    "#print(LLR_test(model_ret_ar_5_ma_4, model_ret_ar_5_ma_5, DF = 1))\n",
    "#ARMA(5,5) is not better than ARMA(5,4)\n",
    "\n",
    "#model_ret_ar_5_ma_3 = ARIMA(df_train.returns, order = (5,0,3))\n",
    "#results_ret_ar_5_ma_3 = model_ret_ar_5_ma_3.fit()\n",
    "#print(results_ret_ar_5_ma_3.summary())\n",
    "#print(LLR_test(model_ret_ar_5_ma_3, model_ret_ar_5_ma_4, DF = 1))\n",
    "#ARMA(5,4) is not better than ARMA(5,3)\n",
    "\n",
    "#model_ret_ar_5_ma_2 = ARIMA(df_train.returns, order = (5,0,2))\n",
    "#results_ret_ar_5_ma_2 = model_ret_ar_5_ma_2.fit()\n",
    "#print(results_ret_ar_5_ma_2.summary())\n",
    "#print(LLR_test(model_ret_ar_5_ma_2, model_ret_ar_5_ma_3, DF = 1))\n",
    "#ARMA(5,3) is not better than ARMA(5,2)\n",
    "\n",
    "#model_ret_ar_5_ma_1 = ARIMA(df_train.returns, order = (5,0,1))\n",
    "#results_ret_ar_5_ma_1 = model_ret_ar_5_ma_1.fit()\n",
    "#print(results_ret_ar_5_ma_1.summary())\n",
    "print(LLR_test(model_ret_ar_5_ma_1, model_ret_ar_5_ma_2, DF = 1))\n",
    "#ARMA(5,2) is better than ARMA(5,1)\n"
   ]
  },
  {
   "cell_type": "code",
   "execution_count": 55,
   "id": "45e5e4d5",
   "metadata": {},
   "outputs": [
    {
     "name": "stdout",
     "output_type": "stream",
     "text": [
      "\n",
      "ARMA(5,2): \tLLR =  -7877.106741628087 \tAIC =  15772.213483256173\n",
      "\n",
      "ARMA(1,5): \tLLR =  -7882.511290611292 \tAIC =  15781.022581222584\n"
     ]
    }
   ],
   "source": [
    "#on comparing various models, we have 3 models with all components being significant i.e., ARMA(1,5), ARMA(5,2) and ARMA(5,1)\n",
    "print('\\nARMA(5,2): \\tLLR = ', results_ret_ar_5_ma_2.llf, '\\tAIC = ',results_ret_ar_5_ma_2.aic)\n",
    "print('\\nARMA(1,5): \\tLLR = ', results_ret_ar_1_ma_5.llf, '\\tAIC = ',results_ret_ar_1_ma_5.aic)"
   ]
  },
  {
   "cell_type": "code",
   "execution_count": 56,
   "id": "be306409",
   "metadata": {},
   "outputs": [
    {
     "name": "stdout",
     "output_type": "stream",
     "text": [
      "\n",
      "ARMA(5,1): \tLLR =  -7880.923664500653 \tAIC =  15777.847329001306\n",
      "\n",
      "ARMA(1,5): \tLLR =  -7882.511290611292 \tAIC =  15781.022581222584\n"
     ]
    }
   ],
   "source": [
    "print('\\nARMA(5,1): \\tLLR = ', results_ret_ar_5_ma_1.llf, '\\tAIC = ',results_ret_ar_5_ma_1.aic)\n",
    "print('\\nARMA(1,5): \\tLLR = ', results_ret_ar_1_ma_5.llf, '\\tAIC = ',results_ret_ar_1_ma_5.aic)"
   ]
  },
  {
   "cell_type": "code",
   "execution_count": 58,
   "id": "31b03cc4",
   "metadata": {},
   "outputs": [
    {
     "name": "stdout",
     "output_type": "stream",
     "text": [
      "\n",
      "ARMA(5,2): \tLLR =  -7877.106741628087 \tAIC =  15772.213483256173\n",
      "\n",
      "ARMA(3,2): \tLLR =  -7887.424452393762 \tAIC =  15788.848904787525\n"
     ]
    }
   ],
   "source": [
    "#clearly ARMA(5,2) is better than all previous models. Compare it with ARMA(3,2) model\n",
    "print('\\nARMA(5,2): \\tLLR = ', results_ret_ar_5_ma_2.llf, '\\tAIC = ',results_ret_ar_5_ma_2.aic)\n",
    "print('\\nARMA(3,2): \\tLLR = ', results_ret_ar_3_ma_2.llf, '\\tAIC = ',results_ret_ar_3_ma_2.aic)"
   ]
  },
  {
   "cell_type": "code",
   "execution_count": 59,
   "id": "79a83066",
   "metadata": {
    "scrolled": true
   },
   "outputs": [
    {
     "data": {
      "image/png": "[encoded data removed]",
      "text/plain": [
       "<Figure size 1440x720 with 1 Axes>"
      ]
     },
     "metadata": {
      "needs_background": "light"
     },
     "output_type": "display_data"
    }
   ],
   "source": [
    "#ARMA(5,2) is the best model so far\n",
    "#checking it's residuals\n",
    "df_train['residuals_returns'] = results_ret_ar_5_ma_2.resid\n",
    "\n",
    "#plotting the residuals\n",
    "plt.plot(df_train['residuals_returns'])\n",
    "plt.title('Residuals for ARMA(5,2) model on returns',size = 12)\n",
    "plt.show()"
   ]
  },
  {
   "cell_type": "code",
   "execution_count": 62,
   "id": "f75e5fa3",
   "metadata": {
    "scrolled": true
   },
   "outputs": [
    {
     "data": {
      "image/png": "[encoded data removed]",
      "text/plain": [
       "<Figure size 1440x720 with 1 Axes>"
      ]
     },
     "metadata": {
      "needs_background": "light"
     },
     "output_type": "display_data"
    }
   ],
   "source": [
    "#plotting acf \n",
    "sgt.plot_acf(df_train.residuals_returns, lags = 40, zero = False)\n",
    "plt.title(\"ACF for residuals\", size = 12)\n",
    "plt.ylim(-.05,.05)\n",
    "plt.show()"
   ]
  },
  {
   "cell_type": "markdown",
   "id": "b36568d0",
   "metadata": {},
   "source": [
    "## ARMA for prices"
   ]
  },
  {
   "cell_type": "code",
   "execution_count": 63,
   "id": "4cd2ad15",
   "metadata": {},
   "outputs": [
    {
     "data": {
      "text/html": [
       "<table class=\"simpletable\">\n",
       "<caption>SARIMAX Results</caption>\n",
       "<tr>\n",
       "  <th>Dep. Variable:</th>     <td>market_value</td>   <th>  No. Observations:  </th>    <td>5013</td>   \n",
       "</tr>\n",
       "<tr>\n",
       "  <th>Model:</th>            <td>ARIMA(1, 0, 1)</td>  <th>  Log Likelihood     </th> <td>-27579.738</td>\n",
       "</tr>\n",
       "<tr>\n",
       "  <th>Date:</th>            <td>Sat, 28 Jan 2023</td> <th>  AIC                </th>  <td>55167.476</td>\n",
       "</tr>\n",
       "<tr>\n",
       "  <th>Time:</th>                <td>16:54:18</td>     <th>  BIC                </th>  <td>55193.556</td>\n",
       "</tr>\n",
       "<tr>\n",
       "  <th>Sample:</th>                  <td>0</td>        <th>  HQIC               </th>  <td>55176.616</td>\n",
       "</tr>\n",
       "<tr>\n",
       "  <th></th>                      <td> - 5013</td>     <th>                     </th>      <td> </td>    \n",
       "</tr>\n",
       "<tr>\n",
       "  <th>Covariance Type:</th>        <td>opg</td>       <th>                     </th>      <td> </td>    \n",
       "</tr>\n",
       "</table>\n",
       "<table class=\"simpletable\">\n",
       "<tr>\n",
       "     <td></td>       <th>coef</th>     <th>std err</th>      <th>z</th>      <th>P>|z|</th>  <th>[0.025</th>    <th>0.975]</th>  \n",
       "</tr>\n",
       "<tr>\n",
       "  <th>const</th>  <td> 5089.4483</td> <td>  369.277</td> <td>   13.782</td> <td> 0.000</td> <td> 4365.678</td> <td> 5813.218</td>\n",
       "</tr>\n",
       "<tr>\n",
       "  <th>ar.L1</th>  <td>    0.9982</td> <td>    0.001</td> <td> 1197.957</td> <td> 0.000</td> <td>    0.997</td> <td>    1.000</td>\n",
       "</tr>\n",
       "<tr>\n",
       "  <th>ma.L1</th>  <td>   -0.0192</td> <td>    0.010</td> <td>   -1.956</td> <td> 0.050</td> <td>   -0.038</td> <td> 3.62e-05</td>\n",
       "</tr>\n",
       "<tr>\n",
       "  <th>sigma2</th> <td> 3513.2696</td> <td>   41.129</td> <td>   85.421</td> <td> 0.000</td> <td> 3432.659</td> <td> 3593.880</td>\n",
       "</tr>\n",
       "</table>\n",
       "<table class=\"simpletable\">\n",
       "<tr>\n",
       "  <th>Ljung-Box (L1) (Q):</th>     <td>0.00</td> <th>  Jarque-Bera (JB):  </th> <td>3275.05</td>\n",
       "</tr>\n",
       "<tr>\n",
       "  <th>Prob(Q):</th>                <td>0.96</td> <th>  Prob(JB):          </th>  <td>0.00</td>  \n",
       "</tr>\n",
       "<tr>\n",
       "  <th>Heteroskedasticity (H):</th> <td>1.89</td> <th>  Skew:              </th>  <td>-0.19</td> \n",
       "</tr>\n",
       "<tr>\n",
       "  <th>Prob(H) (two-sided):</th>    <td>0.00</td> <th>  Kurtosis:          </th>  <td>6.94</td>  \n",
       "</tr>\n",
       "</table><br/><br/>Warnings:<br/>[1] Covariance matrix calculated using the outer product of gradients (complex-step)."
      ],
      "text/plain": [
       "<class 'statsmodels.iolib.summary.Summary'>\n",
       "\"\"\"\n",
       "                               SARIMAX Results                                \n",
       "==============================================================================\n",
       "Dep. Variable:           market_value   No. Observations:                 5013\n",
       "Model:                 ARIMA(1, 0, 1)   Log Likelihood              -27579.738\n",
       "Date:                Sat, 28 Jan 2023   AIC                          55167.476\n",
       "Time:                        16:54:18   BIC                          55193.556\n",
       "Sample:                             0   HQIC                         55176.616\n",
       "                               - 5013                                         \n",
       "Covariance Type:                  opg                                         \n",
       "==============================================================================\n",
       "                 coef    std err          z      P>|z|      [0.025      0.975]\n",
       "------------------------------------------------------------------------------\n",
       "const       5089.4483    369.277     13.782      0.000    4365.678    5813.218\n",
       "ar.L1          0.9982      0.001   1197.957      0.000       0.997       1.000\n",
       "ma.L1         -0.0192      0.010     -1.956      0.050      -0.038    3.62e-05\n",
       "sigma2      3513.2696     41.129     85.421      0.000    3432.659    3593.880\n",
       "===================================================================================\n",
       "Ljung-Box (L1) (Q):                   0.00   Jarque-Bera (JB):              3275.05\n",
       "Prob(Q):                              0.96   Prob(JB):                         0.00\n",
       "Heteroskedasticity (H):               1.89   Skew:                            -0.19\n",
       "Prob(H) (two-sided):                  0.00   Kurtosis:                         6.94\n",
       "===================================================================================\n",
       "\n",
       "Warnings:\n",
       "[1] Covariance matrix calculated using the outer product of gradients (complex-step).\n",
       "\"\"\""
      ]
     },
     "execution_count": 63,
     "metadata": {},
     "output_type": "execute_result"
    }
   ],
   "source": [
    "model_ar_1_ma_1 = ARIMA(df_train.market_value, order = (1,0,1))\n",
    "results_ar_1_ma_1 = model_ar_1_ma_1.fit()\n",
    "results_ar_1_ma_1.summary()"
   ]
  },
  {
   "cell_type": "code",
   "execution_count": 68,
   "id": "452e21c4",
   "metadata": {},
   "outputs": [
    {
     "data": {
      "image/png": "[encoded data removed]",
      "text/plain": [
       "<Figure size 1440x720 with 1 Axes>"
      ]
     },
     "metadata": {
      "needs_background": "light"
     },
     "output_type": "display_data"
    }
   ],
   "source": [
    "#to avoid selecting the best model only to find out we didn't incorporate enough lags, let's check the acf for residuals\n",
    "df_train['residuals_prices'] = results_ar_1_ma_1.resid\n",
    "#plotting acf \n",
    "sgt.plot_acf(df_train.residuals_prices, lags = 40, zero = False)\n",
    "plt.title(\"ACF for residuals of prices\", size = 12)\n",
    "plt.ylim(-.08,.05)\n",
    "plt.show()"
   ]
  },
  {
   "cell_type": "code",
   "execution_count": 69,
   "id": "2c3b91a6",
   "metadata": {
    "scrolled": true
   },
   "outputs": [
    {
     "data": {
      "text/html": [
       "<table class=\"simpletable\">\n",
       "<caption>SARIMAX Results</caption>\n",
       "<tr>\n",
       "  <th>Dep. Variable:</th>     <td>market_value</td>   <th>  No. Observations:  </th>    <td>5013</td>   \n",
       "</tr>\n",
       "<tr>\n",
       "  <th>Model:</th>            <td>ARIMA(6, 0, 6)</td>  <th>  Log Likelihood     </th> <td>-27549.964</td>\n",
       "</tr>\n",
       "<tr>\n",
       "  <th>Date:</th>            <td>Sat, 28 Jan 2023</td> <th>  AIC                </th>  <td>55127.929</td>\n",
       "</tr>\n",
       "<tr>\n",
       "  <th>Time:</th>                <td>16:57:51</td>     <th>  BIC                </th>  <td>55219.206</td>\n",
       "</tr>\n",
       "<tr>\n",
       "  <th>Sample:</th>                  <td>0</td>        <th>  HQIC               </th>  <td>55159.916</td>\n",
       "</tr>\n",
       "<tr>\n",
       "  <th></th>                      <td> - 5013</td>     <th>                     </th>      <td> </td>    \n",
       "</tr>\n",
       "<tr>\n",
       "  <th>Covariance Type:</th>        <td>opg</td>       <th>                     </th>      <td> </td>    \n",
       "</tr>\n",
       "</table>\n",
       "<table class=\"simpletable\">\n",
       "<tr>\n",
       "     <td></td>       <th>coef</th>     <th>std err</th>      <th>z</th>      <th>P>|z|</th>  <th>[0.025</th>    <th>0.975]</th>  \n",
       "</tr>\n",
       "<tr>\n",
       "  <th>const</th>  <td> 5089.4483</td> <td>  645.904</td> <td>    7.880</td> <td> 0.000</td> <td> 3823.500</td> <td> 6355.397</td>\n",
       "</tr>\n",
       "<tr>\n",
       "  <th>ar.L1</th>  <td>   -0.1018</td> <td>    0.357</td> <td>   -0.285</td> <td> 0.775</td> <td>   -0.801</td> <td>    0.598</td>\n",
       "</tr>\n",
       "<tr>\n",
       "  <th>ar.L2</th>  <td>   -0.2442</td> <td>    0.287</td> <td>   -0.852</td> <td> 0.394</td> <td>   -0.806</td> <td>    0.317</td>\n",
       "</tr>\n",
       "<tr>\n",
       "  <th>ar.L3</th>  <td>   -0.0389</td> <td>    0.371</td> <td>   -0.105</td> <td> 0.917</td> <td>   -0.767</td> <td>    0.689</td>\n",
       "</tr>\n",
       "<tr>\n",
       "  <th>ar.L4</th>  <td>    0.7769</td> <td>    0.331</td> <td>    2.350</td> <td> 0.019</td> <td>    0.129</td> <td>    1.425</td>\n",
       "</tr>\n",
       "<tr>\n",
       "  <th>ar.L5</th>  <td>    0.3293</td> <td>    0.092</td> <td>    3.593</td> <td> 0.000</td> <td>    0.150</td> <td>    0.509</td>\n",
       "</tr>\n",
       "<tr>\n",
       "  <th>ar.L6</th>  <td>    0.2736</td> <td>    0.173</td> <td>    1.585</td> <td> 0.113</td> <td>   -0.065</td> <td>    0.612</td>\n",
       "</tr>\n",
       "<tr>\n",
       "  <th>ma.L1</th>  <td>    1.0812</td> <td>    0.356</td> <td>    3.036</td> <td> 0.002</td> <td>    0.383</td> <td>    1.779</td>\n",
       "</tr>\n",
       "<tr>\n",
       "  <th>ma.L2</th>  <td>    1.2790</td> <td>    0.152</td> <td>    8.407</td> <td> 0.000</td> <td>    0.981</td> <td>    1.577</td>\n",
       "</tr>\n",
       "<tr>\n",
       "  <th>ma.L3</th>  <td>    1.2442</td> <td>    0.444</td> <td>    2.802</td> <td> 0.005</td> <td>    0.374</td> <td>    2.114</td>\n",
       "</tr>\n",
       "<tr>\n",
       "  <th>ma.L4</th>  <td>    0.4995</td> <td>    0.148</td> <td>    3.372</td> <td> 0.001</td> <td>    0.209</td> <td>    0.790</td>\n",
       "</tr>\n",
       "<tr>\n",
       "  <th>ma.L5</th>  <td>    0.1646</td> <td>    0.166</td> <td>    0.994</td> <td> 0.320</td> <td>   -0.160</td> <td>    0.489</td>\n",
       "</tr>\n",
       "<tr>\n",
       "  <th>ma.L6</th>  <td>   -0.0879</td> <td>    0.033</td> <td>   -2.653</td> <td> 0.008</td> <td>   -0.153</td> <td>   -0.023</td>\n",
       "</tr>\n",
       "<tr>\n",
       "  <th>sigma2</th> <td> 3483.9725</td> <td>   43.595</td> <td>   79.917</td> <td> 0.000</td> <td> 3398.529</td> <td> 3569.416</td>\n",
       "</tr>\n",
       "</table>\n",
       "<table class=\"simpletable\">\n",
       "<tr>\n",
       "  <th>Ljung-Box (L1) (Q):</th>     <td>0.00</td> <th>  Jarque-Bera (JB):  </th> <td>2958.09</td>\n",
       "</tr>\n",
       "<tr>\n",
       "  <th>Prob(Q):</th>                <td>1.00</td> <th>  Prob(JB):          </th>  <td>0.00</td>  \n",
       "</tr>\n",
       "<tr>\n",
       "  <th>Heteroskedasticity (H):</th> <td>1.88</td> <th>  Skew:              </th>  <td>-0.27</td> \n",
       "</tr>\n",
       "<tr>\n",
       "  <th>Prob(H) (two-sided):</th>    <td>0.00</td> <th>  Kurtosis:          </th>  <td>6.73</td>  \n",
       "</tr>\n",
       "</table><br/><br/>Warnings:<br/>[1] Covariance matrix calculated using the outer product of gradients (complex-step)."
      ],
      "text/plain": [
       "<class 'statsmodels.iolib.summary.Summary'>\n",
       "\"\"\"\n",
       "                               SARIMAX Results                                \n",
       "==============================================================================\n",
       "Dep. Variable:           market_value   No. Observations:                 5013\n",
       "Model:                 ARIMA(6, 0, 6)   Log Likelihood              -27549.964\n",
       "Date:                Sat, 28 Jan 2023   AIC                          55127.929\n",
       "Time:                        16:57:51   BIC                          55219.206\n",
       "Sample:                             0   HQIC                         55159.916\n",
       "                               - 5013                                         \n",
       "Covariance Type:                  opg                                         \n",
       "==============================================================================\n",
       "                 coef    std err          z      P>|z|      [0.025      0.975]\n",
       "------------------------------------------------------------------------------\n",
       "const       5089.4483    645.904      7.880      0.000    3823.500    6355.397\n",
       "ar.L1         -0.1018      0.357     -0.285      0.775      -0.801       0.598\n",
       "ar.L2         -0.2442      0.287     -0.852      0.394      -0.806       0.317\n",
       "ar.L3         -0.0389      0.371     -0.105      0.917      -0.767       0.689\n",
       "ar.L4          0.7769      0.331      2.350      0.019       0.129       1.425\n",
       "ar.L5          0.3293      0.092      3.593      0.000       0.150       0.509\n",
       "ar.L6          0.2736      0.173      1.585      0.113      -0.065       0.612\n",
       "ma.L1          1.0812      0.356      3.036      0.002       0.383       1.779\n",
       "ma.L2          1.2790      0.152      8.407      0.000       0.981       1.577\n",
       "ma.L3          1.2442      0.444      2.802      0.005       0.374       2.114\n",
       "ma.L4          0.4995      0.148      3.372      0.001       0.209       0.790\n",
       "ma.L5          0.1646      0.166      0.994      0.320      -0.160       0.489\n",
       "ma.L6         -0.0879      0.033     -2.653      0.008      -0.153      -0.023\n",
       "sigma2      3483.9725     43.595     79.917      0.000    3398.529    3569.416\n",
       "===================================================================================\n",
       "Ljung-Box (L1) (Q):                   0.00   Jarque-Bera (JB):              2958.09\n",
       "Prob(Q):                              1.00   Prob(JB):                         0.00\n",
       "Heteroskedasticity (H):               1.88   Skew:                            -0.27\n",
       "Prob(H) (two-sided):                  0.00   Kurtosis:                         6.73\n",
       "===================================================================================\n",
       "\n",
       "Warnings:\n",
       "[1] Covariance matrix calculated using the outer product of gradients (complex-step).\n",
       "\"\"\""
      ]
     },
     "execution_count": 69,
     "metadata": {},
     "output_type": "execute_result"
    }
   ],
   "source": [
    "#we see that 5 of the first 6 lags are significant, therefore we must look into variations of models inculding 6 lags in MA or AR\n",
    "model_ar_6_ma_6 = ARIMA(df_train.market_value, order = (6,0,6))\n",
    "results_ar_6_ma_6 = model_ar_6_ma_6.fit()\n",
    "results_ar_6_ma_6.summary()"
   ]
  },
  {
   "cell_type": "code",
   "execution_count": 91,
   "id": "2200a9e8",
   "metadata": {},
   "outputs": [
    {
     "name": "stdout",
     "output_type": "stream",
     "text": [
      "0.006\n"
     ]
    }
   ],
   "source": [
    "#nearly half the coefficients are insignificant suggesting there is a simpler model which is better than this\n",
    "#checking all possible 10 models\n",
    "\n",
    "#model_ar_5_ma_6 = ARIMA(df_train.market_value, order = (5,0,6))\n",
    "#results_ar_5_ma_6 = model_ar_5_ma_6.fit()\n",
    "#print(results_ar_5_ma_6.summary())\n",
    "#print(LLR_test(model_ar_5_ma_6, model_ar_6_ma_6, DF = 1))\n",
    "#ARMA(6,6) is not better than ARMA(5,6)\n",
    "\n",
    "#model_ar_4_ma_6 = ARIMA(df_train.market_value, order = (4,0,6))\n",
    "#results_ar_4_ma_6 = model_ar_4_ma_6.fit()\n",
    "#print(results_ar_4_ma_6.summary())\n",
    "#print(LLR_test(model_ar_4_ma_6, model_ar_5_ma_6, DF = 1))\n",
    "#ARMA(4,6) is better than ARMA(5,6)\n",
    "\n",
    "#model_ar_3_ma_6 = ARIMA(df_train.market_value, order = (3,0,6))\n",
    "#results_ar_3_ma_6 = model_ar_3_ma_6.fit()\n",
    "#print(results_ar_3_ma_6.summary())\n",
    "#print(LLR_test(model_ar_3_ma_6, model_ar_4_ma_6, DF = 1))\n",
    "#ARMA(3,6) is better than ARMA(4,6)\n",
    "\n",
    "#model_ar_2_ma_6 = ARIMA(df_train.market_value, order = (2,0,6))\n",
    "#results_ar_2_ma_6 = model_ar_2_ma_6.fit()\n",
    "#print(results_ar_2_ma_6.summary())\n",
    "#print(LLR_test(model_ar_2_ma_6, model_ar_3_ma_6, DF = 1))\n",
    "#ARMA(2,6) is not better than ARMA(3,6)\n",
    "\n",
    "#model_ar_1_ma_6 = ARIMA(df_train.market_value, order = (1,0,6))\n",
    "#results_ar_1_ma_6 = model_ar_1_ma_6.fit()\n",
    "#print(results_ar_1_ma_6.summary())\n",
    "#print(LLR_test(model_ar_1_ma_6, model_ar_3_ma_6, DF = 2))\n",
    "#ARMA(1,6) is not better than ARMA(3,6)\n",
    "\n",
    "#one potential best model is ARMA(3,6)\n",
    "\n",
    "#model_ar_6_ma_5 = ARIMA(df_train.market_value, order = (6,0,5))\n",
    "#results_ar_6_ma_5 = model_ar_6_ma_5.fit()\n",
    "#print(results_ar_6_ma_5.summary())\n",
    "#print(LLR_test(model_ar_6_ma_5, model_ar_6_ma_6, DF = 1))\n",
    "#ARMA(6,6) is not better than ARMA(6,5)\n",
    "\n",
    "#model_ar_6_ma_4 = ARIMA(df_train.market_value, order = (6,0,4))\n",
    "#results_ar_6_ma_4 = model_ar_6_ma_4.fit()\n",
    "#print(results_ar_6_ma_4.summary())\n",
    "#print(LLR_test(model_ar_6_ma_4, model_ar_6_ma_5, DF = 1))\n",
    "#ARMA(6,5) is not better than ARMA(6,4)\n",
    "\n",
    "#model_ar_6_ma_3 = ARIMA(df_train.market_value, order = (6,0,3))\n",
    "#results_ar_6_ma_3 = model_ar_6_ma_3.fit()\n",
    "#print(results_ar_6_ma_3.summary())\n",
    "#print(LLR_test(model_ar_6_ma_3, model_ar_6_ma_4, DF = 1))\n",
    "#ARMA(6,4) is better than ARMA(6,3)\n",
    "\n",
    "#model_ar_6_ma_2 = ARIMA(df_train.market_value, order = (6,0,2))\n",
    "#results_ar_6_ma_2 = model_ar_6_ma_2.fit()\n",
    "#print(results_ar_6_ma_2.summary())\n",
    "#print(LLR_test(model_ar_6_ma_2, model_ar_6_ma_4, DF = 2))\n",
    "#ARMA(6,2) is better than ARMA(6,3)\n",
    "#ARMA(6,2) is better than ARMA(6,4)\n",
    "\n",
    "#model_ar_6_ma_1 = ARIMA(df_train.market_value, order = (6,0,1))\n",
    "#results_ar_6_ma_1 = model_ar_6_ma_1.fit()\n",
    "#print(results_ar_6_ma_1.summary())\n",
    "#print(LLR_test(model_ar_6_ma_1, model_ar_6_ma_2, DF = 1))\n",
    "#ARMA(6,1) is not better than ARMA(6,2)\n",
    "\n",
    "#ARMA(6,2) is another potential best model"
   ]
  },
  {
   "cell_type": "code",
   "execution_count": 88,
   "id": "51cd566d",
   "metadata": {},
   "outputs": [
    {
     "name": "stdout",
     "output_type": "stream",
     "text": [
      "\n",
      "ARMA(6,6): \tLLR =  -27549.964282197216 \tAIC =  55127.92856439443\n",
      "\n",
      "ARMA(5,6): \tLLR =  -27547.976095036985 \tAIC =  55121.95219007397\n",
      "\n",
      "ARMA(4,6): \tLLR =  -27547.962706633138 \tAIC =  55119.925413266275\n",
      "\n",
      "ARMA(3,6): \tLLR =  -27548.019950447444 \tAIC =  55118.03990089489\n",
      "\n",
      "ARMA(2,6): \tLLR =  -27551.25538621746 \tAIC =  55122.51077243492\n",
      "\n",
      "ARMA(1,6): \tLLR =  -27551.456350725068 \tAIC =  55120.912701450136\n"
     ]
    }
   ],
   "source": [
    "print('\\nARMA(6,6): \\tLLR = ', results_ar_6_ma_6.llf, '\\tAIC = ',results_ar_6_ma_6.aic)\n",
    "print('\\nARMA(5,6): \\tLLR = ', results_ar_5_ma_6.llf, '\\tAIC = ',results_ar_5_ma_6.aic)\n",
    "print('\\nARMA(4,6): \\tLLR = ', results_ar_4_ma_6.llf, '\\tAIC = ',results_ar_4_ma_6.aic)\n",
    "print('\\nARMA(3,6): \\tLLR = ', results_ar_3_ma_6.llf, '\\tAIC = ',results_ar_3_ma_6.aic)\n",
    "print('\\nARMA(2,6): \\tLLR = ', results_ar_2_ma_6.llf, '\\tAIC = ',results_ar_2_ma_6.aic)\n",
    "print('\\nARMA(1,6): \\tLLR = ', results_ar_1_ma_6.llf, '\\tAIC = ',results_ar_1_ma_6.aic)\n",
    "\n",
    "#ARMA(3,6) is the best among these"
   ]
  },
  {
   "cell_type": "code",
   "execution_count": 90,
   "id": "35a80e49",
   "metadata": {},
   "outputs": [
    {
     "name": "stdout",
     "output_type": "stream",
     "text": [
      "\n",
      "ARMA(6,1): \tLLR =  -27552.490941120224 \tAIC =  55122.98188224045\n",
      "\n",
      "ARMA(6,2): \tLLR =  -27548.765785904125 \tAIC =  55117.53157180825\n",
      "\n",
      "ARMA(6,3): \tLLR =  -27553.590361572373 \tAIC =  55129.180723144746\n",
      "\n",
      "ARMA(6,4): \tLLR =  -27549.535210078255 \tAIC =  55123.07042015651\n",
      "\n",
      "ARMA(6,5): \tLLR =  -27547.85066124703 \tAIC =  55121.70132249406\n",
      "\n",
      "ARMA(6,6): \tLLR =  -27549.964282197216 \tAIC =  55127.92856439443\n"
     ]
    }
   ],
   "source": [
    "print('\\nARMA(6,1): \\tLLR = ', results_ar_6_ma_1.llf, '\\tAIC = ',results_ar_6_ma_1.aic)\n",
    "print('\\nARMA(6,2): \\tLLR = ', results_ar_6_ma_2.llf, '\\tAIC = ',results_ar_6_ma_2.aic)\n",
    "print('\\nARMA(6,3): \\tLLR = ', results_ar_6_ma_3.llf, '\\tAIC = ',results_ar_6_ma_3.aic)\n",
    "print('\\nARMA(6,4): \\tLLR = ', results_ar_6_ma_4.llf, '\\tAIC = ',results_ar_6_ma_4.aic)\n",
    "print('\\nARMA(6,5): \\tLLR = ', results_ar_6_ma_5.llf, '\\tAIC = ',results_ar_6_ma_5.aic)\n",
    "print('\\nARMA(6,6): \\tLLR = ', results_ar_6_ma_6.llf, '\\tAIC = ',results_ar_6_ma_6.aic)\n",
    "\n",
    "#ARMA(6,2) is best among these"
   ]
  },
  {
   "cell_type": "code",
   "execution_count": 95,
   "id": "07489a08",
   "metadata": {},
   "outputs": [
    {
     "data": {
      "image/png": "[encoded data removed]",
      "text/plain": [
       "<Figure size 1440x720 with 1 Axes>"
      ]
     },
     "metadata": {
      "needs_background": "light"
     },
     "output_type": "display_data"
    }
   ],
   "source": [
    "#checking residuals for both models\n",
    "df_train['residuals_prices_ARMA(6,2)'] = results_ar_6_ma_2.resid\n",
    "#plotting acf \n",
    "sgt.plot_acf(df_train['residuals_prices_ARMA(6,2)'], lags = 40, zero = False)\n",
    "plt.title(\"ACF for residuals of prices\", size = 12)\n",
    "plt.ylim(-.04,.03)\n",
    "plt.show()"
   ]
  },
  {
   "cell_type": "code",
   "execution_count": 94,
   "id": "e0c80d27",
   "metadata": {},
   "outputs": [
    {
     "data": {
      "image/png": "[encoded data removed]",
      "text/plain": [
       "<Figure size 1440x720 with 1 Axes>"
      ]
     },
     "metadata": {
      "needs_background": "light"
     },
     "output_type": "display_data"
    }
   ],
   "source": [
    "df_train['residuals_prices_ARMA(3,6)'] = results_ar_3_ma_6.resid\n",
    "#plotting acf \n",
    "sgt.plot_acf(df_train['residuals_prices_ARMA(3,6)'], lags = 40, zero = False)\n",
    "plt.title(\"ACF for residuals of prices\", size = 12)\n",
    "plt.ylim(-.04,.03)\n",
    "plt.show()"
   ]
  },
  {
   "cell_type": "code",
   "execution_count": null,
   "id": "f92c3c67",
   "metadata": {},
   "outputs": [],
   "source": [
    "#both models look equally good"
   ]
  }
 ],
 "metadata": {
  "kernelspec": {
   "display_name": "Python 3",
   "language": "python",
   "name": "python3"
  },
  "language_info": {
   "codemirror_mode": {
    "name": "ipython",
    "version": 3
   },
   "file_extension": ".py",
   "mimetype": "text/x-python",
   "name": "python",
   "nbconvert_exporter": "python",
   "pygments_lexer": "ipython3",
   "version": "3.8.8"
  }
 },
 "nbformat": 4,
 "nbformat_minor": 5
}
